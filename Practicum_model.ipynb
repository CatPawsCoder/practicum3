{
  "nbformat": 4,
  "nbformat_minor": 0,
  "metadata": {
    "colab": {
      "provenance": [],
      "machine_shape": "hm",
      "gpuType": "T4"
    },
    "kernelspec": {
      "name": "python3",
      "display_name": "Python 3"
    },
    "language_info": {
      "name": "python"
    },
    "accelerator": "GPU",
    "widgets": {
      "application/vnd.jupyter.widget-state+json": {
        "50d0e2f85be8408f91e556b2e5200f34": {
          "model_module": "@jupyter-widgets/controls",
          "model_name": "HBoxModel",
          "model_module_version": "1.5.0",
          "state": {
            "_dom_classes": [],
            "_model_module": "@jupyter-widgets/controls",
            "_model_module_version": "1.5.0",
            "_model_name": "HBoxModel",
            "_view_count": null,
            "_view_module": "@jupyter-widgets/controls",
            "_view_module_version": "1.5.0",
            "_view_name": "HBoxView",
            "box_style": "",
            "children": [
              "IPY_MODEL_b9c611287f32440ebb1e5254401e1480",
              "IPY_MODEL_3ad865f6cad54d88bab26afe822e45a9",
              "IPY_MODEL_d07f6ce9a71c4e3aa6366b3f65f454e4"
            ],
            "layout": "IPY_MODEL_50af82d859304fb2bb65b0874ddc6dc5"
          }
        },
        "b9c611287f32440ebb1e5254401e1480": {
          "model_module": "@jupyter-widgets/controls",
          "model_name": "HTMLModel",
          "model_module_version": "1.5.0",
          "state": {
            "_dom_classes": [],
            "_model_module": "@jupyter-widgets/controls",
            "_model_module_version": "1.5.0",
            "_model_name": "HTMLModel",
            "_view_count": null,
            "_view_module": "@jupyter-widgets/controls",
            "_view_module_version": "1.5.0",
            "_view_name": "HTMLView",
            "description": "",
            "description_tooltip": null,
            "layout": "IPY_MODEL_0c030481748a4cfb9f595e8d80d62a30",
            "placeholder": "​",
            "style": "IPY_MODEL_c4c482efaf534684a005f6441c19bc37",
            "value": "tokenizer_config.json: 100%"
          }
        },
        "3ad865f6cad54d88bab26afe822e45a9": {
          "model_module": "@jupyter-widgets/controls",
          "model_name": "FloatProgressModel",
          "model_module_version": "1.5.0",
          "state": {
            "_dom_classes": [],
            "_model_module": "@jupyter-widgets/controls",
            "_model_module_version": "1.5.0",
            "_model_name": "FloatProgressModel",
            "_view_count": null,
            "_view_module": "@jupyter-widgets/controls",
            "_view_module_version": "1.5.0",
            "_view_name": "ProgressView",
            "bar_style": "success",
            "description": "",
            "description_tooltip": null,
            "layout": "IPY_MODEL_444ce30187de4f08b7a96e5e0541eae4",
            "max": 1252,
            "min": 0,
            "orientation": "horizontal",
            "style": "IPY_MODEL_52f3c0eae0c441f3a7d6665efe35a9eb",
            "value": 1252
          }
        },
        "d07f6ce9a71c4e3aa6366b3f65f454e4": {
          "model_module": "@jupyter-widgets/controls",
          "model_name": "HTMLModel",
          "model_module_version": "1.5.0",
          "state": {
            "_dom_classes": [],
            "_model_module": "@jupyter-widgets/controls",
            "_model_module_version": "1.5.0",
            "_model_name": "HTMLModel",
            "_view_count": null,
            "_view_module": "@jupyter-widgets/controls",
            "_view_module_version": "1.5.0",
            "_view_name": "HTMLView",
            "description": "",
            "description_tooltip": null,
            "layout": "IPY_MODEL_d626a918130a4383acd7460b6031189a",
            "placeholder": "​",
            "style": "IPY_MODEL_adebdca2acc849788acb0d22d8d0863f",
            "value": " 1.25k/1.25k [00:00&lt;00:00, 105kB/s]"
          }
        },
        "50af82d859304fb2bb65b0874ddc6dc5": {
          "model_module": "@jupyter-widgets/base",
          "model_name": "LayoutModel",
          "model_module_version": "1.2.0",
          "state": {
            "_model_module": "@jupyter-widgets/base",
            "_model_module_version": "1.2.0",
            "_model_name": "LayoutModel",
            "_view_count": null,
            "_view_module": "@jupyter-widgets/base",
            "_view_module_version": "1.2.0",
            "_view_name": "LayoutView",
            "align_content": null,
            "align_items": null,
            "align_self": null,
            "border": null,
            "bottom": null,
            "display": null,
            "flex": null,
            "flex_flow": null,
            "grid_area": null,
            "grid_auto_columns": null,
            "grid_auto_flow": null,
            "grid_auto_rows": null,
            "grid_column": null,
            "grid_gap": null,
            "grid_row": null,
            "grid_template_areas": null,
            "grid_template_columns": null,
            "grid_template_rows": null,
            "height": null,
            "justify_content": null,
            "justify_items": null,
            "left": null,
            "margin": null,
            "max_height": null,
            "max_width": null,
            "min_height": null,
            "min_width": null,
            "object_fit": null,
            "object_position": null,
            "order": null,
            "overflow": null,
            "overflow_x": null,
            "overflow_y": null,
            "padding": null,
            "right": null,
            "top": null,
            "visibility": null,
            "width": null
          }
        },
        "0c030481748a4cfb9f595e8d80d62a30": {
          "model_module": "@jupyter-widgets/base",
          "model_name": "LayoutModel",
          "model_module_version": "1.2.0",
          "state": {
            "_model_module": "@jupyter-widgets/base",
            "_model_module_version": "1.2.0",
            "_model_name": "LayoutModel",
            "_view_count": null,
            "_view_module": "@jupyter-widgets/base",
            "_view_module_version": "1.2.0",
            "_view_name": "LayoutView",
            "align_content": null,
            "align_items": null,
            "align_self": null,
            "border": null,
            "bottom": null,
            "display": null,
            "flex": null,
            "flex_flow": null,
            "grid_area": null,
            "grid_auto_columns": null,
            "grid_auto_flow": null,
            "grid_auto_rows": null,
            "grid_column": null,
            "grid_gap": null,
            "grid_row": null,
            "grid_template_areas": null,
            "grid_template_columns": null,
            "grid_template_rows": null,
            "height": null,
            "justify_content": null,
            "justify_items": null,
            "left": null,
            "margin": null,
            "max_height": null,
            "max_width": null,
            "min_height": null,
            "min_width": null,
            "object_fit": null,
            "object_position": null,
            "order": null,
            "overflow": null,
            "overflow_x": null,
            "overflow_y": null,
            "padding": null,
            "right": null,
            "top": null,
            "visibility": null,
            "width": null
          }
        },
        "c4c482efaf534684a005f6441c19bc37": {
          "model_module": "@jupyter-widgets/controls",
          "model_name": "DescriptionStyleModel",
          "model_module_version": "1.5.0",
          "state": {
            "_model_module": "@jupyter-widgets/controls",
            "_model_module_version": "1.5.0",
            "_model_name": "DescriptionStyleModel",
            "_view_count": null,
            "_view_module": "@jupyter-widgets/base",
            "_view_module_version": "1.2.0",
            "_view_name": "StyleView",
            "description_width": ""
          }
        },
        "444ce30187de4f08b7a96e5e0541eae4": {
          "model_module": "@jupyter-widgets/base",
          "model_name": "LayoutModel",
          "model_module_version": "1.2.0",
          "state": {
            "_model_module": "@jupyter-widgets/base",
            "_model_module_version": "1.2.0",
            "_model_name": "LayoutModel",
            "_view_count": null,
            "_view_module": "@jupyter-widgets/base",
            "_view_module_version": "1.2.0",
            "_view_name": "LayoutView",
            "align_content": null,
            "align_items": null,
            "align_self": null,
            "border": null,
            "bottom": null,
            "display": null,
            "flex": null,
            "flex_flow": null,
            "grid_area": null,
            "grid_auto_columns": null,
            "grid_auto_flow": null,
            "grid_auto_rows": null,
            "grid_column": null,
            "grid_gap": null,
            "grid_row": null,
            "grid_template_areas": null,
            "grid_template_columns": null,
            "grid_template_rows": null,
            "height": null,
            "justify_content": null,
            "justify_items": null,
            "left": null,
            "margin": null,
            "max_height": null,
            "max_width": null,
            "min_height": null,
            "min_width": null,
            "object_fit": null,
            "object_position": null,
            "order": null,
            "overflow": null,
            "overflow_x": null,
            "overflow_y": null,
            "padding": null,
            "right": null,
            "top": null,
            "visibility": null,
            "width": null
          }
        },
        "52f3c0eae0c441f3a7d6665efe35a9eb": {
          "model_module": "@jupyter-widgets/controls",
          "model_name": "ProgressStyleModel",
          "model_module_version": "1.5.0",
          "state": {
            "_model_module": "@jupyter-widgets/controls",
            "_model_module_version": "1.5.0",
            "_model_name": "ProgressStyleModel",
            "_view_count": null,
            "_view_module": "@jupyter-widgets/base",
            "_view_module_version": "1.2.0",
            "_view_name": "StyleView",
            "bar_color": null,
            "description_width": ""
          }
        },
        "d626a918130a4383acd7460b6031189a": {
          "model_module": "@jupyter-widgets/base",
          "model_name": "LayoutModel",
          "model_module_version": "1.2.0",
          "state": {
            "_model_module": "@jupyter-widgets/base",
            "_model_module_version": "1.2.0",
            "_model_name": "LayoutModel",
            "_view_count": null,
            "_view_module": "@jupyter-widgets/base",
            "_view_module_version": "1.2.0",
            "_view_name": "LayoutView",
            "align_content": null,
            "align_items": null,
            "align_self": null,
            "border": null,
            "bottom": null,
            "display": null,
            "flex": null,
            "flex_flow": null,
            "grid_area": null,
            "grid_auto_columns": null,
            "grid_auto_flow": null,
            "grid_auto_rows": null,
            "grid_column": null,
            "grid_gap": null,
            "grid_row": null,
            "grid_template_areas": null,
            "grid_template_columns": null,
            "grid_template_rows": null,
            "height": null,
            "justify_content": null,
            "justify_items": null,
            "left": null,
            "margin": null,
            "max_height": null,
            "max_width": null,
            "min_height": null,
            "min_width": null,
            "object_fit": null,
            "object_position": null,
            "order": null,
            "overflow": null,
            "overflow_x": null,
            "overflow_y": null,
            "padding": null,
            "right": null,
            "top": null,
            "visibility": null,
            "width": null
          }
        },
        "adebdca2acc849788acb0d22d8d0863f": {
          "model_module": "@jupyter-widgets/controls",
          "model_name": "DescriptionStyleModel",
          "model_module_version": "1.5.0",
          "state": {
            "_model_module": "@jupyter-widgets/controls",
            "_model_module_version": "1.5.0",
            "_model_name": "DescriptionStyleModel",
            "_view_count": null,
            "_view_module": "@jupyter-widgets/base",
            "_view_module_version": "1.2.0",
            "_view_name": "StyleView",
            "description_width": ""
          }
        },
        "29c0603bb9c848739d9f0d1d7ee13d9e": {
          "model_module": "@jupyter-widgets/controls",
          "model_name": "HBoxModel",
          "model_module_version": "1.5.0",
          "state": {
            "_dom_classes": [],
            "_model_module": "@jupyter-widgets/controls",
            "_model_module_version": "1.5.0",
            "_model_name": "HBoxModel",
            "_view_count": null,
            "_view_module": "@jupyter-widgets/controls",
            "_view_module_version": "1.5.0",
            "_view_name": "HBoxView",
            "box_style": "",
            "children": [
              "IPY_MODEL_6ade3a16ee8b403aa3975d2062b48eae",
              "IPY_MODEL_641df968a5fb45cdbbae1aaf088f8f7e",
              "IPY_MODEL_86770aa8a9844f70bbc673ebc7024e39"
            ],
            "layout": "IPY_MODEL_8730425f34dc4f27b0181e1d14461144"
          }
        },
        "6ade3a16ee8b403aa3975d2062b48eae": {
          "model_module": "@jupyter-widgets/controls",
          "model_name": "HTMLModel",
          "model_module_version": "1.5.0",
          "state": {
            "_dom_classes": [],
            "_model_module": "@jupyter-widgets/controls",
            "_model_module_version": "1.5.0",
            "_model_name": "HTMLModel",
            "_view_count": null,
            "_view_module": "@jupyter-widgets/controls",
            "_view_module_version": "1.5.0",
            "_view_name": "HTMLView",
            "description": "",
            "description_tooltip": null,
            "layout": "IPY_MODEL_3936000a8ee5438fba9512557d8d6d0a",
            "placeholder": "​",
            "style": "IPY_MODEL_cbc63f8708af46f9a991f5b009ef624b",
            "value": "vocab.json: 100%"
          }
        },
        "641df968a5fb45cdbbae1aaf088f8f7e": {
          "model_module": "@jupyter-widgets/controls",
          "model_name": "FloatProgressModel",
          "model_module_version": "1.5.0",
          "state": {
            "_dom_classes": [],
            "_model_module": "@jupyter-widgets/controls",
            "_model_module_version": "1.5.0",
            "_model_name": "FloatProgressModel",
            "_view_count": null,
            "_view_module": "@jupyter-widgets/controls",
            "_view_module_version": "1.5.0",
            "_view_name": "ProgressView",
            "bar_style": "success",
            "description": "",
            "description_tooltip": null,
            "layout": "IPY_MODEL_7101faa2182448ae83901f093340cd18",
            "max": 1713123,
            "min": 0,
            "orientation": "horizontal",
            "style": "IPY_MODEL_05a908efde5240db92e5d4c1781d5355",
            "value": 1713123
          }
        },
        "86770aa8a9844f70bbc673ebc7024e39": {
          "model_module": "@jupyter-widgets/controls",
          "model_name": "HTMLModel",
          "model_module_version": "1.5.0",
          "state": {
            "_dom_classes": [],
            "_model_module": "@jupyter-widgets/controls",
            "_model_module_version": "1.5.0",
            "_model_name": "HTMLModel",
            "_view_count": null,
            "_view_module": "@jupyter-widgets/controls",
            "_view_module_version": "1.5.0",
            "_view_name": "HTMLView",
            "description": "",
            "description_tooltip": null,
            "layout": "IPY_MODEL_47c5dac69d9448a58f180782ebe1560c",
            "placeholder": "​",
            "style": "IPY_MODEL_ec4907fa2e264ed5874b6f99d81ba6b7",
            "value": " 1.71M/1.71M [00:00&lt;00:00, 12.8MB/s]"
          }
        },
        "8730425f34dc4f27b0181e1d14461144": {
          "model_module": "@jupyter-widgets/base",
          "model_name": "LayoutModel",
          "model_module_version": "1.2.0",
          "state": {
            "_model_module": "@jupyter-widgets/base",
            "_model_module_version": "1.2.0",
            "_model_name": "LayoutModel",
            "_view_count": null,
            "_view_module": "@jupyter-widgets/base",
            "_view_module_version": "1.2.0",
            "_view_name": "LayoutView",
            "align_content": null,
            "align_items": null,
            "align_self": null,
            "border": null,
            "bottom": null,
            "display": null,
            "flex": null,
            "flex_flow": null,
            "grid_area": null,
            "grid_auto_columns": null,
            "grid_auto_flow": null,
            "grid_auto_rows": null,
            "grid_column": null,
            "grid_gap": null,
            "grid_row": null,
            "grid_template_areas": null,
            "grid_template_columns": null,
            "grid_template_rows": null,
            "height": null,
            "justify_content": null,
            "justify_items": null,
            "left": null,
            "margin": null,
            "max_height": null,
            "max_width": null,
            "min_height": null,
            "min_width": null,
            "object_fit": null,
            "object_position": null,
            "order": null,
            "overflow": null,
            "overflow_x": null,
            "overflow_y": null,
            "padding": null,
            "right": null,
            "top": null,
            "visibility": null,
            "width": null
          }
        },
        "3936000a8ee5438fba9512557d8d6d0a": {
          "model_module": "@jupyter-widgets/base",
          "model_name": "LayoutModel",
          "model_module_version": "1.2.0",
          "state": {
            "_model_module": "@jupyter-widgets/base",
            "_model_module_version": "1.2.0",
            "_model_name": "LayoutModel",
            "_view_count": null,
            "_view_module": "@jupyter-widgets/base",
            "_view_module_version": "1.2.0",
            "_view_name": "LayoutView",
            "align_content": null,
            "align_items": null,
            "align_self": null,
            "border": null,
            "bottom": null,
            "display": null,
            "flex": null,
            "flex_flow": null,
            "grid_area": null,
            "grid_auto_columns": null,
            "grid_auto_flow": null,
            "grid_auto_rows": null,
            "grid_column": null,
            "grid_gap": null,
            "grid_row": null,
            "grid_template_areas": null,
            "grid_template_columns": null,
            "grid_template_rows": null,
            "height": null,
            "justify_content": null,
            "justify_items": null,
            "left": null,
            "margin": null,
            "max_height": null,
            "max_width": null,
            "min_height": null,
            "min_width": null,
            "object_fit": null,
            "object_position": null,
            "order": null,
            "overflow": null,
            "overflow_x": null,
            "overflow_y": null,
            "padding": null,
            "right": null,
            "top": null,
            "visibility": null,
            "width": null
          }
        },
        "cbc63f8708af46f9a991f5b009ef624b": {
          "model_module": "@jupyter-widgets/controls",
          "model_name": "DescriptionStyleModel",
          "model_module_version": "1.5.0",
          "state": {
            "_model_module": "@jupyter-widgets/controls",
            "_model_module_version": "1.5.0",
            "_model_name": "DescriptionStyleModel",
            "_view_count": null,
            "_view_module": "@jupyter-widgets/base",
            "_view_module_version": "1.2.0",
            "_view_name": "StyleView",
            "description_width": ""
          }
        },
        "7101faa2182448ae83901f093340cd18": {
          "model_module": "@jupyter-widgets/base",
          "model_name": "LayoutModel",
          "model_module_version": "1.2.0",
          "state": {
            "_model_module": "@jupyter-widgets/base",
            "_model_module_version": "1.2.0",
            "_model_name": "LayoutModel",
            "_view_count": null,
            "_view_module": "@jupyter-widgets/base",
            "_view_module_version": "1.2.0",
            "_view_name": "LayoutView",
            "align_content": null,
            "align_items": null,
            "align_self": null,
            "border": null,
            "bottom": null,
            "display": null,
            "flex": null,
            "flex_flow": null,
            "grid_area": null,
            "grid_auto_columns": null,
            "grid_auto_flow": null,
            "grid_auto_rows": null,
            "grid_column": null,
            "grid_gap": null,
            "grid_row": null,
            "grid_template_areas": null,
            "grid_template_columns": null,
            "grid_template_rows": null,
            "height": null,
            "justify_content": null,
            "justify_items": null,
            "left": null,
            "margin": null,
            "max_height": null,
            "max_width": null,
            "min_height": null,
            "min_width": null,
            "object_fit": null,
            "object_position": null,
            "order": null,
            "overflow": null,
            "overflow_x": null,
            "overflow_y": null,
            "padding": null,
            "right": null,
            "top": null,
            "visibility": null,
            "width": null
          }
        },
        "05a908efde5240db92e5d4c1781d5355": {
          "model_module": "@jupyter-widgets/controls",
          "model_name": "ProgressStyleModel",
          "model_module_version": "1.5.0",
          "state": {
            "_model_module": "@jupyter-widgets/controls",
            "_model_module_version": "1.5.0",
            "_model_name": "ProgressStyleModel",
            "_view_count": null,
            "_view_module": "@jupyter-widgets/base",
            "_view_module_version": "1.2.0",
            "_view_name": "StyleView",
            "bar_color": null,
            "description_width": ""
          }
        },
        "47c5dac69d9448a58f180782ebe1560c": {
          "model_module": "@jupyter-widgets/base",
          "model_name": "LayoutModel",
          "model_module_version": "1.2.0",
          "state": {
            "_model_module": "@jupyter-widgets/base",
            "_model_module_version": "1.2.0",
            "_model_name": "LayoutModel",
            "_view_count": null,
            "_view_module": "@jupyter-widgets/base",
            "_view_module_version": "1.2.0",
            "_view_name": "LayoutView",
            "align_content": null,
            "align_items": null,
            "align_self": null,
            "border": null,
            "bottom": null,
            "display": null,
            "flex": null,
            "flex_flow": null,
            "grid_area": null,
            "grid_auto_columns": null,
            "grid_auto_flow": null,
            "grid_auto_rows": null,
            "grid_column": null,
            "grid_gap": null,
            "grid_row": null,
            "grid_template_areas": null,
            "grid_template_columns": null,
            "grid_template_rows": null,
            "height": null,
            "justify_content": null,
            "justify_items": null,
            "left": null,
            "margin": null,
            "max_height": null,
            "max_width": null,
            "min_height": null,
            "min_width": null,
            "object_fit": null,
            "object_position": null,
            "order": null,
            "overflow": null,
            "overflow_x": null,
            "overflow_y": null,
            "padding": null,
            "right": null,
            "top": null,
            "visibility": null,
            "width": null
          }
        },
        "ec4907fa2e264ed5874b6f99d81ba6b7": {
          "model_module": "@jupyter-widgets/controls",
          "model_name": "DescriptionStyleModel",
          "model_module_version": "1.5.0",
          "state": {
            "_model_module": "@jupyter-widgets/controls",
            "_model_module_version": "1.5.0",
            "_model_name": "DescriptionStyleModel",
            "_view_count": null,
            "_view_module": "@jupyter-widgets/base",
            "_view_module_version": "1.2.0",
            "_view_name": "StyleView",
            "description_width": ""
          }
        },
        "ac3057cbee1d4514aaddee44f4e24ecc": {
          "model_module": "@jupyter-widgets/controls",
          "model_name": "HBoxModel",
          "model_module_version": "1.5.0",
          "state": {
            "_dom_classes": [],
            "_model_module": "@jupyter-widgets/controls",
            "_model_module_version": "1.5.0",
            "_model_name": "HBoxModel",
            "_view_count": null,
            "_view_module": "@jupyter-widgets/controls",
            "_view_module_version": "1.5.0",
            "_view_name": "HBoxView",
            "box_style": "",
            "children": [
              "IPY_MODEL_43a54a4a5c294249a53970d7ad37d8a1",
              "IPY_MODEL_bce1ca3bf8014b32afcf4beab9be1be5",
              "IPY_MODEL_2a439c98dad34d61a6f0d14c3190161f"
            ],
            "layout": "IPY_MODEL_e71c27efbcd246698378e4fd594b644c"
          }
        },
        "43a54a4a5c294249a53970d7ad37d8a1": {
          "model_module": "@jupyter-widgets/controls",
          "model_name": "HTMLModel",
          "model_module_version": "1.5.0",
          "state": {
            "_dom_classes": [],
            "_model_module": "@jupyter-widgets/controls",
            "_model_module_version": "1.5.0",
            "_model_name": "HTMLModel",
            "_view_count": null,
            "_view_module": "@jupyter-widgets/controls",
            "_view_module_version": "1.5.0",
            "_view_name": "HTMLView",
            "description": "",
            "description_tooltip": null,
            "layout": "IPY_MODEL_485c1e2be0e74000a9cbb9e82e666d9f",
            "placeholder": "​",
            "style": "IPY_MODEL_1f18951ef0774381abfa7516bd731bfa",
            "value": "merges.txt: 100%"
          }
        },
        "bce1ca3bf8014b32afcf4beab9be1be5": {
          "model_module": "@jupyter-widgets/controls",
          "model_name": "FloatProgressModel",
          "model_module_version": "1.5.0",
          "state": {
            "_dom_classes": [],
            "_model_module": "@jupyter-widgets/controls",
            "_model_module_version": "1.5.0",
            "_model_name": "FloatProgressModel",
            "_view_count": null,
            "_view_module": "@jupyter-widgets/controls",
            "_view_module_version": "1.5.0",
            "_view_name": "ProgressView",
            "bar_style": "success",
            "description": "",
            "description_tooltip": null,
            "layout": "IPY_MODEL_c51daf33ba614dada57aef3ffb4ea79a",
            "max": 1270925,
            "min": 0,
            "orientation": "horizontal",
            "style": "IPY_MODEL_81851e4851d74a4ba7b98f535b584c20",
            "value": 1270925
          }
        },
        "2a439c98dad34d61a6f0d14c3190161f": {
          "model_module": "@jupyter-widgets/controls",
          "model_name": "HTMLModel",
          "model_module_version": "1.5.0",
          "state": {
            "_dom_classes": [],
            "_model_module": "@jupyter-widgets/controls",
            "_model_module_version": "1.5.0",
            "_model_name": "HTMLModel",
            "_view_count": null,
            "_view_module": "@jupyter-widgets/controls",
            "_view_module_version": "1.5.0",
            "_view_name": "HTMLView",
            "description": "",
            "description_tooltip": null,
            "layout": "IPY_MODEL_579b4e94a7f841fa91e1613be5c18432",
            "placeholder": "​",
            "style": "IPY_MODEL_f55b1caf131647efa4f1f12648178198",
            "value": " 1.27M/1.27M [00:00&lt;00:00, 14.6MB/s]"
          }
        },
        "e71c27efbcd246698378e4fd594b644c": {
          "model_module": "@jupyter-widgets/base",
          "model_name": "LayoutModel",
          "model_module_version": "1.2.0",
          "state": {
            "_model_module": "@jupyter-widgets/base",
            "_model_module_version": "1.2.0",
            "_model_name": "LayoutModel",
            "_view_count": null,
            "_view_module": "@jupyter-widgets/base",
            "_view_module_version": "1.2.0",
            "_view_name": "LayoutView",
            "align_content": null,
            "align_items": null,
            "align_self": null,
            "border": null,
            "bottom": null,
            "display": null,
            "flex": null,
            "flex_flow": null,
            "grid_area": null,
            "grid_auto_columns": null,
            "grid_auto_flow": null,
            "grid_auto_rows": null,
            "grid_column": null,
            "grid_gap": null,
            "grid_row": null,
            "grid_template_areas": null,
            "grid_template_columns": null,
            "grid_template_rows": null,
            "height": null,
            "justify_content": null,
            "justify_items": null,
            "left": null,
            "margin": null,
            "max_height": null,
            "max_width": null,
            "min_height": null,
            "min_width": null,
            "object_fit": null,
            "object_position": null,
            "order": null,
            "overflow": null,
            "overflow_x": null,
            "overflow_y": null,
            "padding": null,
            "right": null,
            "top": null,
            "visibility": null,
            "width": null
          }
        },
        "485c1e2be0e74000a9cbb9e82e666d9f": {
          "model_module": "@jupyter-widgets/base",
          "model_name": "LayoutModel",
          "model_module_version": "1.2.0",
          "state": {
            "_model_module": "@jupyter-widgets/base",
            "_model_module_version": "1.2.0",
            "_model_name": "LayoutModel",
            "_view_count": null,
            "_view_module": "@jupyter-widgets/base",
            "_view_module_version": "1.2.0",
            "_view_name": "LayoutView",
            "align_content": null,
            "align_items": null,
            "align_self": null,
            "border": null,
            "bottom": null,
            "display": null,
            "flex": null,
            "flex_flow": null,
            "grid_area": null,
            "grid_auto_columns": null,
            "grid_auto_flow": null,
            "grid_auto_rows": null,
            "grid_column": null,
            "grid_gap": null,
            "grid_row": null,
            "grid_template_areas": null,
            "grid_template_columns": null,
            "grid_template_rows": null,
            "height": null,
            "justify_content": null,
            "justify_items": null,
            "left": null,
            "margin": null,
            "max_height": null,
            "max_width": null,
            "min_height": null,
            "min_width": null,
            "object_fit": null,
            "object_position": null,
            "order": null,
            "overflow": null,
            "overflow_x": null,
            "overflow_y": null,
            "padding": null,
            "right": null,
            "top": null,
            "visibility": null,
            "width": null
          }
        },
        "1f18951ef0774381abfa7516bd731bfa": {
          "model_module": "@jupyter-widgets/controls",
          "model_name": "DescriptionStyleModel",
          "model_module_version": "1.5.0",
          "state": {
            "_model_module": "@jupyter-widgets/controls",
            "_model_module_version": "1.5.0",
            "_model_name": "DescriptionStyleModel",
            "_view_count": null,
            "_view_module": "@jupyter-widgets/base",
            "_view_module_version": "1.2.0",
            "_view_name": "StyleView",
            "description_width": ""
          }
        },
        "c51daf33ba614dada57aef3ffb4ea79a": {
          "model_module": "@jupyter-widgets/base",
          "model_name": "LayoutModel",
          "model_module_version": "1.2.0",
          "state": {
            "_model_module": "@jupyter-widgets/base",
            "_model_module_version": "1.2.0",
            "_model_name": "LayoutModel",
            "_view_count": null,
            "_view_module": "@jupyter-widgets/base",
            "_view_module_version": "1.2.0",
            "_view_name": "LayoutView",
            "align_content": null,
            "align_items": null,
            "align_self": null,
            "border": null,
            "bottom": null,
            "display": null,
            "flex": null,
            "flex_flow": null,
            "grid_area": null,
            "grid_auto_columns": null,
            "grid_auto_flow": null,
            "grid_auto_rows": null,
            "grid_column": null,
            "grid_gap": null,
            "grid_row": null,
            "grid_template_areas": null,
            "grid_template_columns": null,
            "grid_template_rows": null,
            "height": null,
            "justify_content": null,
            "justify_items": null,
            "left": null,
            "margin": null,
            "max_height": null,
            "max_width": null,
            "min_height": null,
            "min_width": null,
            "object_fit": null,
            "object_position": null,
            "order": null,
            "overflow": null,
            "overflow_x": null,
            "overflow_y": null,
            "padding": null,
            "right": null,
            "top": null,
            "visibility": null,
            "width": null
          }
        },
        "81851e4851d74a4ba7b98f535b584c20": {
          "model_module": "@jupyter-widgets/controls",
          "model_name": "ProgressStyleModel",
          "model_module_version": "1.5.0",
          "state": {
            "_model_module": "@jupyter-widgets/controls",
            "_model_module_version": "1.5.0",
            "_model_name": "ProgressStyleModel",
            "_view_count": null,
            "_view_module": "@jupyter-widgets/base",
            "_view_module_version": "1.2.0",
            "_view_name": "StyleView",
            "bar_color": null,
            "description_width": ""
          }
        },
        "579b4e94a7f841fa91e1613be5c18432": {
          "model_module": "@jupyter-widgets/base",
          "model_name": "LayoutModel",
          "model_module_version": "1.2.0",
          "state": {
            "_model_module": "@jupyter-widgets/base",
            "_model_module_version": "1.2.0",
            "_model_name": "LayoutModel",
            "_view_count": null,
            "_view_module": "@jupyter-widgets/base",
            "_view_module_version": "1.2.0",
            "_view_name": "LayoutView",
            "align_content": null,
            "align_items": null,
            "align_self": null,
            "border": null,
            "bottom": null,
            "display": null,
            "flex": null,
            "flex_flow": null,
            "grid_area": null,
            "grid_auto_columns": null,
            "grid_auto_flow": null,
            "grid_auto_rows": null,
            "grid_column": null,
            "grid_gap": null,
            "grid_row": null,
            "grid_template_areas": null,
            "grid_template_columns": null,
            "grid_template_rows": null,
            "height": null,
            "justify_content": null,
            "justify_items": null,
            "left": null,
            "margin": null,
            "max_height": null,
            "max_width": null,
            "min_height": null,
            "min_width": null,
            "object_fit": null,
            "object_position": null,
            "order": null,
            "overflow": null,
            "overflow_x": null,
            "overflow_y": null,
            "padding": null,
            "right": null,
            "top": null,
            "visibility": null,
            "width": null
          }
        },
        "f55b1caf131647efa4f1f12648178198": {
          "model_module": "@jupyter-widgets/controls",
          "model_name": "DescriptionStyleModel",
          "model_module_version": "1.5.0",
          "state": {
            "_model_module": "@jupyter-widgets/controls",
            "_model_module_version": "1.5.0",
            "_model_name": "DescriptionStyleModel",
            "_view_count": null,
            "_view_module": "@jupyter-widgets/base",
            "_view_module_version": "1.2.0",
            "_view_name": "StyleView",
            "description_width": ""
          }
        },
        "c4b1ee27674c48c1a727b0ef67355bae": {
          "model_module": "@jupyter-widgets/controls",
          "model_name": "HBoxModel",
          "model_module_version": "1.5.0",
          "state": {
            "_dom_classes": [],
            "_model_module": "@jupyter-widgets/controls",
            "_model_module_version": "1.5.0",
            "_model_name": "HBoxModel",
            "_view_count": null,
            "_view_module": "@jupyter-widgets/controls",
            "_view_module_version": "1.5.0",
            "_view_name": "HBoxView",
            "box_style": "",
            "children": [
              "IPY_MODEL_c28e240ef24543ba9a4bfb5c4c038919",
              "IPY_MODEL_225bcd83386c48619f93d7214c6a8561",
              "IPY_MODEL_f1ec1271e8934b3387111da93c666815"
            ],
            "layout": "IPY_MODEL_daf2d73f5dcb431ba2d8b9b01f885cb0"
          }
        },
        "c28e240ef24543ba9a4bfb5c4c038919": {
          "model_module": "@jupyter-widgets/controls",
          "model_name": "HTMLModel",
          "model_module_version": "1.5.0",
          "state": {
            "_dom_classes": [],
            "_model_module": "@jupyter-widgets/controls",
            "_model_module_version": "1.5.0",
            "_model_name": "HTMLModel",
            "_view_count": null,
            "_view_module": "@jupyter-widgets/controls",
            "_view_module_version": "1.5.0",
            "_view_name": "HTMLView",
            "description": "",
            "description_tooltip": null,
            "layout": "IPY_MODEL_13984cd4fdaf41f3ba9f91d7f5832b6c",
            "placeholder": "​",
            "style": "IPY_MODEL_11863d3270284e26a1799f83d2a401a9",
            "value": "special_tokens_map.json: 100%"
          }
        },
        "225bcd83386c48619f93d7214c6a8561": {
          "model_module": "@jupyter-widgets/controls",
          "model_name": "FloatProgressModel",
          "model_module_version": "1.5.0",
          "state": {
            "_dom_classes": [],
            "_model_module": "@jupyter-widgets/controls",
            "_model_module_version": "1.5.0",
            "_model_name": "FloatProgressModel",
            "_view_count": null,
            "_view_module": "@jupyter-widgets/controls",
            "_view_module_version": "1.5.0",
            "_view_name": "ProgressView",
            "bar_style": "success",
            "description": "",
            "description_tooltip": null,
            "layout": "IPY_MODEL_09995b327aa1427ab0591be0da0c939e",
            "max": 574,
            "min": 0,
            "orientation": "horizontal",
            "style": "IPY_MODEL_983224c3d084497ca8f2104ee2c34195",
            "value": 574
          }
        },
        "f1ec1271e8934b3387111da93c666815": {
          "model_module": "@jupyter-widgets/controls",
          "model_name": "HTMLModel",
          "model_module_version": "1.5.0",
          "state": {
            "_dom_classes": [],
            "_model_module": "@jupyter-widgets/controls",
            "_model_module_version": "1.5.0",
            "_model_name": "HTMLModel",
            "_view_count": null,
            "_view_module": "@jupyter-widgets/controls",
            "_view_module_version": "1.5.0",
            "_view_name": "HTMLView",
            "description": "",
            "description_tooltip": null,
            "layout": "IPY_MODEL_602f20dd96a544fb8c280fa6b5666d03",
            "placeholder": "​",
            "style": "IPY_MODEL_54ca225bd4ed4202b87eea7155c975ca",
            "value": " 574/574 [00:00&lt;00:00, 53.8kB/s]"
          }
        },
        "daf2d73f5dcb431ba2d8b9b01f885cb0": {
          "model_module": "@jupyter-widgets/base",
          "model_name": "LayoutModel",
          "model_module_version": "1.2.0",
          "state": {
            "_model_module": "@jupyter-widgets/base",
            "_model_module_version": "1.2.0",
            "_model_name": "LayoutModel",
            "_view_count": null,
            "_view_module": "@jupyter-widgets/base",
            "_view_module_version": "1.2.0",
            "_view_name": "LayoutView",
            "align_content": null,
            "align_items": null,
            "align_self": null,
            "border": null,
            "bottom": null,
            "display": null,
            "flex": null,
            "flex_flow": null,
            "grid_area": null,
            "grid_auto_columns": null,
            "grid_auto_flow": null,
            "grid_auto_rows": null,
            "grid_column": null,
            "grid_gap": null,
            "grid_row": null,
            "grid_template_areas": null,
            "grid_template_columns": null,
            "grid_template_rows": null,
            "height": null,
            "justify_content": null,
            "justify_items": null,
            "left": null,
            "margin": null,
            "max_height": null,
            "max_width": null,
            "min_height": null,
            "min_width": null,
            "object_fit": null,
            "object_position": null,
            "order": null,
            "overflow": null,
            "overflow_x": null,
            "overflow_y": null,
            "padding": null,
            "right": null,
            "top": null,
            "visibility": null,
            "width": null
          }
        },
        "13984cd4fdaf41f3ba9f91d7f5832b6c": {
          "model_module": "@jupyter-widgets/base",
          "model_name": "LayoutModel",
          "model_module_version": "1.2.0",
          "state": {
            "_model_module": "@jupyter-widgets/base",
            "_model_module_version": "1.2.0",
            "_model_name": "LayoutModel",
            "_view_count": null,
            "_view_module": "@jupyter-widgets/base",
            "_view_module_version": "1.2.0",
            "_view_name": "LayoutView",
            "align_content": null,
            "align_items": null,
            "align_self": null,
            "border": null,
            "bottom": null,
            "display": null,
            "flex": null,
            "flex_flow": null,
            "grid_area": null,
            "grid_auto_columns": null,
            "grid_auto_flow": null,
            "grid_auto_rows": null,
            "grid_column": null,
            "grid_gap": null,
            "grid_row": null,
            "grid_template_areas": null,
            "grid_template_columns": null,
            "grid_template_rows": null,
            "height": null,
            "justify_content": null,
            "justify_items": null,
            "left": null,
            "margin": null,
            "max_height": null,
            "max_width": null,
            "min_height": null,
            "min_width": null,
            "object_fit": null,
            "object_position": null,
            "order": null,
            "overflow": null,
            "overflow_x": null,
            "overflow_y": null,
            "padding": null,
            "right": null,
            "top": null,
            "visibility": null,
            "width": null
          }
        },
        "11863d3270284e26a1799f83d2a401a9": {
          "model_module": "@jupyter-widgets/controls",
          "model_name": "DescriptionStyleModel",
          "model_module_version": "1.5.0",
          "state": {
            "_model_module": "@jupyter-widgets/controls",
            "_model_module_version": "1.5.0",
            "_model_name": "DescriptionStyleModel",
            "_view_count": null,
            "_view_module": "@jupyter-widgets/base",
            "_view_module_version": "1.2.0",
            "_view_name": "StyleView",
            "description_width": ""
          }
        },
        "09995b327aa1427ab0591be0da0c939e": {
          "model_module": "@jupyter-widgets/base",
          "model_name": "LayoutModel",
          "model_module_version": "1.2.0",
          "state": {
            "_model_module": "@jupyter-widgets/base",
            "_model_module_version": "1.2.0",
            "_model_name": "LayoutModel",
            "_view_count": null,
            "_view_module": "@jupyter-widgets/base",
            "_view_module_version": "1.2.0",
            "_view_name": "LayoutView",
            "align_content": null,
            "align_items": null,
            "align_self": null,
            "border": null,
            "bottom": null,
            "display": null,
            "flex": null,
            "flex_flow": null,
            "grid_area": null,
            "grid_auto_columns": null,
            "grid_auto_flow": null,
            "grid_auto_rows": null,
            "grid_column": null,
            "grid_gap": null,
            "grid_row": null,
            "grid_template_areas": null,
            "grid_template_columns": null,
            "grid_template_rows": null,
            "height": null,
            "justify_content": null,
            "justify_items": null,
            "left": null,
            "margin": null,
            "max_height": null,
            "max_width": null,
            "min_height": null,
            "min_width": null,
            "object_fit": null,
            "object_position": null,
            "order": null,
            "overflow": null,
            "overflow_x": null,
            "overflow_y": null,
            "padding": null,
            "right": null,
            "top": null,
            "visibility": null,
            "width": null
          }
        },
        "983224c3d084497ca8f2104ee2c34195": {
          "model_module": "@jupyter-widgets/controls",
          "model_name": "ProgressStyleModel",
          "model_module_version": "1.5.0",
          "state": {
            "_model_module": "@jupyter-widgets/controls",
            "_model_module_version": "1.5.0",
            "_model_name": "ProgressStyleModel",
            "_view_count": null,
            "_view_module": "@jupyter-widgets/base",
            "_view_module_version": "1.2.0",
            "_view_name": "StyleView",
            "bar_color": null,
            "description_width": ""
          }
        },
        "602f20dd96a544fb8c280fa6b5666d03": {
          "model_module": "@jupyter-widgets/base",
          "model_name": "LayoutModel",
          "model_module_version": "1.2.0",
          "state": {
            "_model_module": "@jupyter-widgets/base",
            "_model_module_version": "1.2.0",
            "_model_name": "LayoutModel",
            "_view_count": null,
            "_view_module": "@jupyter-widgets/base",
            "_view_module_version": "1.2.0",
            "_view_name": "LayoutView",
            "align_content": null,
            "align_items": null,
            "align_self": null,
            "border": null,
            "bottom": null,
            "display": null,
            "flex": null,
            "flex_flow": null,
            "grid_area": null,
            "grid_auto_columns": null,
            "grid_auto_flow": null,
            "grid_auto_rows": null,
            "grid_column": null,
            "grid_gap": null,
            "grid_row": null,
            "grid_template_areas": null,
            "grid_template_columns": null,
            "grid_template_rows": null,
            "height": null,
            "justify_content": null,
            "justify_items": null,
            "left": null,
            "margin": null,
            "max_height": null,
            "max_width": null,
            "min_height": null,
            "min_width": null,
            "object_fit": null,
            "object_position": null,
            "order": null,
            "overflow": null,
            "overflow_x": null,
            "overflow_y": null,
            "padding": null,
            "right": null,
            "top": null,
            "visibility": null,
            "width": null
          }
        },
        "54ca225bd4ed4202b87eea7155c975ca": {
          "model_module": "@jupyter-widgets/controls",
          "model_name": "DescriptionStyleModel",
          "model_module_version": "1.5.0",
          "state": {
            "_model_module": "@jupyter-widgets/controls",
            "_model_module_version": "1.5.0",
            "_model_name": "DescriptionStyleModel",
            "_view_count": null,
            "_view_module": "@jupyter-widgets/base",
            "_view_module_version": "1.2.0",
            "_view_name": "StyleView",
            "description_width": ""
          }
        },
        "eec246795bfe4944b9539752292b48a0": {
          "model_module": "@jupyter-widgets/controls",
          "model_name": "HBoxModel",
          "model_module_version": "1.5.0",
          "state": {
            "_dom_classes": [],
            "_model_module": "@jupyter-widgets/controls",
            "_model_module_version": "1.5.0",
            "_model_name": "HBoxModel",
            "_view_count": null,
            "_view_module": "@jupyter-widgets/controls",
            "_view_module_version": "1.5.0",
            "_view_name": "HBoxView",
            "box_style": "",
            "children": [
              "IPY_MODEL_e3713c907fe1410f9210eadfd0b7c193",
              "IPY_MODEL_c6a23d8c0c5345ddba20f9c16ca83474",
              "IPY_MODEL_f38946acb48e411085c0b0d544f562ed"
            ],
            "layout": "IPY_MODEL_caf11c6d47cc46c3be64edb0e89e4fdf"
          }
        },
        "e3713c907fe1410f9210eadfd0b7c193": {
          "model_module": "@jupyter-widgets/controls",
          "model_name": "HTMLModel",
          "model_module_version": "1.5.0",
          "state": {
            "_dom_classes": [],
            "_model_module": "@jupyter-widgets/controls",
            "_model_module_version": "1.5.0",
            "_model_name": "HTMLModel",
            "_view_count": null,
            "_view_module": "@jupyter-widgets/controls",
            "_view_module_version": "1.5.0",
            "_view_name": "HTMLView",
            "description": "",
            "description_tooltip": null,
            "layout": "IPY_MODEL_79b37606c54b429dbc29008de6549416",
            "placeholder": "​",
            "style": "IPY_MODEL_ab29257df9e142a8985c679afa68b232",
            "value": "Map: 100%"
          }
        },
        "c6a23d8c0c5345ddba20f9c16ca83474": {
          "model_module": "@jupyter-widgets/controls",
          "model_name": "FloatProgressModel",
          "model_module_version": "1.5.0",
          "state": {
            "_dom_classes": [],
            "_model_module": "@jupyter-widgets/controls",
            "_model_module_version": "1.5.0",
            "_model_name": "FloatProgressModel",
            "_view_count": null,
            "_view_module": "@jupyter-widgets/controls",
            "_view_module_version": "1.5.0",
            "_view_name": "ProgressView",
            "bar_style": "success",
            "description": "",
            "description_tooltip": null,
            "layout": "IPY_MODEL_9847294b0b6a4be2a6c8bf376db2c219",
            "max": 20000,
            "min": 0,
            "orientation": "horizontal",
            "style": "IPY_MODEL_290ed28f255d4ac4ba2d3052604abe84",
            "value": 20000
          }
        },
        "f38946acb48e411085c0b0d544f562ed": {
          "model_module": "@jupyter-widgets/controls",
          "model_name": "HTMLModel",
          "model_module_version": "1.5.0",
          "state": {
            "_dom_classes": [],
            "_model_module": "@jupyter-widgets/controls",
            "_model_module_version": "1.5.0",
            "_model_name": "HTMLModel",
            "_view_count": null,
            "_view_module": "@jupyter-widgets/controls",
            "_view_module_version": "1.5.0",
            "_view_name": "HTMLView",
            "description": "",
            "description_tooltip": null,
            "layout": "IPY_MODEL_12071c11e2004df6be27f800c99f765b",
            "placeholder": "​",
            "style": "IPY_MODEL_379bf551a52843aab9d21ccf82d43a38",
            "value": " 20000/20000 [00:05&lt;00:00, 3649.24 examples/s]"
          }
        },
        "caf11c6d47cc46c3be64edb0e89e4fdf": {
          "model_module": "@jupyter-widgets/base",
          "model_name": "LayoutModel",
          "model_module_version": "1.2.0",
          "state": {
            "_model_module": "@jupyter-widgets/base",
            "_model_module_version": "1.2.0",
            "_model_name": "LayoutModel",
            "_view_count": null,
            "_view_module": "@jupyter-widgets/base",
            "_view_module_version": "1.2.0",
            "_view_name": "LayoutView",
            "align_content": null,
            "align_items": null,
            "align_self": null,
            "border": null,
            "bottom": null,
            "display": null,
            "flex": null,
            "flex_flow": null,
            "grid_area": null,
            "grid_auto_columns": null,
            "grid_auto_flow": null,
            "grid_auto_rows": null,
            "grid_column": null,
            "grid_gap": null,
            "grid_row": null,
            "grid_template_areas": null,
            "grid_template_columns": null,
            "grid_template_rows": null,
            "height": null,
            "justify_content": null,
            "justify_items": null,
            "left": null,
            "margin": null,
            "max_height": null,
            "max_width": null,
            "min_height": null,
            "min_width": null,
            "object_fit": null,
            "object_position": null,
            "order": null,
            "overflow": null,
            "overflow_x": null,
            "overflow_y": null,
            "padding": null,
            "right": null,
            "top": null,
            "visibility": null,
            "width": null
          }
        },
        "79b37606c54b429dbc29008de6549416": {
          "model_module": "@jupyter-widgets/base",
          "model_name": "LayoutModel",
          "model_module_version": "1.2.0",
          "state": {
            "_model_module": "@jupyter-widgets/base",
            "_model_module_version": "1.2.0",
            "_model_name": "LayoutModel",
            "_view_count": null,
            "_view_module": "@jupyter-widgets/base",
            "_view_module_version": "1.2.0",
            "_view_name": "LayoutView",
            "align_content": null,
            "align_items": null,
            "align_self": null,
            "border": null,
            "bottom": null,
            "display": null,
            "flex": null,
            "flex_flow": null,
            "grid_area": null,
            "grid_auto_columns": null,
            "grid_auto_flow": null,
            "grid_auto_rows": null,
            "grid_column": null,
            "grid_gap": null,
            "grid_row": null,
            "grid_template_areas": null,
            "grid_template_columns": null,
            "grid_template_rows": null,
            "height": null,
            "justify_content": null,
            "justify_items": null,
            "left": null,
            "margin": null,
            "max_height": null,
            "max_width": null,
            "min_height": null,
            "min_width": null,
            "object_fit": null,
            "object_position": null,
            "order": null,
            "overflow": null,
            "overflow_x": null,
            "overflow_y": null,
            "padding": null,
            "right": null,
            "top": null,
            "visibility": null,
            "width": null
          }
        },
        "ab29257df9e142a8985c679afa68b232": {
          "model_module": "@jupyter-widgets/controls",
          "model_name": "DescriptionStyleModel",
          "model_module_version": "1.5.0",
          "state": {
            "_model_module": "@jupyter-widgets/controls",
            "_model_module_version": "1.5.0",
            "_model_name": "DescriptionStyleModel",
            "_view_count": null,
            "_view_module": "@jupyter-widgets/base",
            "_view_module_version": "1.2.0",
            "_view_name": "StyleView",
            "description_width": ""
          }
        },
        "9847294b0b6a4be2a6c8bf376db2c219": {
          "model_module": "@jupyter-widgets/base",
          "model_name": "LayoutModel",
          "model_module_version": "1.2.0",
          "state": {
            "_model_module": "@jupyter-widgets/base",
            "_model_module_version": "1.2.0",
            "_model_name": "LayoutModel",
            "_view_count": null,
            "_view_module": "@jupyter-widgets/base",
            "_view_module_version": "1.2.0",
            "_view_name": "LayoutView",
            "align_content": null,
            "align_items": null,
            "align_self": null,
            "border": null,
            "bottom": null,
            "display": null,
            "flex": null,
            "flex_flow": null,
            "grid_area": null,
            "grid_auto_columns": null,
            "grid_auto_flow": null,
            "grid_auto_rows": null,
            "grid_column": null,
            "grid_gap": null,
            "grid_row": null,
            "grid_template_areas": null,
            "grid_template_columns": null,
            "grid_template_rows": null,
            "height": null,
            "justify_content": null,
            "justify_items": null,
            "left": null,
            "margin": null,
            "max_height": null,
            "max_width": null,
            "min_height": null,
            "min_width": null,
            "object_fit": null,
            "object_position": null,
            "order": null,
            "overflow": null,
            "overflow_x": null,
            "overflow_y": null,
            "padding": null,
            "right": null,
            "top": null,
            "visibility": null,
            "width": null
          }
        },
        "290ed28f255d4ac4ba2d3052604abe84": {
          "model_module": "@jupyter-widgets/controls",
          "model_name": "ProgressStyleModel",
          "model_module_version": "1.5.0",
          "state": {
            "_model_module": "@jupyter-widgets/controls",
            "_model_module_version": "1.5.0",
            "_model_name": "ProgressStyleModel",
            "_view_count": null,
            "_view_module": "@jupyter-widgets/base",
            "_view_module_version": "1.2.0",
            "_view_name": "StyleView",
            "bar_color": null,
            "description_width": ""
          }
        },
        "12071c11e2004df6be27f800c99f765b": {
          "model_module": "@jupyter-widgets/base",
          "model_name": "LayoutModel",
          "model_module_version": "1.2.0",
          "state": {
            "_model_module": "@jupyter-widgets/base",
            "_model_module_version": "1.2.0",
            "_model_name": "LayoutModel",
            "_view_count": null,
            "_view_module": "@jupyter-widgets/base",
            "_view_module_version": "1.2.0",
            "_view_name": "LayoutView",
            "align_content": null,
            "align_items": null,
            "align_self": null,
            "border": null,
            "bottom": null,
            "display": null,
            "flex": null,
            "flex_flow": null,
            "grid_area": null,
            "grid_auto_columns": null,
            "grid_auto_flow": null,
            "grid_auto_rows": null,
            "grid_column": null,
            "grid_gap": null,
            "grid_row": null,
            "grid_template_areas": null,
            "grid_template_columns": null,
            "grid_template_rows": null,
            "height": null,
            "justify_content": null,
            "justify_items": null,
            "left": null,
            "margin": null,
            "max_height": null,
            "max_width": null,
            "min_height": null,
            "min_width": null,
            "object_fit": null,
            "object_position": null,
            "order": null,
            "overflow": null,
            "overflow_x": null,
            "overflow_y": null,
            "padding": null,
            "right": null,
            "top": null,
            "visibility": null,
            "width": null
          }
        },
        "379bf551a52843aab9d21ccf82d43a38": {
          "model_module": "@jupyter-widgets/controls",
          "model_name": "DescriptionStyleModel",
          "model_module_version": "1.5.0",
          "state": {
            "_model_module": "@jupyter-widgets/controls",
            "_model_module_version": "1.5.0",
            "_model_name": "DescriptionStyleModel",
            "_view_count": null,
            "_view_module": "@jupyter-widgets/base",
            "_view_module_version": "1.2.0",
            "_view_name": "StyleView",
            "description_width": ""
          }
        },
        "d41144351edd40d790ea3ec1db505241": {
          "model_module": "@jupyter-widgets/controls",
          "model_name": "HBoxModel",
          "model_module_version": "1.5.0",
          "state": {
            "_dom_classes": [],
            "_model_module": "@jupyter-widgets/controls",
            "_model_module_version": "1.5.0",
            "_model_name": "HBoxModel",
            "_view_count": null,
            "_view_module": "@jupyter-widgets/controls",
            "_view_module_version": "1.5.0",
            "_view_name": "HBoxView",
            "box_style": "",
            "children": [
              "IPY_MODEL_5600166d14344d8a9e6f95008d78feb2",
              "IPY_MODEL_48e860eb5486453698721e1ae9b37808",
              "IPY_MODEL_8f1e0163c2d148b3bdd453c6f76ed90c"
            ],
            "layout": "IPY_MODEL_8a36ea36ca1649419ce964408915186f"
          }
        },
        "5600166d14344d8a9e6f95008d78feb2": {
          "model_module": "@jupyter-widgets/controls",
          "model_name": "HTMLModel",
          "model_module_version": "1.5.0",
          "state": {
            "_dom_classes": [],
            "_model_module": "@jupyter-widgets/controls",
            "_model_module_version": "1.5.0",
            "_model_name": "HTMLModel",
            "_view_count": null,
            "_view_module": "@jupyter-widgets/controls",
            "_view_module_version": "1.5.0",
            "_view_name": "HTMLView",
            "description": "",
            "description_tooltip": null,
            "layout": "IPY_MODEL_d5284145c728464291badcd146616d56",
            "placeholder": "​",
            "style": "IPY_MODEL_c316ced42334484d87dfbc04ab9c51ec",
            "value": "config.json: 100%"
          }
        },
        "48e860eb5486453698721e1ae9b37808": {
          "model_module": "@jupyter-widgets/controls",
          "model_name": "FloatProgressModel",
          "model_module_version": "1.5.0",
          "state": {
            "_dom_classes": [],
            "_model_module": "@jupyter-widgets/controls",
            "_model_module_version": "1.5.0",
            "_model_name": "FloatProgressModel",
            "_view_count": null,
            "_view_module": "@jupyter-widgets/controls",
            "_view_module_version": "1.5.0",
            "_view_name": "ProgressView",
            "bar_style": "success",
            "description": "",
            "description_tooltip": null,
            "layout": "IPY_MODEL_753fd8ba673e4df6b6fe3b5eecf712fa",
            "max": 720,
            "min": 0,
            "orientation": "horizontal",
            "style": "IPY_MODEL_0edf51cf544e487594dca0dfff869603",
            "value": 720
          }
        },
        "8f1e0163c2d148b3bdd453c6f76ed90c": {
          "model_module": "@jupyter-widgets/controls",
          "model_name": "HTMLModel",
          "model_module_version": "1.5.0",
          "state": {
            "_dom_classes": [],
            "_model_module": "@jupyter-widgets/controls",
            "_model_module_version": "1.5.0",
            "_model_name": "HTMLModel",
            "_view_count": null,
            "_view_module": "@jupyter-widgets/controls",
            "_view_module_version": "1.5.0",
            "_view_name": "HTMLView",
            "description": "",
            "description_tooltip": null,
            "layout": "IPY_MODEL_0f29996bf2cf4f28b1f0193f4ce7f936",
            "placeholder": "​",
            "style": "IPY_MODEL_aaaedc21a28f4d63a4217fc16d8ecd57",
            "value": " 720/720 [00:00&lt;00:00, 67.9kB/s]"
          }
        },
        "8a36ea36ca1649419ce964408915186f": {
          "model_module": "@jupyter-widgets/base",
          "model_name": "LayoutModel",
          "model_module_version": "1.2.0",
          "state": {
            "_model_module": "@jupyter-widgets/base",
            "_model_module_version": "1.2.0",
            "_model_name": "LayoutModel",
            "_view_count": null,
            "_view_module": "@jupyter-widgets/base",
            "_view_module_version": "1.2.0",
            "_view_name": "LayoutView",
            "align_content": null,
            "align_items": null,
            "align_self": null,
            "border": null,
            "bottom": null,
            "display": null,
            "flex": null,
            "flex_flow": null,
            "grid_area": null,
            "grid_auto_columns": null,
            "grid_auto_flow": null,
            "grid_auto_rows": null,
            "grid_column": null,
            "grid_gap": null,
            "grid_row": null,
            "grid_template_areas": null,
            "grid_template_columns": null,
            "grid_template_rows": null,
            "height": null,
            "justify_content": null,
            "justify_items": null,
            "left": null,
            "margin": null,
            "max_height": null,
            "max_width": null,
            "min_height": null,
            "min_width": null,
            "object_fit": null,
            "object_position": null,
            "order": null,
            "overflow": null,
            "overflow_x": null,
            "overflow_y": null,
            "padding": null,
            "right": null,
            "top": null,
            "visibility": null,
            "width": null
          }
        },
        "d5284145c728464291badcd146616d56": {
          "model_module": "@jupyter-widgets/base",
          "model_name": "LayoutModel",
          "model_module_version": "1.2.0",
          "state": {
            "_model_module": "@jupyter-widgets/base",
            "_model_module_version": "1.2.0",
            "_model_name": "LayoutModel",
            "_view_count": null,
            "_view_module": "@jupyter-widgets/base",
            "_view_module_version": "1.2.0",
            "_view_name": "LayoutView",
            "align_content": null,
            "align_items": null,
            "align_self": null,
            "border": null,
            "bottom": null,
            "display": null,
            "flex": null,
            "flex_flow": null,
            "grid_area": null,
            "grid_auto_columns": null,
            "grid_auto_flow": null,
            "grid_auto_rows": null,
            "grid_column": null,
            "grid_gap": null,
            "grid_row": null,
            "grid_template_areas": null,
            "grid_template_columns": null,
            "grid_template_rows": null,
            "height": null,
            "justify_content": null,
            "justify_items": null,
            "left": null,
            "margin": null,
            "max_height": null,
            "max_width": null,
            "min_height": null,
            "min_width": null,
            "object_fit": null,
            "object_position": null,
            "order": null,
            "overflow": null,
            "overflow_x": null,
            "overflow_y": null,
            "padding": null,
            "right": null,
            "top": null,
            "visibility": null,
            "width": null
          }
        },
        "c316ced42334484d87dfbc04ab9c51ec": {
          "model_module": "@jupyter-widgets/controls",
          "model_name": "DescriptionStyleModel",
          "model_module_version": "1.5.0",
          "state": {
            "_model_module": "@jupyter-widgets/controls",
            "_model_module_version": "1.5.0",
            "_model_name": "DescriptionStyleModel",
            "_view_count": null,
            "_view_module": "@jupyter-widgets/base",
            "_view_module_version": "1.2.0",
            "_view_name": "StyleView",
            "description_width": ""
          }
        },
        "753fd8ba673e4df6b6fe3b5eecf712fa": {
          "model_module": "@jupyter-widgets/base",
          "model_name": "LayoutModel",
          "model_module_version": "1.2.0",
          "state": {
            "_model_module": "@jupyter-widgets/base",
            "_model_module_version": "1.2.0",
            "_model_name": "LayoutModel",
            "_view_count": null,
            "_view_module": "@jupyter-widgets/base",
            "_view_module_version": "1.2.0",
            "_view_name": "LayoutView",
            "align_content": null,
            "align_items": null,
            "align_self": null,
            "border": null,
            "bottom": null,
            "display": null,
            "flex": null,
            "flex_flow": null,
            "grid_area": null,
            "grid_auto_columns": null,
            "grid_auto_flow": null,
            "grid_auto_rows": null,
            "grid_column": null,
            "grid_gap": null,
            "grid_row": null,
            "grid_template_areas": null,
            "grid_template_columns": null,
            "grid_template_rows": null,
            "height": null,
            "justify_content": null,
            "justify_items": null,
            "left": null,
            "margin": null,
            "max_height": null,
            "max_width": null,
            "min_height": null,
            "min_width": null,
            "object_fit": null,
            "object_position": null,
            "order": null,
            "overflow": null,
            "overflow_x": null,
            "overflow_y": null,
            "padding": null,
            "right": null,
            "top": null,
            "visibility": null,
            "width": null
          }
        },
        "0edf51cf544e487594dca0dfff869603": {
          "model_module": "@jupyter-widgets/controls",
          "model_name": "ProgressStyleModel",
          "model_module_version": "1.5.0",
          "state": {
            "_model_module": "@jupyter-widgets/controls",
            "_model_module_version": "1.5.0",
            "_model_name": "ProgressStyleModel",
            "_view_count": null,
            "_view_module": "@jupyter-widgets/base",
            "_view_module_version": "1.2.0",
            "_view_name": "StyleView",
            "bar_color": null,
            "description_width": ""
          }
        },
        "0f29996bf2cf4f28b1f0193f4ce7f936": {
          "model_module": "@jupyter-widgets/base",
          "model_name": "LayoutModel",
          "model_module_version": "1.2.0",
          "state": {
            "_model_module": "@jupyter-widgets/base",
            "_model_module_version": "1.2.0",
            "_model_name": "LayoutModel",
            "_view_count": null,
            "_view_module": "@jupyter-widgets/base",
            "_view_module_version": "1.2.0",
            "_view_name": "LayoutView",
            "align_content": null,
            "align_items": null,
            "align_self": null,
            "border": null,
            "bottom": null,
            "display": null,
            "flex": null,
            "flex_flow": null,
            "grid_area": null,
            "grid_auto_columns": null,
            "grid_auto_flow": null,
            "grid_auto_rows": null,
            "grid_column": null,
            "grid_gap": null,
            "grid_row": null,
            "grid_template_areas": null,
            "grid_template_columns": null,
            "grid_template_rows": null,
            "height": null,
            "justify_content": null,
            "justify_items": null,
            "left": null,
            "margin": null,
            "max_height": null,
            "max_width": null,
            "min_height": null,
            "min_width": null,
            "object_fit": null,
            "object_position": null,
            "order": null,
            "overflow": null,
            "overflow_x": null,
            "overflow_y": null,
            "padding": null,
            "right": null,
            "top": null,
            "visibility": null,
            "width": null
          }
        },
        "aaaedc21a28f4d63a4217fc16d8ecd57": {
          "model_module": "@jupyter-widgets/controls",
          "model_name": "DescriptionStyleModel",
          "model_module_version": "1.5.0",
          "state": {
            "_model_module": "@jupyter-widgets/controls",
            "_model_module_version": "1.5.0",
            "_model_name": "DescriptionStyleModel",
            "_view_count": null,
            "_view_module": "@jupyter-widgets/base",
            "_view_module_version": "1.2.0",
            "_view_name": "StyleView",
            "description_width": ""
          }
        },
        "32b4990d6a814cf7a438e83ad28cad58": {
          "model_module": "@jupyter-widgets/controls",
          "model_name": "HBoxModel",
          "model_module_version": "1.5.0",
          "state": {
            "_dom_classes": [],
            "_model_module": "@jupyter-widgets/controls",
            "_model_module_version": "1.5.0",
            "_model_name": "HBoxModel",
            "_view_count": null,
            "_view_module": "@jupyter-widgets/controls",
            "_view_module_version": "1.5.0",
            "_view_name": "HBoxView",
            "box_style": "",
            "children": [
              "IPY_MODEL_2234d56463254d62904d6ecc27dae734",
              "IPY_MODEL_a61a213937984a009f03a94d6c2f2387",
              "IPY_MODEL_f05750c9f4684ed5963c5a14b566476d"
            ],
            "layout": "IPY_MODEL_9f5e00e2904d488cab927de400ed1f66"
          }
        },
        "2234d56463254d62904d6ecc27dae734": {
          "model_module": "@jupyter-widgets/controls",
          "model_name": "HTMLModel",
          "model_module_version": "1.5.0",
          "state": {
            "_dom_classes": [],
            "_model_module": "@jupyter-widgets/controls",
            "_model_module_version": "1.5.0",
            "_model_name": "HTMLModel",
            "_view_count": null,
            "_view_module": "@jupyter-widgets/controls",
            "_view_module_version": "1.5.0",
            "_view_name": "HTMLView",
            "description": "",
            "description_tooltip": null,
            "layout": "IPY_MODEL_395223ee2e6e4e09a3d456f457990727",
            "placeholder": "​",
            "style": "IPY_MODEL_41e17ddb9d294c00a738d7fdf3757a44",
            "value": "pytorch_model.bin: 100%"
          }
        },
        "a61a213937984a009f03a94d6c2f2387": {
          "model_module": "@jupyter-widgets/controls",
          "model_name": "FloatProgressModel",
          "model_module_version": "1.5.0",
          "state": {
            "_dom_classes": [],
            "_model_module": "@jupyter-widgets/controls",
            "_model_module_version": "1.5.0",
            "_model_name": "FloatProgressModel",
            "_view_count": null,
            "_view_module": "@jupyter-widgets/controls",
            "_view_module_version": "1.5.0",
            "_view_name": "ProgressView",
            "bar_style": "success",
            "description": "",
            "description_tooltip": null,
            "layout": "IPY_MODEL_b7f81214f538479db3e36916c3b2b197",
            "max": 551290714,
            "min": 0,
            "orientation": "horizontal",
            "style": "IPY_MODEL_7cf7991986ca4e4aa727d50968b30e67",
            "value": 551290714
          }
        },
        "f05750c9f4684ed5963c5a14b566476d": {
          "model_module": "@jupyter-widgets/controls",
          "model_name": "HTMLModel",
          "model_module_version": "1.5.0",
          "state": {
            "_dom_classes": [],
            "_model_module": "@jupyter-widgets/controls",
            "_model_module_version": "1.5.0",
            "_model_name": "HTMLModel",
            "_view_count": null,
            "_view_module": "@jupyter-widgets/controls",
            "_view_module_version": "1.5.0",
            "_view_name": "HTMLView",
            "description": "",
            "description_tooltip": null,
            "layout": "IPY_MODEL_2897c4aacd574e29a1fbcb3a00f95cc5",
            "placeholder": "​",
            "style": "IPY_MODEL_997a6aa6e2d94a708d41f1eba9342a7f",
            "value": " 551M/551M [00:02&lt;00:00, 250MB/s]"
          }
        },
        "9f5e00e2904d488cab927de400ed1f66": {
          "model_module": "@jupyter-widgets/base",
          "model_name": "LayoutModel",
          "model_module_version": "1.2.0",
          "state": {
            "_model_module": "@jupyter-widgets/base",
            "_model_module_version": "1.2.0",
            "_model_name": "LayoutModel",
            "_view_count": null,
            "_view_module": "@jupyter-widgets/base",
            "_view_module_version": "1.2.0",
            "_view_name": "LayoutView",
            "align_content": null,
            "align_items": null,
            "align_self": null,
            "border": null,
            "bottom": null,
            "display": null,
            "flex": null,
            "flex_flow": null,
            "grid_area": null,
            "grid_auto_columns": null,
            "grid_auto_flow": null,
            "grid_auto_rows": null,
            "grid_column": null,
            "grid_gap": null,
            "grid_row": null,
            "grid_template_areas": null,
            "grid_template_columns": null,
            "grid_template_rows": null,
            "height": null,
            "justify_content": null,
            "justify_items": null,
            "left": null,
            "margin": null,
            "max_height": null,
            "max_width": null,
            "min_height": null,
            "min_width": null,
            "object_fit": null,
            "object_position": null,
            "order": null,
            "overflow": null,
            "overflow_x": null,
            "overflow_y": null,
            "padding": null,
            "right": null,
            "top": null,
            "visibility": null,
            "width": null
          }
        },
        "395223ee2e6e4e09a3d456f457990727": {
          "model_module": "@jupyter-widgets/base",
          "model_name": "LayoutModel",
          "model_module_version": "1.2.0",
          "state": {
            "_model_module": "@jupyter-widgets/base",
            "_model_module_version": "1.2.0",
            "_model_name": "LayoutModel",
            "_view_count": null,
            "_view_module": "@jupyter-widgets/base",
            "_view_module_version": "1.2.0",
            "_view_name": "LayoutView",
            "align_content": null,
            "align_items": null,
            "align_self": null,
            "border": null,
            "bottom": null,
            "display": null,
            "flex": null,
            "flex_flow": null,
            "grid_area": null,
            "grid_auto_columns": null,
            "grid_auto_flow": null,
            "grid_auto_rows": null,
            "grid_column": null,
            "grid_gap": null,
            "grid_row": null,
            "grid_template_areas": null,
            "grid_template_columns": null,
            "grid_template_rows": null,
            "height": null,
            "justify_content": null,
            "justify_items": null,
            "left": null,
            "margin": null,
            "max_height": null,
            "max_width": null,
            "min_height": null,
            "min_width": null,
            "object_fit": null,
            "object_position": null,
            "order": null,
            "overflow": null,
            "overflow_x": null,
            "overflow_y": null,
            "padding": null,
            "right": null,
            "top": null,
            "visibility": null,
            "width": null
          }
        },
        "41e17ddb9d294c00a738d7fdf3757a44": {
          "model_module": "@jupyter-widgets/controls",
          "model_name": "DescriptionStyleModel",
          "model_module_version": "1.5.0",
          "state": {
            "_model_module": "@jupyter-widgets/controls",
            "_model_module_version": "1.5.0",
            "_model_name": "DescriptionStyleModel",
            "_view_count": null,
            "_view_module": "@jupyter-widgets/base",
            "_view_module_version": "1.2.0",
            "_view_name": "StyleView",
            "description_width": ""
          }
        },
        "b7f81214f538479db3e36916c3b2b197": {
          "model_module": "@jupyter-widgets/base",
          "model_name": "LayoutModel",
          "model_module_version": "1.2.0",
          "state": {
            "_model_module": "@jupyter-widgets/base",
            "_model_module_version": "1.2.0",
            "_model_name": "LayoutModel",
            "_view_count": null,
            "_view_module": "@jupyter-widgets/base",
            "_view_module_version": "1.2.0",
            "_view_name": "LayoutView",
            "align_content": null,
            "align_items": null,
            "align_self": null,
            "border": null,
            "bottom": null,
            "display": null,
            "flex": null,
            "flex_flow": null,
            "grid_area": null,
            "grid_auto_columns": null,
            "grid_auto_flow": null,
            "grid_auto_rows": null,
            "grid_column": null,
            "grid_gap": null,
            "grid_row": null,
            "grid_template_areas": null,
            "grid_template_columns": null,
            "grid_template_rows": null,
            "height": null,
            "justify_content": null,
            "justify_items": null,
            "left": null,
            "margin": null,
            "max_height": null,
            "max_width": null,
            "min_height": null,
            "min_width": null,
            "object_fit": null,
            "object_position": null,
            "order": null,
            "overflow": null,
            "overflow_x": null,
            "overflow_y": null,
            "padding": null,
            "right": null,
            "top": null,
            "visibility": null,
            "width": null
          }
        },
        "7cf7991986ca4e4aa727d50968b30e67": {
          "model_module": "@jupyter-widgets/controls",
          "model_name": "ProgressStyleModel",
          "model_module_version": "1.5.0",
          "state": {
            "_model_module": "@jupyter-widgets/controls",
            "_model_module_version": "1.5.0",
            "_model_name": "ProgressStyleModel",
            "_view_count": null,
            "_view_module": "@jupyter-widgets/base",
            "_view_module_version": "1.2.0",
            "_view_name": "StyleView",
            "bar_color": null,
            "description_width": ""
          }
        },
        "2897c4aacd574e29a1fbcb3a00f95cc5": {
          "model_module": "@jupyter-widgets/base",
          "model_name": "LayoutModel",
          "model_module_version": "1.2.0",
          "state": {
            "_model_module": "@jupyter-widgets/base",
            "_model_module_version": "1.2.0",
            "_model_name": "LayoutModel",
            "_view_count": null,
            "_view_module": "@jupyter-widgets/base",
            "_view_module_version": "1.2.0",
            "_view_name": "LayoutView",
            "align_content": null,
            "align_items": null,
            "align_self": null,
            "border": null,
            "bottom": null,
            "display": null,
            "flex": null,
            "flex_flow": null,
            "grid_area": null,
            "grid_auto_columns": null,
            "grid_auto_flow": null,
            "grid_auto_rows": null,
            "grid_column": null,
            "grid_gap": null,
            "grid_row": null,
            "grid_template_areas": null,
            "grid_template_columns": null,
            "grid_template_rows": null,
            "height": null,
            "justify_content": null,
            "justify_items": null,
            "left": null,
            "margin": null,
            "max_height": null,
            "max_width": null,
            "min_height": null,
            "min_width": null,
            "object_fit": null,
            "object_position": null,
            "order": null,
            "overflow": null,
            "overflow_x": null,
            "overflow_y": null,
            "padding": null,
            "right": null,
            "top": null,
            "visibility": null,
            "width": null
          }
        },
        "997a6aa6e2d94a708d41f1eba9342a7f": {
          "model_module": "@jupyter-widgets/controls",
          "model_name": "DescriptionStyleModel",
          "model_module_version": "1.5.0",
          "state": {
            "_model_module": "@jupyter-widgets/controls",
            "_model_module_version": "1.5.0",
            "_model_name": "DescriptionStyleModel",
            "_view_count": null,
            "_view_module": "@jupyter-widgets/base",
            "_view_module_version": "1.2.0",
            "_view_name": "StyleView",
            "description_width": ""
          }
        }
      }
    }
  },
  "cells": [
    {
      "cell_type": "markdown",
      "source": [
        "# Проектный практикум 3. Учебная задача\n"
      ],
      "metadata": {
        "id": "WRpPw0zUP0Ud"
      }
    },
    {
      "cell_type": "markdown",
      "source": [
        "Краткое описание:\n",
        "\n",
        "Создать нейронную сеть, способную генерировать текстовые отзывы о различных местах на основе определенных входных параметров, таких как категория места, средний рейтинг и ключевые слова.\n",
        "\n",
        "Данные: https://github.com/yandex/geo-reviews-dataset-2023\n",
        "\n",
        "Описание датасета\n",
        "\n",
        "500 000 уникальных отзывов\n",
        "Только отзывы на организации в России\n",
        "Доступны на Яндекс Картах\n",
        "Опубликованы с января по июль 2023 года\n",
        "Датасет не содержит коротких односложных отзывов\n",
        "Тексты очищены от персональных данных (номеров телефонов, адресов почты)\n",
        "Состав датасета\n",
        "\n",
        "Датасет в формате tskv содержит следующую информацию:\n",
        "\n",
        "Адрес организации (address)\n",
        "Название организации (name_ru)\n",
        "Список рубрик, к которым относится организация (rubrics)\n",
        "Оценка пользователя от 0 до 5 (rating)\n",
        "Текст отзыва (text)"
      ],
      "metadata": {
        "id": "HIN55SZQP7aD"
      }
    },
    {
      "cell_type": "markdown",
      "source": [],
      "metadata": {
        "id": "NxW4XEkjKJZo"
      }
    },
    {
      "cell_type": "markdown",
      "source": [
        "Так как лимит на скачивание lfs из репозитория на гитхаб был закрыт, то мы взяли тот же датасет с kaggle"
      ],
      "metadata": {
        "id": "1qnlL7acP_QY"
      }
    },
    {
      "cell_type": "code",
      "source": [
        "!pip install wget datasets"
      ],
      "metadata": {
        "colab": {
          "base_uri": "https://localhost:8080/"
        },
        "id": "RbO7VHz3Idxr",
        "outputId": "fbba7cc1-7146-44f7-ad37-6c3e20b3e746"
      },
      "execution_count": 2,
      "outputs": [
        {
          "output_type": "stream",
          "name": "stdout",
          "text": [
            "Collecting wget\n",
            "  Downloading wget-3.2.zip (10 kB)\n",
            "  Preparing metadata (setup.py) ... \u001b[?25l\u001b[?25hdone\n",
            "Collecting datasets\n",
            "  Downloading datasets-3.2.0-py3-none-any.whl.metadata (20 kB)\n",
            "Requirement already satisfied: filelock in /usr/local/lib/python3.11/dist-packages (from datasets) (3.17.0)\n",
            "Requirement already satisfied: numpy>=1.17 in /usr/local/lib/python3.11/dist-packages (from datasets) (1.26.4)\n",
            "Requirement already satisfied: pyarrow>=15.0.0 in /usr/local/lib/python3.11/dist-packages (from datasets) (17.0.0)\n",
            "Collecting dill<0.3.9,>=0.3.0 (from datasets)\n",
            "  Downloading dill-0.3.8-py3-none-any.whl.metadata (10 kB)\n",
            "Requirement already satisfied: pandas in /usr/local/lib/python3.11/dist-packages (from datasets) (2.2.2)\n",
            "Requirement already satisfied: requests>=2.32.2 in /usr/local/lib/python3.11/dist-packages (from datasets) (2.32.3)\n",
            "Requirement already satisfied: tqdm>=4.66.3 in /usr/local/lib/python3.11/dist-packages (from datasets) (4.67.1)\n",
            "Collecting xxhash (from datasets)\n",
            "  Downloading xxhash-3.5.0-cp311-cp311-manylinux_2_17_x86_64.manylinux2014_x86_64.whl.metadata (12 kB)\n",
            "Collecting multiprocess<0.70.17 (from datasets)\n",
            "  Downloading multiprocess-0.70.16-py311-none-any.whl.metadata (7.2 kB)\n",
            "Collecting fsspec<=2024.9.0,>=2023.1.0 (from fsspec[http]<=2024.9.0,>=2023.1.0->datasets)\n",
            "  Downloading fsspec-2024.9.0-py3-none-any.whl.metadata (11 kB)\n",
            "Requirement already satisfied: aiohttp in /usr/local/lib/python3.11/dist-packages (from datasets) (3.11.11)\n",
            "Requirement already satisfied: huggingface-hub>=0.23.0 in /usr/local/lib/python3.11/dist-packages (from datasets) (0.27.1)\n",
            "Requirement already satisfied: packaging in /usr/local/lib/python3.11/dist-packages (from datasets) (24.2)\n",
            "Requirement already satisfied: pyyaml>=5.1 in /usr/local/lib/python3.11/dist-packages (from datasets) (6.0.2)\n",
            "Requirement already satisfied: aiohappyeyeballs>=2.3.0 in /usr/local/lib/python3.11/dist-packages (from aiohttp->datasets) (2.4.4)\n",
            "Requirement already satisfied: aiosignal>=1.1.2 in /usr/local/lib/python3.11/dist-packages (from aiohttp->datasets) (1.3.2)\n",
            "Requirement already satisfied: attrs>=17.3.0 in /usr/local/lib/python3.11/dist-packages (from aiohttp->datasets) (25.1.0)\n",
            "Requirement already satisfied: frozenlist>=1.1.1 in /usr/local/lib/python3.11/dist-packages (from aiohttp->datasets) (1.5.0)\n",
            "Requirement already satisfied: multidict<7.0,>=4.5 in /usr/local/lib/python3.11/dist-packages (from aiohttp->datasets) (6.1.0)\n",
            "Requirement already satisfied: propcache>=0.2.0 in /usr/local/lib/python3.11/dist-packages (from aiohttp->datasets) (0.2.1)\n",
            "Requirement already satisfied: yarl<2.0,>=1.17.0 in /usr/local/lib/python3.11/dist-packages (from aiohttp->datasets) (1.18.3)\n",
            "Requirement already satisfied: typing-extensions>=3.7.4.3 in /usr/local/lib/python3.11/dist-packages (from huggingface-hub>=0.23.0->datasets) (4.12.2)\n",
            "Requirement already satisfied: charset-normalizer<4,>=2 in /usr/local/lib/python3.11/dist-packages (from requests>=2.32.2->datasets) (3.4.1)\n",
            "Requirement already satisfied: idna<4,>=2.5 in /usr/local/lib/python3.11/dist-packages (from requests>=2.32.2->datasets) (3.10)\n",
            "Requirement already satisfied: urllib3<3,>=1.21.1 in /usr/local/lib/python3.11/dist-packages (from requests>=2.32.2->datasets) (2.3.0)\n",
            "Requirement already satisfied: certifi>=2017.4.17 in /usr/local/lib/python3.11/dist-packages (from requests>=2.32.2->datasets) (2024.12.14)\n",
            "Requirement already satisfied: python-dateutil>=2.8.2 in /usr/local/lib/python3.11/dist-packages (from pandas->datasets) (2.8.2)\n",
            "Requirement already satisfied: pytz>=2020.1 in /usr/local/lib/python3.11/dist-packages (from pandas->datasets) (2024.2)\n",
            "Requirement already satisfied: tzdata>=2022.7 in /usr/local/lib/python3.11/dist-packages (from pandas->datasets) (2025.1)\n",
            "Requirement already satisfied: six>=1.5 in /usr/local/lib/python3.11/dist-packages (from python-dateutil>=2.8.2->pandas->datasets) (1.17.0)\n",
            "Downloading datasets-3.2.0-py3-none-any.whl (480 kB)\n",
            "\u001b[2K   \u001b[90m━━━━━━━━━━━━━━━━━━━━━━━━━━━━━━━━━━━━━━━━\u001b[0m \u001b[32m480.6/480.6 kB\u001b[0m \u001b[31m9.7 MB/s\u001b[0m eta \u001b[36m0:00:00\u001b[0m\n",
            "\u001b[?25hDownloading dill-0.3.8-py3-none-any.whl (116 kB)\n",
            "\u001b[2K   \u001b[90m━━━━━━━━━━━━━━━━━━━━━━━━━━━━━━━━━━━━━━━━\u001b[0m \u001b[32m116.3/116.3 kB\u001b[0m \u001b[31m10.5 MB/s\u001b[0m eta \u001b[36m0:00:00\u001b[0m\n",
            "\u001b[?25hDownloading fsspec-2024.9.0-py3-none-any.whl (179 kB)\n",
            "\u001b[2K   \u001b[90m━━━━━━━━━━━━━━━━━━━━━━━━━━━━━━━━━━━━━━━━\u001b[0m \u001b[32m179.3/179.3 kB\u001b[0m \u001b[31m14.8 MB/s\u001b[0m eta \u001b[36m0:00:00\u001b[0m\n",
            "\u001b[?25hDownloading multiprocess-0.70.16-py311-none-any.whl (143 kB)\n",
            "\u001b[2K   \u001b[90m━━━━━━━━━━━━━━━━━━━━━━━━━━━━━━━━━━━━━━━━\u001b[0m \u001b[32m143.5/143.5 kB\u001b[0m \u001b[31m12.8 MB/s\u001b[0m eta \u001b[36m0:00:00\u001b[0m\n",
            "\u001b[?25hDownloading xxhash-3.5.0-cp311-cp311-manylinux_2_17_x86_64.manylinux2014_x86_64.whl (194 kB)\n",
            "\u001b[2K   \u001b[90m━━━━━━━━━━━━━━━━━━━━━━━━━━━━━━━━━━━━━━━━\u001b[0m \u001b[32m194.8/194.8 kB\u001b[0m \u001b[31m16.9 MB/s\u001b[0m eta \u001b[36m0:00:00\u001b[0m\n",
            "\u001b[?25hBuilding wheels for collected packages: wget\n",
            "  Building wheel for wget (setup.py) ... \u001b[?25l\u001b[?25hdone\n",
            "  Created wheel for wget: filename=wget-3.2-py3-none-any.whl size=9656 sha256=a596eee03d64fa71cc61f98ec7c7603d8fca7301376adb525c15316e6c605646\n",
            "  Stored in directory: /root/.cache/pip/wheels/40/b3/0f/a40dbd1c6861731779f62cc4babcb234387e11d697df70ee97\n",
            "Successfully built wget\n",
            "Installing collected packages: wget, xxhash, fsspec, dill, multiprocess, datasets\n",
            "  Attempting uninstall: fsspec\n",
            "    Found existing installation: fsspec 2024.10.0\n",
            "    Uninstalling fsspec-2024.10.0:\n",
            "      Successfully uninstalled fsspec-2024.10.0\n",
            "\u001b[31mERROR: pip's dependency resolver does not currently take into account all the packages that are installed. This behaviour is the source of the following dependency conflicts.\n",
            "gcsfs 2024.10.0 requires fsspec==2024.10.0, but you have fsspec 2024.9.0 which is incompatible.\n",
            "torch 2.5.1+cu124 requires nvidia-cublas-cu12==12.4.5.8; platform_system == \"Linux\" and platform_machine == \"x86_64\", but you have nvidia-cublas-cu12 12.5.3.2 which is incompatible.\n",
            "torch 2.5.1+cu124 requires nvidia-cuda-cupti-cu12==12.4.127; platform_system == \"Linux\" and platform_machine == \"x86_64\", but you have nvidia-cuda-cupti-cu12 12.5.82 which is incompatible.\n",
            "torch 2.5.1+cu124 requires nvidia-cuda-nvrtc-cu12==12.4.127; platform_system == \"Linux\" and platform_machine == \"x86_64\", but you have nvidia-cuda-nvrtc-cu12 12.5.82 which is incompatible.\n",
            "torch 2.5.1+cu124 requires nvidia-cuda-runtime-cu12==12.4.127; platform_system == \"Linux\" and platform_machine == \"x86_64\", but you have nvidia-cuda-runtime-cu12 12.5.82 which is incompatible.\n",
            "torch 2.5.1+cu124 requires nvidia-cudnn-cu12==9.1.0.70; platform_system == \"Linux\" and platform_machine == \"x86_64\", but you have nvidia-cudnn-cu12 9.3.0.75 which is incompatible.\n",
            "torch 2.5.1+cu124 requires nvidia-cufft-cu12==11.2.1.3; platform_system == \"Linux\" and platform_machine == \"x86_64\", but you have nvidia-cufft-cu12 11.2.3.61 which is incompatible.\n",
            "torch 2.5.1+cu124 requires nvidia-curand-cu12==10.3.5.147; platform_system == \"Linux\" and platform_machine == \"x86_64\", but you have nvidia-curand-cu12 10.3.6.82 which is incompatible.\n",
            "torch 2.5.1+cu124 requires nvidia-cusolver-cu12==11.6.1.9; platform_system == \"Linux\" and platform_machine == \"x86_64\", but you have nvidia-cusolver-cu12 11.6.3.83 which is incompatible.\n",
            "torch 2.5.1+cu124 requires nvidia-cusparse-cu12==12.3.1.170; platform_system == \"Linux\" and platform_machine == \"x86_64\", but you have nvidia-cusparse-cu12 12.5.1.3 which is incompatible.\n",
            "torch 2.5.1+cu124 requires nvidia-nvjitlink-cu12==12.4.127; platform_system == \"Linux\" and platform_machine == \"x86_64\", but you have nvidia-nvjitlink-cu12 12.5.82 which is incompatible.\u001b[0m\u001b[31m\n",
            "\u001b[0mSuccessfully installed datasets-3.2.0 dill-0.3.8 fsspec-2024.9.0 multiprocess-0.70.16 wget-3.2 xxhash-3.5.0\n"
          ]
        }
      ]
    },
    {
      "cell_type": "code",
      "source": [
        "import wget\n",
        "\n",
        "import pandas as pd\n",
        "import numpy as np\n",
        "import re\n",
        "\n",
        "import matplotlib.pyplot as plt\n",
        "import seaborn as sns\n",
        "\n",
        "import torch\n",
        "\n",
        "import string\n",
        "import nltk\n",
        "from nltk import word_tokenize\n",
        "from nltk.probability import FreqDist\n",
        "from nltk.corpus import stopwords\n",
        "from wordcloud import WordCloud\n",
        "from collections import Counter\n",
        "import os\n",
        "import shutil\n",
        "from datasets import Dataset, load_from_disk\n",
        "from transformers import (\n",
        "    AutoTokenizer,\n",
        "    AutoModelForCausalLM,\n",
        "    GPT2LMHeadModel,\n",
        "    GPT2TokenizerFast,\n",
        "    Trainer,\n",
        "    TrainingArguments,\n",
        "    DataCollatorForLanguageModeling\n",
        ")\n",
        "from random import randint\n",
        "\n",
        "%matplotlib inline"
      ],
      "metadata": {
        "id": "rpm8zfSCIUTR"
      },
      "execution_count": 3,
      "outputs": []
    },
    {
      "cell_type": "code",
      "source": [
        "!pip install kaggle"
      ],
      "metadata": {
        "colab": {
          "base_uri": "https://localhost:8080/"
        },
        "id": "_lXSGpj5KOUj",
        "outputId": "bf813088-5fa5-415c-f92e-ce42a752efe9"
      },
      "execution_count": 9,
      "outputs": [
        {
          "output_type": "stream",
          "name": "stdout",
          "text": [
            "Requirement already satisfied: kaggle in /usr/local/lib/python3.11/dist-packages (1.6.17)\n",
            "Requirement already satisfied: six>=1.10 in /usr/local/lib/python3.11/dist-packages (from kaggle) (1.17.0)\n",
            "Requirement already satisfied: certifi>=2023.7.22 in /usr/local/lib/python3.11/dist-packages (from kaggle) (2024.12.14)\n",
            "Requirement already satisfied: python-dateutil in /usr/local/lib/python3.11/dist-packages (from kaggle) (2.8.2)\n",
            "Requirement already satisfied: requests in /usr/local/lib/python3.11/dist-packages (from kaggle) (2.32.3)\n",
            "Requirement already satisfied: tqdm in /usr/local/lib/python3.11/dist-packages (from kaggle) (4.67.1)\n",
            "Requirement already satisfied: python-slugify in /usr/local/lib/python3.11/dist-packages (from kaggle) (8.0.4)\n",
            "Requirement already satisfied: urllib3 in /usr/local/lib/python3.11/dist-packages (from kaggle) (2.3.0)\n",
            "Requirement already satisfied: bleach in /usr/local/lib/python3.11/dist-packages (from kaggle) (6.2.0)\n",
            "Requirement already satisfied: webencodings in /usr/local/lib/python3.11/dist-packages (from bleach->kaggle) (0.5.1)\n",
            "Requirement already satisfied: text-unidecode>=1.3 in /usr/local/lib/python3.11/dist-packages (from python-slugify->kaggle) (1.3)\n",
            "Requirement already satisfied: charset-normalizer<4,>=2 in /usr/local/lib/python3.11/dist-packages (from requests->kaggle) (3.4.1)\n",
            "Requirement already satisfied: idna<4,>=2.5 in /usr/local/lib/python3.11/dist-packages (from requests->kaggle) (3.10)\n"
          ]
        }
      ]
    },
    {
      "cell_type": "code",
      "source": [
        "from google.colab import files\n",
        "\n",
        "files.upload()  # Загрузите kaggle.json"
      ],
      "metadata": {
        "colab": {
          "base_uri": "https://localhost:8080/",
          "height": 90
        },
        "id": "64vMlQM7KOeP",
        "outputId": "d50227c2-4dec-4b51-97ee-35c1e585c795"
      },
      "execution_count": 10,
      "outputs": [
        {
          "output_type": "display_data",
          "data": {
            "text/plain": [
              "<IPython.core.display.HTML object>"
            ],
            "text/html": [
              "\n",
              "     <input type=\"file\" id=\"files-575cb71a-bbb2-411c-a61e-0ca390a5b079\" name=\"files[]\" multiple disabled\n",
              "        style=\"border:none\" />\n",
              "     <output id=\"result-575cb71a-bbb2-411c-a61e-0ca390a5b079\">\n",
              "      Upload widget is only available when the cell has been executed in the\n",
              "      current browser session. Please rerun this cell to enable.\n",
              "      </output>\n",
              "      <script>// Copyright 2017 Google LLC\n",
              "//\n",
              "// Licensed under the Apache License, Version 2.0 (the \"License\");\n",
              "// you may not use this file except in compliance with the License.\n",
              "// You may obtain a copy of the License at\n",
              "//\n",
              "//      http://www.apache.org/licenses/LICENSE-2.0\n",
              "//\n",
              "// Unless required by applicable law or agreed to in writing, software\n",
              "// distributed under the License is distributed on an \"AS IS\" BASIS,\n",
              "// WITHOUT WARRANTIES OR CONDITIONS OF ANY KIND, either express or implied.\n",
              "// See the License for the specific language governing permissions and\n",
              "// limitations under the License.\n",
              "\n",
              "/**\n",
              " * @fileoverview Helpers for google.colab Python module.\n",
              " */\n",
              "(function(scope) {\n",
              "function span(text, styleAttributes = {}) {\n",
              "  const element = document.createElement('span');\n",
              "  element.textContent = text;\n",
              "  for (const key of Object.keys(styleAttributes)) {\n",
              "    element.style[key] = styleAttributes[key];\n",
              "  }\n",
              "  return element;\n",
              "}\n",
              "\n",
              "// Max number of bytes which will be uploaded at a time.\n",
              "const MAX_PAYLOAD_SIZE = 100 * 1024;\n",
              "\n",
              "function _uploadFiles(inputId, outputId) {\n",
              "  const steps = uploadFilesStep(inputId, outputId);\n",
              "  const outputElement = document.getElementById(outputId);\n",
              "  // Cache steps on the outputElement to make it available for the next call\n",
              "  // to uploadFilesContinue from Python.\n",
              "  outputElement.steps = steps;\n",
              "\n",
              "  return _uploadFilesContinue(outputId);\n",
              "}\n",
              "\n",
              "// This is roughly an async generator (not supported in the browser yet),\n",
              "// where there are multiple asynchronous steps and the Python side is going\n",
              "// to poll for completion of each step.\n",
              "// This uses a Promise to block the python side on completion of each step,\n",
              "// then passes the result of the previous step as the input to the next step.\n",
              "function _uploadFilesContinue(outputId) {\n",
              "  const outputElement = document.getElementById(outputId);\n",
              "  const steps = outputElement.steps;\n",
              "\n",
              "  const next = steps.next(outputElement.lastPromiseValue);\n",
              "  return Promise.resolve(next.value.promise).then((value) => {\n",
              "    // Cache the last promise value to make it available to the next\n",
              "    // step of the generator.\n",
              "    outputElement.lastPromiseValue = value;\n",
              "    return next.value.response;\n",
              "  });\n",
              "}\n",
              "\n",
              "/**\n",
              " * Generator function which is called between each async step of the upload\n",
              " * process.\n",
              " * @param {string} inputId Element ID of the input file picker element.\n",
              " * @param {string} outputId Element ID of the output display.\n",
              " * @return {!Iterable<!Object>} Iterable of next steps.\n",
              " */\n",
              "function* uploadFilesStep(inputId, outputId) {\n",
              "  const inputElement = document.getElementById(inputId);\n",
              "  inputElement.disabled = false;\n",
              "\n",
              "  const outputElement = document.getElementById(outputId);\n",
              "  outputElement.innerHTML = '';\n",
              "\n",
              "  const pickedPromise = new Promise((resolve) => {\n",
              "    inputElement.addEventListener('change', (e) => {\n",
              "      resolve(e.target.files);\n",
              "    });\n",
              "  });\n",
              "\n",
              "  const cancel = document.createElement('button');\n",
              "  inputElement.parentElement.appendChild(cancel);\n",
              "  cancel.textContent = 'Cancel upload';\n",
              "  const cancelPromise = new Promise((resolve) => {\n",
              "    cancel.onclick = () => {\n",
              "      resolve(null);\n",
              "    };\n",
              "  });\n",
              "\n",
              "  // Wait for the user to pick the files.\n",
              "  const files = yield {\n",
              "    promise: Promise.race([pickedPromise, cancelPromise]),\n",
              "    response: {\n",
              "      action: 'starting',\n",
              "    }\n",
              "  };\n",
              "\n",
              "  cancel.remove();\n",
              "\n",
              "  // Disable the input element since further picks are not allowed.\n",
              "  inputElement.disabled = true;\n",
              "\n",
              "  if (!files) {\n",
              "    return {\n",
              "      response: {\n",
              "        action: 'complete',\n",
              "      }\n",
              "    };\n",
              "  }\n",
              "\n",
              "  for (const file of files) {\n",
              "    const li = document.createElement('li');\n",
              "    li.append(span(file.name, {fontWeight: 'bold'}));\n",
              "    li.append(span(\n",
              "        `(${file.type || 'n/a'}) - ${file.size} bytes, ` +\n",
              "        `last modified: ${\n",
              "            file.lastModifiedDate ? file.lastModifiedDate.toLocaleDateString() :\n",
              "                                    'n/a'} - `));\n",
              "    const percent = span('0% done');\n",
              "    li.appendChild(percent);\n",
              "\n",
              "    outputElement.appendChild(li);\n",
              "\n",
              "    const fileDataPromise = new Promise((resolve) => {\n",
              "      const reader = new FileReader();\n",
              "      reader.onload = (e) => {\n",
              "        resolve(e.target.result);\n",
              "      };\n",
              "      reader.readAsArrayBuffer(file);\n",
              "    });\n",
              "    // Wait for the data to be ready.\n",
              "    let fileData = yield {\n",
              "      promise: fileDataPromise,\n",
              "      response: {\n",
              "        action: 'continue',\n",
              "      }\n",
              "    };\n",
              "\n",
              "    // Use a chunked sending to avoid message size limits. See b/62115660.\n",
              "    let position = 0;\n",
              "    do {\n",
              "      const length = Math.min(fileData.byteLength - position, MAX_PAYLOAD_SIZE);\n",
              "      const chunk = new Uint8Array(fileData, position, length);\n",
              "      position += length;\n",
              "\n",
              "      const base64 = btoa(String.fromCharCode.apply(null, chunk));\n",
              "      yield {\n",
              "        response: {\n",
              "          action: 'append',\n",
              "          file: file.name,\n",
              "          data: base64,\n",
              "        },\n",
              "      };\n",
              "\n",
              "      let percentDone = fileData.byteLength === 0 ?\n",
              "          100 :\n",
              "          Math.round((position / fileData.byteLength) * 100);\n",
              "      percent.textContent = `${percentDone}% done`;\n",
              "\n",
              "    } while (position < fileData.byteLength);\n",
              "  }\n",
              "\n",
              "  // All done.\n",
              "  yield {\n",
              "    response: {\n",
              "      action: 'complete',\n",
              "    }\n",
              "  };\n",
              "}\n",
              "\n",
              "scope.google = scope.google || {};\n",
              "scope.google.colab = scope.google.colab || {};\n",
              "scope.google.colab._files = {\n",
              "  _uploadFiles,\n",
              "  _uploadFilesContinue,\n",
              "};\n",
              "})(self);\n",
              "</script> "
            ]
          },
          "metadata": {}
        },
        {
          "output_type": "stream",
          "name": "stdout",
          "text": [
            "Saving kaggle.json to kaggle.json\n"
          ]
        },
        {
          "output_type": "execute_result",
          "data": {
            "text/plain": [
              "{'kaggle.json': b'{\"username\":\"iliaberlov\",\"key\":\"79380341e9bf51a0230ff1da9c1060fd\"}'}"
            ]
          },
          "metadata": {},
          "execution_count": 10
        }
      ]
    },
    {
      "cell_type": "code",
      "source": [
        "!mkdir -p ~/.kaggle\n",
        "!mv kaggle.json ~/.kaggle/\n",
        "!chmod 600 ~/.kaggle/kaggle.json\n"
      ],
      "metadata": {
        "id": "zJWqaUy2Kag_"
      },
      "execution_count": 11,
      "outputs": []
    },
    {
      "cell_type": "code",
      "source": [
        "!kaggle datasets download -d kyakovlev/yandex-geo-reviews-dataset-2023 --unzip"
      ],
      "metadata": {
        "colab": {
          "base_uri": "https://localhost:8080/"
        },
        "id": "TcoCqM0WKe6D",
        "outputId": "6515f5a4-bf85-479f-963a-f62c62a22b6e"
      },
      "execution_count": 12,
      "outputs": [
        {
          "output_type": "stream",
          "name": "stdout",
          "text": [
            "Dataset URL: https://www.kaggle.com/datasets/kyakovlev/yandex-geo-reviews-dataset-2023\n",
            "License(s): other\n",
            "Downloading yandex-geo-reviews-dataset-2023.zip to /content\n",
            " 95% 189M/200M [00:01<00:00, 150MB/s]\n",
            "100% 200M/200M [00:01<00:00, 144MB/s]\n"
          ]
        }
      ]
    },
    {
      "cell_type": "markdown",
      "source": [
        "Предобработка и анализ данных"
      ],
      "metadata": {
        "id": "mZ00iAYCREnZ"
      }
    },
    {
      "cell_type": "code",
      "source": [
        "df = pd.read_csv('geo-reviews-dataset-2023.tskv', sep='\\t', header=None, names=['address', 'name_ru', 'rating', 'rubrics', 'text'])\n",
        "columns = df.columns.to_list()\n",
        "# Пройдем в цикле по колонкам и удалим из ячеек ключи\n",
        "for column in columns:\n",
        "    df[column] = df[column].replace(f'{column}=', '', regex=True)"
      ],
      "metadata": {
        "id": "GSMyPCqKJ2_r"
      },
      "execution_count": 4,
      "outputs": []
    },
    {
      "cell_type": "code",
      "source": [
        "# Посмотрим первые строки\n",
        "df.head()"
      ],
      "metadata": {
        "colab": {
          "base_uri": "https://localhost:8080/",
          "height": 328
        },
        "id": "5QYQeGy7J65y",
        "outputId": "3a14f476-f0c6-44a4-dd68-27e0efd3e4cb"
      },
      "execution_count": 5,
      "outputs": [
        {
          "output_type": "execute_result",
          "data": {
            "text/plain": [
              "                                             address             name_ru  \\\n",
              "0  Екатеринбург, ул. Московская / ул. Волгоградск...  Московский квартал   \n",
              "1  Московская область, Электросталь, проспект Лен...   Продукты Ермолино   \n",
              "2  Краснодар, Прикубанский внутригородской округ,...             LimeFit   \n",
              "3   Санкт-Петербург, проспект Энгельса, 111, корп. 1        Snow-Express   \n",
              "4                  Тверь, Волоколамский проспект, 39  Студия Beauty Brow   \n",
              "\n",
              "  rating                                            rubrics  \\\n",
              "0     3.                                     Жилой комплекс   \n",
              "1     5.  Магазин продуктов;Продукты глубокой заморозки;...   \n",
              "2     1.                                        Фитнес-клуб   \n",
              "3     4.        Пункт проката;Прокат велосипедов;Сапсёрфинг   \n",
              "4     5.  Салон красоты;Визажисты, стилисты;Салон бровей...   \n",
              "\n",
              "                                                text  \n",
              "0  Московский квартал 2.\\nШумно : летом по ночам ...  \n",
              "1  Замечательная сеть магазинов в общем, хороший ...  \n",
              "2  Не знаю смутят ли кого-то данные правила, но я...  \n",
              "3  Хорошие условия аренды. \\nДружелюбный персонал...  \n",
              "4  Топ мастер Ангелина топ во всех смыслах ) Немн...  "
            ],
            "text/html": [
              "\n",
              "  <div id=\"df-ae0d044d-2294-4dce-95c9-832970507298\" class=\"colab-df-container\">\n",
              "    <div>\n",
              "<style scoped>\n",
              "    .dataframe tbody tr th:only-of-type {\n",
              "        vertical-align: middle;\n",
              "    }\n",
              "\n",
              "    .dataframe tbody tr th {\n",
              "        vertical-align: top;\n",
              "    }\n",
              "\n",
              "    .dataframe thead th {\n",
              "        text-align: right;\n",
              "    }\n",
              "</style>\n",
              "<table border=\"1\" class=\"dataframe\">\n",
              "  <thead>\n",
              "    <tr style=\"text-align: right;\">\n",
              "      <th></th>\n",
              "      <th>address</th>\n",
              "      <th>name_ru</th>\n",
              "      <th>rating</th>\n",
              "      <th>rubrics</th>\n",
              "      <th>text</th>\n",
              "    </tr>\n",
              "  </thead>\n",
              "  <tbody>\n",
              "    <tr>\n",
              "      <th>0</th>\n",
              "      <td>Екатеринбург, ул. Московская / ул. Волгоградск...</td>\n",
              "      <td>Московский квартал</td>\n",
              "      <td>3.</td>\n",
              "      <td>Жилой комплекс</td>\n",
              "      <td>Московский квартал 2.\\nШумно : летом по ночам ...</td>\n",
              "    </tr>\n",
              "    <tr>\n",
              "      <th>1</th>\n",
              "      <td>Московская область, Электросталь, проспект Лен...</td>\n",
              "      <td>Продукты Ермолино</td>\n",
              "      <td>5.</td>\n",
              "      <td>Магазин продуктов;Продукты глубокой заморозки;...</td>\n",
              "      <td>Замечательная сеть магазинов в общем, хороший ...</td>\n",
              "    </tr>\n",
              "    <tr>\n",
              "      <th>2</th>\n",
              "      <td>Краснодар, Прикубанский внутригородской округ,...</td>\n",
              "      <td>LimeFit</td>\n",
              "      <td>1.</td>\n",
              "      <td>Фитнес-клуб</td>\n",
              "      <td>Не знаю смутят ли кого-то данные правила, но я...</td>\n",
              "    </tr>\n",
              "    <tr>\n",
              "      <th>3</th>\n",
              "      <td>Санкт-Петербург, проспект Энгельса, 111, корп. 1</td>\n",
              "      <td>Snow-Express</td>\n",
              "      <td>4.</td>\n",
              "      <td>Пункт проката;Прокат велосипедов;Сапсёрфинг</td>\n",
              "      <td>Хорошие условия аренды. \\nДружелюбный персонал...</td>\n",
              "    </tr>\n",
              "    <tr>\n",
              "      <th>4</th>\n",
              "      <td>Тверь, Волоколамский проспект, 39</td>\n",
              "      <td>Студия Beauty Brow</td>\n",
              "      <td>5.</td>\n",
              "      <td>Салон красоты;Визажисты, стилисты;Салон бровей...</td>\n",
              "      <td>Топ мастер Ангелина топ во всех смыслах ) Немн...</td>\n",
              "    </tr>\n",
              "  </tbody>\n",
              "</table>\n",
              "</div>\n",
              "    <div class=\"colab-df-buttons\">\n",
              "\n",
              "  <div class=\"colab-df-container\">\n",
              "    <button class=\"colab-df-convert\" onclick=\"convertToInteractive('df-ae0d044d-2294-4dce-95c9-832970507298')\"\n",
              "            title=\"Convert this dataframe to an interactive table.\"\n",
              "            style=\"display:none;\">\n",
              "\n",
              "  <svg xmlns=\"http://www.w3.org/2000/svg\" height=\"24px\" viewBox=\"0 -960 960 960\">\n",
              "    <path d=\"M120-120v-720h720v720H120Zm60-500h600v-160H180v160Zm220 220h160v-160H400v160Zm0 220h160v-160H400v160ZM180-400h160v-160H180v160Zm440 0h160v-160H620v160ZM180-180h160v-160H180v160Zm440 0h160v-160H620v160Z\"/>\n",
              "  </svg>\n",
              "    </button>\n",
              "\n",
              "  <style>\n",
              "    .colab-df-container {\n",
              "      display:flex;\n",
              "      gap: 12px;\n",
              "    }\n",
              "\n",
              "    .colab-df-convert {\n",
              "      background-color: #E8F0FE;\n",
              "      border: none;\n",
              "      border-radius: 50%;\n",
              "      cursor: pointer;\n",
              "      display: none;\n",
              "      fill: #1967D2;\n",
              "      height: 32px;\n",
              "      padding: 0 0 0 0;\n",
              "      width: 32px;\n",
              "    }\n",
              "\n",
              "    .colab-df-convert:hover {\n",
              "      background-color: #E2EBFA;\n",
              "      box-shadow: 0px 1px 2px rgba(60, 64, 67, 0.3), 0px 1px 3px 1px rgba(60, 64, 67, 0.15);\n",
              "      fill: #174EA6;\n",
              "    }\n",
              "\n",
              "    .colab-df-buttons div {\n",
              "      margin-bottom: 4px;\n",
              "    }\n",
              "\n",
              "    [theme=dark] .colab-df-convert {\n",
              "      background-color: #3B4455;\n",
              "      fill: #D2E3FC;\n",
              "    }\n",
              "\n",
              "    [theme=dark] .colab-df-convert:hover {\n",
              "      background-color: #434B5C;\n",
              "      box-shadow: 0px 1px 3px 1px rgba(0, 0, 0, 0.15);\n",
              "      filter: drop-shadow(0px 1px 2px rgba(0, 0, 0, 0.3));\n",
              "      fill: #FFFFFF;\n",
              "    }\n",
              "  </style>\n",
              "\n",
              "    <script>\n",
              "      const buttonEl =\n",
              "        document.querySelector('#df-ae0d044d-2294-4dce-95c9-832970507298 button.colab-df-convert');\n",
              "      buttonEl.style.display =\n",
              "        google.colab.kernel.accessAllowed ? 'block' : 'none';\n",
              "\n",
              "      async function convertToInteractive(key) {\n",
              "        const element = document.querySelector('#df-ae0d044d-2294-4dce-95c9-832970507298');\n",
              "        const dataTable =\n",
              "          await google.colab.kernel.invokeFunction('convertToInteractive',\n",
              "                                                    [key], {});\n",
              "        if (!dataTable) return;\n",
              "\n",
              "        const docLinkHtml = 'Like what you see? Visit the ' +\n",
              "          '<a target=\"_blank\" href=https://colab.research.google.com/notebooks/data_table.ipynb>data table notebook</a>'\n",
              "          + ' to learn more about interactive tables.';\n",
              "        element.innerHTML = '';\n",
              "        dataTable['output_type'] = 'display_data';\n",
              "        await google.colab.output.renderOutput(dataTable, element);\n",
              "        const docLink = document.createElement('div');\n",
              "        docLink.innerHTML = docLinkHtml;\n",
              "        element.appendChild(docLink);\n",
              "      }\n",
              "    </script>\n",
              "  </div>\n",
              "\n",
              "\n",
              "<div id=\"df-82f7d261-a7eb-414f-b755-26615f499157\">\n",
              "  <button class=\"colab-df-quickchart\" onclick=\"quickchart('df-82f7d261-a7eb-414f-b755-26615f499157')\"\n",
              "            title=\"Suggest charts\"\n",
              "            style=\"display:none;\">\n",
              "\n",
              "<svg xmlns=\"http://www.w3.org/2000/svg\" height=\"24px\"viewBox=\"0 0 24 24\"\n",
              "     width=\"24px\">\n",
              "    <g>\n",
              "        <path d=\"M19 3H5c-1.1 0-2 .9-2 2v14c0 1.1.9 2 2 2h14c1.1 0 2-.9 2-2V5c0-1.1-.9-2-2-2zM9 17H7v-7h2v7zm4 0h-2V7h2v10zm4 0h-2v-4h2v4z\"/>\n",
              "    </g>\n",
              "</svg>\n",
              "  </button>\n",
              "\n",
              "<style>\n",
              "  .colab-df-quickchart {\n",
              "      --bg-color: #E8F0FE;\n",
              "      --fill-color: #1967D2;\n",
              "      --hover-bg-color: #E2EBFA;\n",
              "      --hover-fill-color: #174EA6;\n",
              "      --disabled-fill-color: #AAA;\n",
              "      --disabled-bg-color: #DDD;\n",
              "  }\n",
              "\n",
              "  [theme=dark] .colab-df-quickchart {\n",
              "      --bg-color: #3B4455;\n",
              "      --fill-color: #D2E3FC;\n",
              "      --hover-bg-color: #434B5C;\n",
              "      --hover-fill-color: #FFFFFF;\n",
              "      --disabled-bg-color: #3B4455;\n",
              "      --disabled-fill-color: #666;\n",
              "  }\n",
              "\n",
              "  .colab-df-quickchart {\n",
              "    background-color: var(--bg-color);\n",
              "    border: none;\n",
              "    border-radius: 50%;\n",
              "    cursor: pointer;\n",
              "    display: none;\n",
              "    fill: var(--fill-color);\n",
              "    height: 32px;\n",
              "    padding: 0;\n",
              "    width: 32px;\n",
              "  }\n",
              "\n",
              "  .colab-df-quickchart:hover {\n",
              "    background-color: var(--hover-bg-color);\n",
              "    box-shadow: 0 1px 2px rgba(60, 64, 67, 0.3), 0 1px 3px 1px rgba(60, 64, 67, 0.15);\n",
              "    fill: var(--button-hover-fill-color);\n",
              "  }\n",
              "\n",
              "  .colab-df-quickchart-complete:disabled,\n",
              "  .colab-df-quickchart-complete:disabled:hover {\n",
              "    background-color: var(--disabled-bg-color);\n",
              "    fill: var(--disabled-fill-color);\n",
              "    box-shadow: none;\n",
              "  }\n",
              "\n",
              "  .colab-df-spinner {\n",
              "    border: 2px solid var(--fill-color);\n",
              "    border-color: transparent;\n",
              "    border-bottom-color: var(--fill-color);\n",
              "    animation:\n",
              "      spin 1s steps(1) infinite;\n",
              "  }\n",
              "\n",
              "  @keyframes spin {\n",
              "    0% {\n",
              "      border-color: transparent;\n",
              "      border-bottom-color: var(--fill-color);\n",
              "      border-left-color: var(--fill-color);\n",
              "    }\n",
              "    20% {\n",
              "      border-color: transparent;\n",
              "      border-left-color: var(--fill-color);\n",
              "      border-top-color: var(--fill-color);\n",
              "    }\n",
              "    30% {\n",
              "      border-color: transparent;\n",
              "      border-left-color: var(--fill-color);\n",
              "      border-top-color: var(--fill-color);\n",
              "      border-right-color: var(--fill-color);\n",
              "    }\n",
              "    40% {\n",
              "      border-color: transparent;\n",
              "      border-right-color: var(--fill-color);\n",
              "      border-top-color: var(--fill-color);\n",
              "    }\n",
              "    60% {\n",
              "      border-color: transparent;\n",
              "      border-right-color: var(--fill-color);\n",
              "    }\n",
              "    80% {\n",
              "      border-color: transparent;\n",
              "      border-right-color: var(--fill-color);\n",
              "      border-bottom-color: var(--fill-color);\n",
              "    }\n",
              "    90% {\n",
              "      border-color: transparent;\n",
              "      border-bottom-color: var(--fill-color);\n",
              "    }\n",
              "  }\n",
              "</style>\n",
              "\n",
              "  <script>\n",
              "    async function quickchart(key) {\n",
              "      const quickchartButtonEl =\n",
              "        document.querySelector('#' + key + ' button');\n",
              "      quickchartButtonEl.disabled = true;  // To prevent multiple clicks.\n",
              "      quickchartButtonEl.classList.add('colab-df-spinner');\n",
              "      try {\n",
              "        const charts = await google.colab.kernel.invokeFunction(\n",
              "            'suggestCharts', [key], {});\n",
              "      } catch (error) {\n",
              "        console.error('Error during call to suggestCharts:', error);\n",
              "      }\n",
              "      quickchartButtonEl.classList.remove('colab-df-spinner');\n",
              "      quickchartButtonEl.classList.add('colab-df-quickchart-complete');\n",
              "    }\n",
              "    (() => {\n",
              "      let quickchartButtonEl =\n",
              "        document.querySelector('#df-82f7d261-a7eb-414f-b755-26615f499157 button');\n",
              "      quickchartButtonEl.style.display =\n",
              "        google.colab.kernel.accessAllowed ? 'block' : 'none';\n",
              "    })();\n",
              "  </script>\n",
              "</div>\n",
              "\n",
              "    </div>\n",
              "  </div>\n"
            ],
            "application/vnd.google.colaboratory.intrinsic+json": {
              "type": "dataframe",
              "variable_name": "df"
            }
          },
          "metadata": {},
          "execution_count": 5
        }
      ]
    },
    {
      "cell_type": "code",
      "source": [
        "# Размер датафрейма\n",
        "print(f'Размер датафрейма: {df.shape}')"
      ],
      "metadata": {
        "colab": {
          "base_uri": "https://localhost:8080/"
        },
        "id": "oEOzHiwwKzJr",
        "outputId": "97daa580-91f7-4f94-d349-80b5fb2683f5"
      },
      "execution_count": 31,
      "outputs": [
        {
          "output_type": "stream",
          "name": "stdout",
          "text": [
            "Размер датафрейма: (500000, 5)\n"
          ]
        }
      ]
    },
    {
      "cell_type": "code",
      "source": [
        "# Типы данных\n",
        "print(df.dtypes)"
      ],
      "metadata": {
        "colab": {
          "base_uri": "https://localhost:8080/"
        },
        "id": "iG7UjqkYKHcH",
        "outputId": "8e91189e-ae72-4f10-b518-c8cd60735395"
      },
      "execution_count": 32,
      "outputs": [
        {
          "output_type": "stream",
          "name": "stdout",
          "text": [
            "address    object\n",
            "name_ru    object\n",
            "rating     object\n",
            "rubrics    object\n",
            "text       object\n",
            "dtype: object\n"
          ]
        }
      ]
    },
    {
      "cell_type": "code",
      "source": [
        "df.info()"
      ],
      "metadata": {
        "colab": {
          "base_uri": "https://localhost:8080/"
        },
        "id": "5tEMqbUNLnly",
        "outputId": "aeb612b7-8af1-49ab-cbe0-9d8586eded95"
      },
      "execution_count": 33,
      "outputs": [
        {
          "output_type": "stream",
          "name": "stdout",
          "text": [
            "<class 'pandas.core.frame.DataFrame'>\n",
            "RangeIndex: 500000 entries, 0 to 499999\n",
            "Data columns (total 5 columns):\n",
            " #   Column   Non-Null Count   Dtype \n",
            "---  ------   --------------   ----- \n",
            " 0   address  500000 non-null  object\n",
            " 1   name_ru  500000 non-null  object\n",
            " 2   rating   500000 non-null  object\n",
            " 3   rubrics  500000 non-null  object\n",
            " 4   text     499030 non-null  object\n",
            "dtypes: object(5)\n",
            "memory usage: 19.1+ MB\n"
          ]
        }
      ]
    },
    {
      "cell_type": "markdown",
      "source": [
        "Проверим на количество дубликатов и отсутствующих значений"
      ],
      "metadata": {
        "id": "mJmEiGbxLwQ9"
      }
    },
    {
      "cell_type": "code",
      "source": [
        "df = df.dropna(ignore_index=True)\n",
        "# Проверим наличие дубликатов\n",
        "duplicates = df.duplicated()\n",
        "num_duplicates = duplicates.sum()\n",
        "num_duplicates"
      ],
      "metadata": {
        "colab": {
          "base_uri": "https://localhost:8080/"
        },
        "id": "NDgxd1DXMJ0l",
        "outputId": "76cd0529-60b5-404e-950e-158037e27f3f"
      },
      "execution_count": 5,
      "outputs": [
        {
          "output_type": "execute_result",
          "data": {
            "text/plain": [
              "1"
            ]
          },
          "metadata": {},
          "execution_count": 5
        }
      ]
    },
    {
      "cell_type": "markdown",
      "source": [],
      "metadata": {
        "id": "U5_TkSIgL984"
      }
    },
    {
      "cell_type": "code",
      "source": [
        "# Теперь обрежем точку после цифры в колонке 'rating' и приведем колонку к типу int64\n",
        "df['rating'] = df['rating'].replace('\\.', '', regex=True)\n",
        "df['rating'] = pd.to_numeric(df['rating'])"
      ],
      "metadata": {
        "id": "99Fx4bYfMIh9"
      },
      "execution_count": 6,
      "outputs": []
    },
    {
      "cell_type": "code",
      "source": [
        "df.info()"
      ],
      "metadata": {
        "colab": {
          "base_uri": "https://localhost:8080/"
        },
        "id": "j_T8tT2_NTx-",
        "outputId": "8c48d517-b2dc-43b0-8b09-07b09b869c9a"
      },
      "execution_count": 36,
      "outputs": [
        {
          "output_type": "stream",
          "name": "stdout",
          "text": [
            "<class 'pandas.core.frame.DataFrame'>\n",
            "RangeIndex: 499030 entries, 0 to 499029\n",
            "Data columns (total 5 columns):\n",
            " #   Column   Non-Null Count   Dtype \n",
            "---  ------   --------------   ----- \n",
            " 0   address  499030 non-null  object\n",
            " 1   name_ru  499030 non-null  object\n",
            " 2   rating   499030 non-null  int64 \n",
            " 3   rubrics  499030 non-null  object\n",
            " 4   text     499030 non-null  object\n",
            "dtypes: int64(1), object(4)\n",
            "memory usage: 19.0+ MB\n"
          ]
        }
      ]
    },
    {
      "cell_type": "code",
      "source": [
        "df.head()"
      ],
      "metadata": {
        "colab": {
          "base_uri": "https://localhost:8080/",
          "height": 328
        },
        "id": "wNzMdn19NKpC",
        "outputId": "fe233cab-6383-4a48-e263-eede920d064e"
      },
      "execution_count": 7,
      "outputs": [
        {
          "output_type": "execute_result",
          "data": {
            "text/plain": [
              "                                             address             name_ru  \\\n",
              "0  Екатеринбург, ул. Московская / ул. Волгоградск...  Московский квартал   \n",
              "1  Московская область, Электросталь, проспект Лен...   Продукты Ермолино   \n",
              "2  Краснодар, Прикубанский внутригородской округ,...             LimeFit   \n",
              "3   Санкт-Петербург, проспект Энгельса, 111, корп. 1        Snow-Express   \n",
              "4                  Тверь, Волоколамский проспект, 39  Студия Beauty Brow   \n",
              "\n",
              "   rating                                            rubrics  \\\n",
              "0       3                                     Жилой комплекс   \n",
              "1       5  Магазин продуктов;Продукты глубокой заморозки;...   \n",
              "2       1                                        Фитнес-клуб   \n",
              "3       4        Пункт проката;Прокат велосипедов;Сапсёрфинг   \n",
              "4       5  Салон красоты;Визажисты, стилисты;Салон бровей...   \n",
              "\n",
              "                                                text  \n",
              "0  Московский квартал 2.\\nШумно : летом по ночам ...  \n",
              "1  Замечательная сеть магазинов в общем, хороший ...  \n",
              "2  Не знаю смутят ли кого-то данные правила, но я...  \n",
              "3  Хорошие условия аренды. \\nДружелюбный персонал...  \n",
              "4  Топ мастер Ангелина топ во всех смыслах ) Немн...  "
            ],
            "text/html": [
              "\n",
              "  <div id=\"df-59b32f83-0741-47ab-a3f9-f129fd351cbc\" class=\"colab-df-container\">\n",
              "    <div>\n",
              "<style scoped>\n",
              "    .dataframe tbody tr th:only-of-type {\n",
              "        vertical-align: middle;\n",
              "    }\n",
              "\n",
              "    .dataframe tbody tr th {\n",
              "        vertical-align: top;\n",
              "    }\n",
              "\n",
              "    .dataframe thead th {\n",
              "        text-align: right;\n",
              "    }\n",
              "</style>\n",
              "<table border=\"1\" class=\"dataframe\">\n",
              "  <thead>\n",
              "    <tr style=\"text-align: right;\">\n",
              "      <th></th>\n",
              "      <th>address</th>\n",
              "      <th>name_ru</th>\n",
              "      <th>rating</th>\n",
              "      <th>rubrics</th>\n",
              "      <th>text</th>\n",
              "    </tr>\n",
              "  </thead>\n",
              "  <tbody>\n",
              "    <tr>\n",
              "      <th>0</th>\n",
              "      <td>Екатеринбург, ул. Московская / ул. Волгоградск...</td>\n",
              "      <td>Московский квартал</td>\n",
              "      <td>3</td>\n",
              "      <td>Жилой комплекс</td>\n",
              "      <td>Московский квартал 2.\\nШумно : летом по ночам ...</td>\n",
              "    </tr>\n",
              "    <tr>\n",
              "      <th>1</th>\n",
              "      <td>Московская область, Электросталь, проспект Лен...</td>\n",
              "      <td>Продукты Ермолино</td>\n",
              "      <td>5</td>\n",
              "      <td>Магазин продуктов;Продукты глубокой заморозки;...</td>\n",
              "      <td>Замечательная сеть магазинов в общем, хороший ...</td>\n",
              "    </tr>\n",
              "    <tr>\n",
              "      <th>2</th>\n",
              "      <td>Краснодар, Прикубанский внутригородской округ,...</td>\n",
              "      <td>LimeFit</td>\n",
              "      <td>1</td>\n",
              "      <td>Фитнес-клуб</td>\n",
              "      <td>Не знаю смутят ли кого-то данные правила, но я...</td>\n",
              "    </tr>\n",
              "    <tr>\n",
              "      <th>3</th>\n",
              "      <td>Санкт-Петербург, проспект Энгельса, 111, корп. 1</td>\n",
              "      <td>Snow-Express</td>\n",
              "      <td>4</td>\n",
              "      <td>Пункт проката;Прокат велосипедов;Сапсёрфинг</td>\n",
              "      <td>Хорошие условия аренды. \\nДружелюбный персонал...</td>\n",
              "    </tr>\n",
              "    <tr>\n",
              "      <th>4</th>\n",
              "      <td>Тверь, Волоколамский проспект, 39</td>\n",
              "      <td>Студия Beauty Brow</td>\n",
              "      <td>5</td>\n",
              "      <td>Салон красоты;Визажисты, стилисты;Салон бровей...</td>\n",
              "      <td>Топ мастер Ангелина топ во всех смыслах ) Немн...</td>\n",
              "    </tr>\n",
              "  </tbody>\n",
              "</table>\n",
              "</div>\n",
              "    <div class=\"colab-df-buttons\">\n",
              "\n",
              "  <div class=\"colab-df-container\">\n",
              "    <button class=\"colab-df-convert\" onclick=\"convertToInteractive('df-59b32f83-0741-47ab-a3f9-f129fd351cbc')\"\n",
              "            title=\"Convert this dataframe to an interactive table.\"\n",
              "            style=\"display:none;\">\n",
              "\n",
              "  <svg xmlns=\"http://www.w3.org/2000/svg\" height=\"24px\" viewBox=\"0 -960 960 960\">\n",
              "    <path d=\"M120-120v-720h720v720H120Zm60-500h600v-160H180v160Zm220 220h160v-160H400v160Zm0 220h160v-160H400v160ZM180-400h160v-160H180v160Zm440 0h160v-160H620v160ZM180-180h160v-160H180v160Zm440 0h160v-160H620v160Z\"/>\n",
              "  </svg>\n",
              "    </button>\n",
              "\n",
              "  <style>\n",
              "    .colab-df-container {\n",
              "      display:flex;\n",
              "      gap: 12px;\n",
              "    }\n",
              "\n",
              "    .colab-df-convert {\n",
              "      background-color: #E8F0FE;\n",
              "      border: none;\n",
              "      border-radius: 50%;\n",
              "      cursor: pointer;\n",
              "      display: none;\n",
              "      fill: #1967D2;\n",
              "      height: 32px;\n",
              "      padding: 0 0 0 0;\n",
              "      width: 32px;\n",
              "    }\n",
              "\n",
              "    .colab-df-convert:hover {\n",
              "      background-color: #E2EBFA;\n",
              "      box-shadow: 0px 1px 2px rgba(60, 64, 67, 0.3), 0px 1px 3px 1px rgba(60, 64, 67, 0.15);\n",
              "      fill: #174EA6;\n",
              "    }\n",
              "\n",
              "    .colab-df-buttons div {\n",
              "      margin-bottom: 4px;\n",
              "    }\n",
              "\n",
              "    [theme=dark] .colab-df-convert {\n",
              "      background-color: #3B4455;\n",
              "      fill: #D2E3FC;\n",
              "    }\n",
              "\n",
              "    [theme=dark] .colab-df-convert:hover {\n",
              "      background-color: #434B5C;\n",
              "      box-shadow: 0px 1px 3px 1px rgba(0, 0, 0, 0.15);\n",
              "      filter: drop-shadow(0px 1px 2px rgba(0, 0, 0, 0.3));\n",
              "      fill: #FFFFFF;\n",
              "    }\n",
              "  </style>\n",
              "\n",
              "    <script>\n",
              "      const buttonEl =\n",
              "        document.querySelector('#df-59b32f83-0741-47ab-a3f9-f129fd351cbc button.colab-df-convert');\n",
              "      buttonEl.style.display =\n",
              "        google.colab.kernel.accessAllowed ? 'block' : 'none';\n",
              "\n",
              "      async function convertToInteractive(key) {\n",
              "        const element = document.querySelector('#df-59b32f83-0741-47ab-a3f9-f129fd351cbc');\n",
              "        const dataTable =\n",
              "          await google.colab.kernel.invokeFunction('convertToInteractive',\n",
              "                                                    [key], {});\n",
              "        if (!dataTable) return;\n",
              "\n",
              "        const docLinkHtml = 'Like what you see? Visit the ' +\n",
              "          '<a target=\"_blank\" href=https://colab.research.google.com/notebooks/data_table.ipynb>data table notebook</a>'\n",
              "          + ' to learn more about interactive tables.';\n",
              "        element.innerHTML = '';\n",
              "        dataTable['output_type'] = 'display_data';\n",
              "        await google.colab.output.renderOutput(dataTable, element);\n",
              "        const docLink = document.createElement('div');\n",
              "        docLink.innerHTML = docLinkHtml;\n",
              "        element.appendChild(docLink);\n",
              "      }\n",
              "    </script>\n",
              "  </div>\n",
              "\n",
              "\n",
              "<div id=\"df-6d03b751-cdf8-4226-bd1d-47303aaeebff\">\n",
              "  <button class=\"colab-df-quickchart\" onclick=\"quickchart('df-6d03b751-cdf8-4226-bd1d-47303aaeebff')\"\n",
              "            title=\"Suggest charts\"\n",
              "            style=\"display:none;\">\n",
              "\n",
              "<svg xmlns=\"http://www.w3.org/2000/svg\" height=\"24px\"viewBox=\"0 0 24 24\"\n",
              "     width=\"24px\">\n",
              "    <g>\n",
              "        <path d=\"M19 3H5c-1.1 0-2 .9-2 2v14c0 1.1.9 2 2 2h14c1.1 0 2-.9 2-2V5c0-1.1-.9-2-2-2zM9 17H7v-7h2v7zm4 0h-2V7h2v10zm4 0h-2v-4h2v4z\"/>\n",
              "    </g>\n",
              "</svg>\n",
              "  </button>\n",
              "\n",
              "<style>\n",
              "  .colab-df-quickchart {\n",
              "      --bg-color: #E8F0FE;\n",
              "      --fill-color: #1967D2;\n",
              "      --hover-bg-color: #E2EBFA;\n",
              "      --hover-fill-color: #174EA6;\n",
              "      --disabled-fill-color: #AAA;\n",
              "      --disabled-bg-color: #DDD;\n",
              "  }\n",
              "\n",
              "  [theme=dark] .colab-df-quickchart {\n",
              "      --bg-color: #3B4455;\n",
              "      --fill-color: #D2E3FC;\n",
              "      --hover-bg-color: #434B5C;\n",
              "      --hover-fill-color: #FFFFFF;\n",
              "      --disabled-bg-color: #3B4455;\n",
              "      --disabled-fill-color: #666;\n",
              "  }\n",
              "\n",
              "  .colab-df-quickchart {\n",
              "    background-color: var(--bg-color);\n",
              "    border: none;\n",
              "    border-radius: 50%;\n",
              "    cursor: pointer;\n",
              "    display: none;\n",
              "    fill: var(--fill-color);\n",
              "    height: 32px;\n",
              "    padding: 0;\n",
              "    width: 32px;\n",
              "  }\n",
              "\n",
              "  .colab-df-quickchart:hover {\n",
              "    background-color: var(--hover-bg-color);\n",
              "    box-shadow: 0 1px 2px rgba(60, 64, 67, 0.3), 0 1px 3px 1px rgba(60, 64, 67, 0.15);\n",
              "    fill: var(--button-hover-fill-color);\n",
              "  }\n",
              "\n",
              "  .colab-df-quickchart-complete:disabled,\n",
              "  .colab-df-quickchart-complete:disabled:hover {\n",
              "    background-color: var(--disabled-bg-color);\n",
              "    fill: var(--disabled-fill-color);\n",
              "    box-shadow: none;\n",
              "  }\n",
              "\n",
              "  .colab-df-spinner {\n",
              "    border: 2px solid var(--fill-color);\n",
              "    border-color: transparent;\n",
              "    border-bottom-color: var(--fill-color);\n",
              "    animation:\n",
              "      spin 1s steps(1) infinite;\n",
              "  }\n",
              "\n",
              "  @keyframes spin {\n",
              "    0% {\n",
              "      border-color: transparent;\n",
              "      border-bottom-color: var(--fill-color);\n",
              "      border-left-color: var(--fill-color);\n",
              "    }\n",
              "    20% {\n",
              "      border-color: transparent;\n",
              "      border-left-color: var(--fill-color);\n",
              "      border-top-color: var(--fill-color);\n",
              "    }\n",
              "    30% {\n",
              "      border-color: transparent;\n",
              "      border-left-color: var(--fill-color);\n",
              "      border-top-color: var(--fill-color);\n",
              "      border-right-color: var(--fill-color);\n",
              "    }\n",
              "    40% {\n",
              "      border-color: transparent;\n",
              "      border-right-color: var(--fill-color);\n",
              "      border-top-color: var(--fill-color);\n",
              "    }\n",
              "    60% {\n",
              "      border-color: transparent;\n",
              "      border-right-color: var(--fill-color);\n",
              "    }\n",
              "    80% {\n",
              "      border-color: transparent;\n",
              "      border-right-color: var(--fill-color);\n",
              "      border-bottom-color: var(--fill-color);\n",
              "    }\n",
              "    90% {\n",
              "      border-color: transparent;\n",
              "      border-bottom-color: var(--fill-color);\n",
              "    }\n",
              "  }\n",
              "</style>\n",
              "\n",
              "  <script>\n",
              "    async function quickchart(key) {\n",
              "      const quickchartButtonEl =\n",
              "        document.querySelector('#' + key + ' button');\n",
              "      quickchartButtonEl.disabled = true;  // To prevent multiple clicks.\n",
              "      quickchartButtonEl.classList.add('colab-df-spinner');\n",
              "      try {\n",
              "        const charts = await google.colab.kernel.invokeFunction(\n",
              "            'suggestCharts', [key], {});\n",
              "      } catch (error) {\n",
              "        console.error('Error during call to suggestCharts:', error);\n",
              "      }\n",
              "      quickchartButtonEl.classList.remove('colab-df-spinner');\n",
              "      quickchartButtonEl.classList.add('colab-df-quickchart-complete');\n",
              "    }\n",
              "    (() => {\n",
              "      let quickchartButtonEl =\n",
              "        document.querySelector('#df-6d03b751-cdf8-4226-bd1d-47303aaeebff button');\n",
              "      quickchartButtonEl.style.display =\n",
              "        google.colab.kernel.accessAllowed ? 'block' : 'none';\n",
              "    })();\n",
              "  </script>\n",
              "</div>\n",
              "\n",
              "    </div>\n",
              "  </div>\n"
            ],
            "application/vnd.google.colaboratory.intrinsic+json": {
              "type": "dataframe",
              "variable_name": "df"
            }
          },
          "metadata": {},
          "execution_count": 7
        }
      ]
    },
    {
      "cell_type": "code",
      "source": [
        "sns.histplot(df['rating'])"
      ],
      "metadata": {
        "colab": {
          "base_uri": "https://localhost:8080/",
          "height": 466
        },
        "id": "wslTdgRANqbM",
        "outputId": "289d8e6d-fb22-4ba8-e862-7c4a28f6e961"
      },
      "execution_count": 38,
      "outputs": [
        {
          "output_type": "execute_result",
          "data": {
            "text/plain": [
              "<Axes: xlabel='rating', ylabel='Count'>"
            ]
          },
          "metadata": {},
          "execution_count": 38
        },
        {
          "output_type": "display_data",
          "data": {
            "text/plain": [
              "<Figure size 640x480 with 1 Axes>"
            ],
            "image/png": "[encoded data removed]"
          },
          "metadata": {}
        }
      ]
    },
    {
      "cell_type": "code",
      "source": [
        "from google.colab import drive\n",
        "drive.mount('/content/drive')\n"
      ],
      "metadata": {
        "colab": {
          "base_uri": "https://localhost:8080/"
        },
        "id": "fONPKyWfUxNs",
        "outputId": "cac661f5-a642-414c-e70d-5f65c0d626be"
      },
      "execution_count": 4,
      "outputs": [
        {
          "output_type": "stream",
          "name": "stdout",
          "text": [
            "Mounted at /content/drive\n"
          ]
        }
      ]
    },
    {
      "cell_type": "code",
      "source": [
        "df.to_csv('/content/drive/My Drive/full_dataframe.tskv', sep='\\t', index=False, header=True, encoding='utf-8')\n"
      ],
      "metadata": {
        "id": "vVCWGS24VEJT"
      },
      "execution_count": 10,
      "outputs": []
    },
    {
      "cell_type": "markdown",
      "source": [
        "Построив распределние по рейтингам мы видим что самым частым является оценка в 5 баллов"
      ],
      "metadata": {
        "id": "SkhGn-YvORIk"
      }
    },
    {
      "cell_type": "code",
      "source": [
        "df.query('rating == 0').head()"
      ],
      "metadata": {
        "colab": {
          "base_uri": "https://localhost:8080/",
          "height": 345
        },
        "id": "nXEQEfIqOptQ",
        "outputId": "bb169818-29f3-4311-f2a8-3f0ddbf86742"
      },
      "execution_count": 39,
      "outputs": [
        {
          "output_type": "execute_result",
          "data": {
            "text/plain": [
              "                                                address            name_ru  \\\n",
              "1906   Республика Карелия, Суоярви, улица Шельшакова, 1  Гостиница Карелия   \n",
              "2164                   Кемерово, улица Тухачевского, 12           Светофор   \n",
              "3583       Краснодарский край, Анапа, улица Пушкина, 30             Кубань   \n",
              "3614  Краснодарский край, Туапсинский район, Новомих...   Счастливый Хотей   \n",
              "6384      Ленинградская область, Выборг, улица Мира, 8А             Атриум   \n",
              "\n",
              "      rating                                            rubrics  \\\n",
              "1906       0                                          Гостиница   \n",
              "2164       0  Магазин автозапчастей и автотоваров;Автоаксесс...   \n",
              "3583       0                                          Санаторий   \n",
              "3614       0                                          Гостиница   \n",
              "6384       0                                     Торговый центр   \n",
              "\n",
              "                                                   text  \n",
              "1906  Гостиница расположенна удобно, если отремонтир...  \n",
              "2164  Это мой любимый магазин с запчастями. Можно вс...  \n",
              "3583  Нет растительного масла для салата, нет зубочи...  \n",
              "3614  Все довольны, и взрослые и дети.\\nВкусная еда....  \n",
              "6384  Большой выбор, очень грамотно и удобно разложе...  "
            ],
            "text/html": [
              "\n",
              "  <div id=\"df-95fd26ea-5cc2-4fd2-88f7-9e8724b313da\" class=\"colab-df-container\">\n",
              "    <div>\n",
              "<style scoped>\n",
              "    .dataframe tbody tr th:only-of-type {\n",
              "        vertical-align: middle;\n",
              "    }\n",
              "\n",
              "    .dataframe tbody tr th {\n",
              "        vertical-align: top;\n",
              "    }\n",
              "\n",
              "    .dataframe thead th {\n",
              "        text-align: right;\n",
              "    }\n",
              "</style>\n",
              "<table border=\"1\" class=\"dataframe\">\n",
              "  <thead>\n",
              "    <tr style=\"text-align: right;\">\n",
              "      <th></th>\n",
              "      <th>address</th>\n",
              "      <th>name_ru</th>\n",
              "      <th>rating</th>\n",
              "      <th>rubrics</th>\n",
              "      <th>text</th>\n",
              "    </tr>\n",
              "  </thead>\n",
              "  <tbody>\n",
              "    <tr>\n",
              "      <th>1906</th>\n",
              "      <td>Республика Карелия, Суоярви, улица Шельшакова, 1</td>\n",
              "      <td>Гостиница Карелия</td>\n",
              "      <td>0</td>\n",
              "      <td>Гостиница</td>\n",
              "      <td>Гостиница расположенна удобно, если отремонтир...</td>\n",
              "    </tr>\n",
              "    <tr>\n",
              "      <th>2164</th>\n",
              "      <td>Кемерово, улица Тухачевского, 12</td>\n",
              "      <td>Светофор</td>\n",
              "      <td>0</td>\n",
              "      <td>Магазин автозапчастей и автотоваров;Автоаксесс...</td>\n",
              "      <td>Это мой любимый магазин с запчастями. Можно вс...</td>\n",
              "    </tr>\n",
              "    <tr>\n",
              "      <th>3583</th>\n",
              "      <td>Краснодарский край, Анапа, улица Пушкина, 30</td>\n",
              "      <td>Кубань</td>\n",
              "      <td>0</td>\n",
              "      <td>Санаторий</td>\n",
              "      <td>Нет растительного масла для салата, нет зубочи...</td>\n",
              "    </tr>\n",
              "    <tr>\n",
              "      <th>3614</th>\n",
              "      <td>Краснодарский край, Туапсинский район, Новомих...</td>\n",
              "      <td>Счастливый Хотей</td>\n",
              "      <td>0</td>\n",
              "      <td>Гостиница</td>\n",
              "      <td>Все довольны, и взрослые и дети.\\nВкусная еда....</td>\n",
              "    </tr>\n",
              "    <tr>\n",
              "      <th>6384</th>\n",
              "      <td>Ленинградская область, Выборг, улица Мира, 8А</td>\n",
              "      <td>Атриум</td>\n",
              "      <td>0</td>\n",
              "      <td>Торговый центр</td>\n",
              "      <td>Большой выбор, очень грамотно и удобно разложе...</td>\n",
              "    </tr>\n",
              "  </tbody>\n",
              "</table>\n",
              "</div>\n",
              "    <div class=\"colab-df-buttons\">\n",
              "\n",
              "  <div class=\"colab-df-container\">\n",
              "    <button class=\"colab-df-convert\" onclick=\"convertToInteractive('df-95fd26ea-5cc2-4fd2-88f7-9e8724b313da')\"\n",
              "            title=\"Convert this dataframe to an interactive table.\"\n",
              "            style=\"display:none;\">\n",
              "\n",
              "  <svg xmlns=\"http://www.w3.org/2000/svg\" height=\"24px\" viewBox=\"0 -960 960 960\">\n",
              "    <path d=\"M120-120v-720h720v720H120Zm60-500h600v-160H180v160Zm220 220h160v-160H400v160Zm0 220h160v-160H400v160ZM180-400h160v-160H180v160Zm440 0h160v-160H620v160ZM180-180h160v-160H180v160Zm440 0h160v-160H620v160Z\"/>\n",
              "  </svg>\n",
              "    </button>\n",
              "\n",
              "  <style>\n",
              "    .colab-df-container {\n",
              "      display:flex;\n",
              "      gap: 12px;\n",
              "    }\n",
              "\n",
              "    .colab-df-convert {\n",
              "      background-color: #E8F0FE;\n",
              "      border: none;\n",
              "      border-radius: 50%;\n",
              "      cursor: pointer;\n",
              "      display: none;\n",
              "      fill: #1967D2;\n",
              "      height: 32px;\n",
              "      padding: 0 0 0 0;\n",
              "      width: 32px;\n",
              "    }\n",
              "\n",
              "    .colab-df-convert:hover {\n",
              "      background-color: #E2EBFA;\n",
              "      box-shadow: 0px 1px 2px rgba(60, 64, 67, 0.3), 0px 1px 3px 1px rgba(60, 64, 67, 0.15);\n",
              "      fill: #174EA6;\n",
              "    }\n",
              "\n",
              "    .colab-df-buttons div {\n",
              "      margin-bottom: 4px;\n",
              "    }\n",
              "\n",
              "    [theme=dark] .colab-df-convert {\n",
              "      background-color: #3B4455;\n",
              "      fill: #D2E3FC;\n",
              "    }\n",
              "\n",
              "    [theme=dark] .colab-df-convert:hover {\n",
              "      background-color: #434B5C;\n",
              "      box-shadow: 0px 1px 3px 1px rgba(0, 0, 0, 0.15);\n",
              "      filter: drop-shadow(0px 1px 2px rgba(0, 0, 0, 0.3));\n",
              "      fill: #FFFFFF;\n",
              "    }\n",
              "  </style>\n",
              "\n",
              "    <script>\n",
              "      const buttonEl =\n",
              "        document.querySelector('#df-95fd26ea-5cc2-4fd2-88f7-9e8724b313da button.colab-df-convert');\n",
              "      buttonEl.style.display =\n",
              "        google.colab.kernel.accessAllowed ? 'block' : 'none';\n",
              "\n",
              "      async function convertToInteractive(key) {\n",
              "        const element = document.querySelector('#df-95fd26ea-5cc2-4fd2-88f7-9e8724b313da');\n",
              "        const dataTable =\n",
              "          await google.colab.kernel.invokeFunction('convertToInteractive',\n",
              "                                                    [key], {});\n",
              "        if (!dataTable) return;\n",
              "\n",
              "        const docLinkHtml = 'Like what you see? Visit the ' +\n",
              "          '<a target=\"_blank\" href=https://colab.research.google.com/notebooks/data_table.ipynb>data table notebook</a>'\n",
              "          + ' to learn more about interactive tables.';\n",
              "        element.innerHTML = '';\n",
              "        dataTable['output_type'] = 'display_data';\n",
              "        await google.colab.output.renderOutput(dataTable, element);\n",
              "        const docLink = document.createElement('div');\n",
              "        docLink.innerHTML = docLinkHtml;\n",
              "        element.appendChild(docLink);\n",
              "      }\n",
              "    </script>\n",
              "  </div>\n",
              "\n",
              "\n",
              "<div id=\"df-ff24954f-91f8-44f6-a55e-f2f7a87fc716\">\n",
              "  <button class=\"colab-df-quickchart\" onclick=\"quickchart('df-ff24954f-91f8-44f6-a55e-f2f7a87fc716')\"\n",
              "            title=\"Suggest charts\"\n",
              "            style=\"display:none;\">\n",
              "\n",
              "<svg xmlns=\"http://www.w3.org/2000/svg\" height=\"24px\"viewBox=\"0 0 24 24\"\n",
              "     width=\"24px\">\n",
              "    <g>\n",
              "        <path d=\"M19 3H5c-1.1 0-2 .9-2 2v14c0 1.1.9 2 2 2h14c1.1 0 2-.9 2-2V5c0-1.1-.9-2-2-2zM9 17H7v-7h2v7zm4 0h-2V7h2v10zm4 0h-2v-4h2v4z\"/>\n",
              "    </g>\n",
              "</svg>\n",
              "  </button>\n",
              "\n",
              "<style>\n",
              "  .colab-df-quickchart {\n",
              "      --bg-color: #E8F0FE;\n",
              "      --fill-color: #1967D2;\n",
              "      --hover-bg-color: #E2EBFA;\n",
              "      --hover-fill-color: #174EA6;\n",
              "      --disabled-fill-color: #AAA;\n",
              "      --disabled-bg-color: #DDD;\n",
              "  }\n",
              "\n",
              "  [theme=dark] .colab-df-quickchart {\n",
              "      --bg-color: #3B4455;\n",
              "      --fill-color: #D2E3FC;\n",
              "      --hover-bg-color: #434B5C;\n",
              "      --hover-fill-color: #FFFFFF;\n",
              "      --disabled-bg-color: #3B4455;\n",
              "      --disabled-fill-color: #666;\n",
              "  }\n",
              "\n",
              "  .colab-df-quickchart {\n",
              "    background-color: var(--bg-color);\n",
              "    border: none;\n",
              "    border-radius: 50%;\n",
              "    cursor: pointer;\n",
              "    display: none;\n",
              "    fill: var(--fill-color);\n",
              "    height: 32px;\n",
              "    padding: 0;\n",
              "    width: 32px;\n",
              "  }\n",
              "\n",
              "  .colab-df-quickchart:hover {\n",
              "    background-color: var(--hover-bg-color);\n",
              "    box-shadow: 0 1px 2px rgba(60, 64, 67, 0.3), 0 1px 3px 1px rgba(60, 64, 67, 0.15);\n",
              "    fill: var(--button-hover-fill-color);\n",
              "  }\n",
              "\n",
              "  .colab-df-quickchart-complete:disabled,\n",
              "  .colab-df-quickchart-complete:disabled:hover {\n",
              "    background-color: var(--disabled-bg-color);\n",
              "    fill: var(--disabled-fill-color);\n",
              "    box-shadow: none;\n",
              "  }\n",
              "\n",
              "  .colab-df-spinner {\n",
              "    border: 2px solid var(--fill-color);\n",
              "    border-color: transparent;\n",
              "    border-bottom-color: var(--fill-color);\n",
              "    animation:\n",
              "      spin 1s steps(1) infinite;\n",
              "  }\n",
              "\n",
              "  @keyframes spin {\n",
              "    0% {\n",
              "      border-color: transparent;\n",
              "      border-bottom-color: var(--fill-color);\n",
              "      border-left-color: var(--fill-color);\n",
              "    }\n",
              "    20% {\n",
              "      border-color: transparent;\n",
              "      border-left-color: var(--fill-color);\n",
              "      border-top-color: var(--fill-color);\n",
              "    }\n",
              "    30% {\n",
              "      border-color: transparent;\n",
              "      border-left-color: var(--fill-color);\n",
              "      border-top-color: var(--fill-color);\n",
              "      border-right-color: var(--fill-color);\n",
              "    }\n",
              "    40% {\n",
              "      border-color: transparent;\n",
              "      border-right-color: var(--fill-color);\n",
              "      border-top-color: var(--fill-color);\n",
              "    }\n",
              "    60% {\n",
              "      border-color: transparent;\n",
              "      border-right-color: var(--fill-color);\n",
              "    }\n",
              "    80% {\n",
              "      border-color: transparent;\n",
              "      border-right-color: var(--fill-color);\n",
              "      border-bottom-color: var(--fill-color);\n",
              "    }\n",
              "    90% {\n",
              "      border-color: transparent;\n",
              "      border-bottom-color: var(--fill-color);\n",
              "    }\n",
              "  }\n",
              "</style>\n",
              "\n",
              "  <script>\n",
              "    async function quickchart(key) {\n",
              "      const quickchartButtonEl =\n",
              "        document.querySelector('#' + key + ' button');\n",
              "      quickchartButtonEl.disabled = true;  // To prevent multiple clicks.\n",
              "      quickchartButtonEl.classList.add('colab-df-spinner');\n",
              "      try {\n",
              "        const charts = await google.colab.kernel.invokeFunction(\n",
              "            'suggestCharts', [key], {});\n",
              "      } catch (error) {\n",
              "        console.error('Error during call to suggestCharts:', error);\n",
              "      }\n",
              "      quickchartButtonEl.classList.remove('colab-df-spinner');\n",
              "      quickchartButtonEl.classList.add('colab-df-quickchart-complete');\n",
              "    }\n",
              "    (() => {\n",
              "      let quickchartButtonEl =\n",
              "        document.querySelector('#df-ff24954f-91f8-44f6-a55e-f2f7a87fc716 button');\n",
              "      quickchartButtonEl.style.display =\n",
              "        google.colab.kernel.accessAllowed ? 'block' : 'none';\n",
              "    })();\n",
              "  </script>\n",
              "</div>\n",
              "\n",
              "    </div>\n",
              "  </div>\n"
            ],
            "application/vnd.google.colaboratory.intrinsic+json": {
              "type": "dataframe",
              "summary": "{\n  \"name\": \"df\",\n  \"rows\": 5,\n  \"fields\": [\n    {\n      \"column\": \"address\",\n      \"properties\": {\n        \"dtype\": \"string\",\n        \"num_unique_values\": 5,\n        \"samples\": [\n          \"\\u041a\\u0435\\u043c\\u0435\\u0440\\u043e\\u0432\\u043e, \\u0443\\u043b\\u0438\\u0446\\u0430 \\u0422\\u0443\\u0445\\u0430\\u0447\\u0435\\u0432\\u0441\\u043a\\u043e\\u0433\\u043e, 12\",\n          \"\\u041b\\u0435\\u043d\\u0438\\u043d\\u0433\\u0440\\u0430\\u0434\\u0441\\u043a\\u0430\\u044f \\u043e\\u0431\\u043b\\u0430\\u0441\\u0442\\u044c, \\u0412\\u044b\\u0431\\u043e\\u0440\\u0433, \\u0443\\u043b\\u0438\\u0446\\u0430 \\u041c\\u0438\\u0440\\u0430, 8\\u0410\",\n          \"\\u041a\\u0440\\u0430\\u0441\\u043d\\u043e\\u0434\\u0430\\u0440\\u0441\\u043a\\u0438\\u0439 \\u043a\\u0440\\u0430\\u0439, \\u0410\\u043d\\u0430\\u043f\\u0430, \\u0443\\u043b\\u0438\\u0446\\u0430 \\u041f\\u0443\\u0448\\u043a\\u0438\\u043d\\u0430, 30\"\n        ],\n        \"semantic_type\": \"\",\n        \"description\": \"\"\n      }\n    },\n    {\n      \"column\": \"name_ru\",\n      \"properties\": {\n        \"dtype\": \"string\",\n        \"num_unique_values\": 5,\n        \"samples\": [\n          \"\\u0421\\u0432\\u0435\\u0442\\u043e\\u0444\\u043e\\u0440\",\n          \"\\u0410\\u0442\\u0440\\u0438\\u0443\\u043c\",\n          \"\\u041a\\u0443\\u0431\\u0430\\u043d\\u044c\"\n        ],\n        \"semantic_type\": \"\",\n        \"description\": \"\"\n      }\n    },\n    {\n      \"column\": \"rating\",\n      \"properties\": {\n        \"dtype\": \"number\",\n        \"std\": 0,\n        \"min\": 0,\n        \"max\": 0,\n        \"num_unique_values\": 1,\n        \"samples\": [\n          0\n        ],\n        \"semantic_type\": \"\",\n        \"description\": \"\"\n      }\n    },\n    {\n      \"column\": \"rubrics\",\n      \"properties\": {\n        \"dtype\": \"string\",\n        \"num_unique_values\": 4,\n        \"samples\": [\n          \"\\u041c\\u0430\\u0433\\u0430\\u0437\\u0438\\u043d \\u0430\\u0432\\u0442\\u043e\\u0437\\u0430\\u043f\\u0447\\u0430\\u0441\\u0442\\u0435\\u0439 \\u0438 \\u0430\\u0432\\u0442\\u043e\\u0442\\u043e\\u0432\\u0430\\u0440\\u043e\\u0432;\\u0410\\u0432\\u0442\\u043e\\u0430\\u043a\\u0441\\u0435\\u0441\\u0441\\u0443\\u0430\\u0440\\u044b;\\u0410\\u0432\\u0442\\u043e\\u043a\\u043e\\u0441\\u043c\\u0435\\u0442\\u0438\\u043a\\u0430, \\u0430\\u0432\\u0442\\u043e\\u0445\\u0438\\u043c\\u0438\\u044f\"\n        ],\n        \"semantic_type\": \"\",\n        \"description\": \"\"\n      }\n    },\n    {\n      \"column\": \"text\",\n      \"properties\": {\n        \"dtype\": \"string\",\n        \"num_unique_values\": 5,\n        \"samples\": [\n          \"\\u042d\\u0442\\u043e \\u043c\\u043e\\u0439 \\u043b\\u044e\\u0431\\u0438\\u043c\\u044b\\u0439 \\u043c\\u0430\\u0433\\u0430\\u0437\\u0438\\u043d \\u0441 \\u0437\\u0430\\u043f\\u0447\\u0430\\u0441\\u0442\\u044f\\u043c\\u0438. \\u041c\\u043e\\u0436\\u043d\\u043e \\u0432\\u0441\\u0435\\u0433\\u0434\\u0430 \\u0434\\u0438\\u0441\\u0442\\u0430\\u043d\\u0446\\u0438\\u043e\\u043d\\u043d\\u043e \\u0443\\u0437\\u043d\\u0430\\u0442\\u044c \\u0446\\u0435\\u043d\\u044b \\u043d\\u0430 \\u0442\\u043e\\u0432\\u0430\\u0440\\u044b, \\u043e\\u0442 \\u0441\\u0430\\u043c\\u043e\\u0433\\u043e \\u0434\\u0435\\u0448\\u043e\\u0432\\u043e\\u0433\\u043e, \\u0434\\u043e \\u0441\\u0430\\u043c\\u043e\\u0433\\u043e \\u0434\\u043e\\u0440\\u043e\\u0433\\u043e\\u0433\\u043e.\\\\n\\u041c\\u043e\\u043b\\u043e\\u0434\\u044b\\u0435 \\u043b\\u044e\\u0434\\u0438 \\u043c\\u043d\\u0435 \\u043f\\u043e\\u0434\\u0441\\u043a\\u0430\\u0437\\u044b\\u0432\\u0430\\u044e\\u0442 \\u043e\\u0441\\u043e\\u0431\\u0435\\u043d\\u043d\\u043e\\u0441\\u0442\\u0438 \\u043c\\u0430\\u0448\\u0438\\u043d\\u044b, \\u043e\\u0431\\u044a\\u044f\\u0441\\u043d\\u044f\\u044e\\u0442, \\u0447\\u0442\\u043e \\u0438 \\u0434\\u043b\\u044f \\u0447\\u0435\\u0433\\u043e \\u043b\\u0443\\u0447\\u0448\\u0435 \\u0432\\u0437\\u044f\\u0442\\u044c.\\\\n\\u041a\\u0430\\u0447\\u0435\\u0441\\u0442\\u0432\\u043e \\u0432\\u0441\\u0435\\u0445 \\u0434\\u0435\\u0442\\u0430\\u043b\\u0435\\u0439 \\u043e\\u0442\\u043b\\u0438\\u0447\\u043d\\u043e\\u0435! \\u0410 \\u043c\\u044b \\u0432\\u0435\\u0434\\u044c \\u0437\\u0430\\u043a\\u0430\\u0437\\u044b\\u0432\\u0430\\u0435\\u043c \\u043d\\u0435\\u0434\\u043e\\u0440\\u043e\\u0433\\u043e\\u0439 \\u0441\\u0438\\u0433\\u043c\\u0435\\u043d\\u0442...\\\\n\\u0411\\u0440\\u0430\\u043b\\u0438 \\u0434\\u0430\\u0436\\u0435 \\u0440\\u0443\\u043b\\u0435\\u0432\\u0443\\u044e \\u0440\\u0435\\u0439\\u043a\\u0443. \\\\n\\u0414\\u043e\\u0441\\u0442\\u0430\\u0432\\u043a\\u0430 \\u0431\\u044b\\u0441\\u0442\\u0440\\u0430\\u044f, \\u0432 \\u043e\\u0441\\u043d\\u043e\\u0432\\u043d\\u043e\\u043c \\u043c\\u0435\\u043d\\u044c\\u0448\\u0435 \\u0441\\u0443\\u0442\\u043e\\u043a, \\u0441\\u0430\\u043c\\u043e\\u043a \\u0431\\u043e\\u043b\\u044c\\u0448\\u043e\\u0435 7 \\u0434\\u043d\\u0435\\u0439 \\u0436\\u0434\\u0430\\u043b\\u0438.\\\\n\\u041e\\u0442\\u0434\\u0435\\u043b\\u044c\\u043d\\u044b\\u0439 \\u043f\\u043b\\u044e\\u0441, \\u0447\\u0442\\u043e \\u043c\\u0430\\u0433\\u0430\\u0437\\u0438\\u043d \\u0440\\u0430\\u0431\\u043e\\u0442\\u0430\\u0435\\u0442 \\u043a\\u0440\\u0443\\u0433\\u043b\\u043e\\u0441\\u0443\\u0442\\u043e\\u0447\\u043d\\u043e \\u0438 \\u043c\\u043e\\u0436\\u043d\\u043e \\u0432\\u043e \\u0441\\u043a\\u043e\\u043b\\u044c\\u043a\\u043e \\u0443\\u0433\\u043e\\u0434\\u043d\\u043e \\u0437\\u0430\\u0431\\u0440\\u0430\\u0442\\u044c \\u0437\\u0430\\u043a\\u0430\\u0437.\\\\n\\u0421\\u043f\\u0430\\u0441\\u0438\\u0431\\u043e!\"\n        ],\n        \"semantic_type\": \"\",\n        \"description\": \"\"\n      }\n    }\n  ]\n}"
            }
          },
          "metadata": {},
          "execution_count": 39
        }
      ]
    },
    {
      "cell_type": "code",
      "source": [
        "df['review_length'] = df['text'].str.len()\n",
        "df['review_length'].describe()"
      ],
      "metadata": {
        "colab": {
          "base_uri": "https://localhost:8080/",
          "height": 335
        },
        "id": "lMow83bTOvga",
        "outputId": "799a92f7-46a1-4910-c74e-b911f7ffa1b1"
      },
      "execution_count": 8,
      "outputs": [
        {
          "output_type": "execute_result",
          "data": {
            "text/plain": [
              "count    499030.000000\n",
              "mean        303.232533\n",
              "std         292.609661\n",
              "min           2.000000\n",
              "25%         145.000000\n",
              "50%         215.000000\n",
              "75%         365.000000\n",
              "max       20162.000000\n",
              "Name: review_length, dtype: float64"
            ],
            "text/html": [
              "<div>\n",
              "<style scoped>\n",
              "    .dataframe tbody tr th:only-of-type {\n",
              "        vertical-align: middle;\n",
              "    }\n",
              "\n",
              "    .dataframe tbody tr th {\n",
              "        vertical-align: top;\n",
              "    }\n",
              "\n",
              "    .dataframe thead th {\n",
              "        text-align: right;\n",
              "    }\n",
              "</style>\n",
              "<table border=\"1\" class=\"dataframe\">\n",
              "  <thead>\n",
              "    <tr style=\"text-align: right;\">\n",
              "      <th></th>\n",
              "      <th>review_length</th>\n",
              "    </tr>\n",
              "  </thead>\n",
              "  <tbody>\n",
              "    <tr>\n",
              "      <th>count</th>\n",
              "      <td>499030.000000</td>\n",
              "    </tr>\n",
              "    <tr>\n",
              "      <th>mean</th>\n",
              "      <td>303.232533</td>\n",
              "    </tr>\n",
              "    <tr>\n",
              "      <th>std</th>\n",
              "      <td>292.609661</td>\n",
              "    </tr>\n",
              "    <tr>\n",
              "      <th>min</th>\n",
              "      <td>2.000000</td>\n",
              "    </tr>\n",
              "    <tr>\n",
              "      <th>25%</th>\n",
              "      <td>145.000000</td>\n",
              "    </tr>\n",
              "    <tr>\n",
              "      <th>50%</th>\n",
              "      <td>215.000000</td>\n",
              "    </tr>\n",
              "    <tr>\n",
              "      <th>75%</th>\n",
              "      <td>365.000000</td>\n",
              "    </tr>\n",
              "    <tr>\n",
              "      <th>max</th>\n",
              "      <td>20162.000000</td>\n",
              "    </tr>\n",
              "  </tbody>\n",
              "</table>\n",
              "</div><br><label><b>dtype:</b> float64</label>"
            ]
          },
          "metadata": {},
          "execution_count": 8
        }
      ]
    },
    {
      "cell_type": "code",
      "source": [
        "sns.histplot(df['review_length'])"
      ],
      "metadata": {
        "colab": {
          "base_uri": "https://localhost:8080/",
          "height": 467
        },
        "id": "gaMReoj2PXPi",
        "outputId": "77acdc8a-c583-4475-e3a0-c7e38c60ecaf"
      },
      "execution_count": 41,
      "outputs": [
        {
          "output_type": "execute_result",
          "data": {
            "text/plain": [
              "<Axes: xlabel='review_length', ylabel='Count'>"
            ]
          },
          "metadata": {},
          "execution_count": 41
        },
        {
          "output_type": "display_data",
          "data": {
            "text/plain": [
              "<Figure size 640x480 with 1 Axes>"
            ],
            "image/png": "[encoded data removed]"
          },
          "metadata": {}
        }
      ]
    },
    {
      "cell_type": "markdown",
      "source": [
        "Как видно есть выбросы с очень короткой длиной комментария\n",
        "> Добавить блок с цитатой\n",
        "\n"
      ],
      "metadata": {
        "id": "wGiPp23kPaRY"
      }
    },
    {
      "cell_type": "code",
      "source": [
        "df.query('review_length < 10')['text'].values"
      ],
      "metadata": {
        "colab": {
          "base_uri": "https://localhost:8080/"
        },
        "id": "7XMYvuZmPl8Z",
        "outputId": "7d78f7b0-1efc-4318-ede4-95927bc9725a"
      },
      "execution_count": 42,
      "outputs": [
        {
          "output_type": "execute_result",
          "data": {
            "text/plain": [
              "array(['Круто', 'Круто', 'кайф\\\\n', 'Все круто', 'Отлично ', 'Отлично!',\n",
              "       'Прилично ', 'Лучшие!', 'Клас!', 'Класс', 'Хорошо ', 'Удобно',\n",
              "       'Супер', 'Не плохо ', 'Нормально', 'Спасибо!', 'Отлично',\n",
              "       'Спасибо', 'Норм', 'Стандарт.', 'Чисто!', 'Все отл', 'Удобно',\n",
              "       'Хорошо', '10 из 10', 'Ок', 'Вкусно', 'Супер', 'Норм', 'Вкусно',\n",
              "       'Красавцы', 'Не вкусно', 'Все норм.', 'Профи!', 'Отлично.',\n",
              "       'Круть', 'Чисто', 'Отлично.', 'Хорошо ', 'Бомба', 'Всё супер',\n",
              "       'топ топ', 'Норм', 'Вполне!', 'Всё чëтко', 'Вкусно', 'Класс! '],\n",
              "      dtype=object)"
            ]
          },
          "metadata": {},
          "execution_count": 42
        }
      ]
    },
    {
      "cell_type": "markdown",
      "source": [
        "Токенизируем текст отзывов и выбираем ключевые самые частые слова"
      ],
      "metadata": {
        "id": "LGvvss_tQPj8"
      }
    },
    {
      "cell_type": "code",
      "source": [
        "# Соберем все тексты отзывов в одну строку\n",
        "words_list_list = df['text'].to_list()\n",
        "words_str = ' '.join(str(string) for string in words_list_list)"
      ],
      "metadata": {
        "id": "3wY2mjllTF-0"
      },
      "execution_count": 12,
      "outputs": []
    },
    {
      "cell_type": "code",
      "source": [
        "import string\n",
        "import re\n",
        "\n",
        "# Файл для сохранения обработанного текста\n",
        "output_file = \"/content/drive/My Drive/processed_reviews.txt\"\n",
        "\n",
        "# Функция для очистки текста\n",
        "def clean_text(text):\n",
        "    spec_chars = string.punctuation + '\\n\\xa0«»\\t—…n'\n",
        "    text = re.sub(f\"[{re.escape(spec_chars)}]\", \"\", text)  # Удаляем спецсимволы\n",
        "    text = re.sub(r\"\\d+\", \"\", text)  # Удаляем цифры\n",
        "    return text.lower()\n",
        "\n",
        "# Открываем файл на запись\n",
        "with open(output_file, \"w\", encoding=\"utf-8\") as f_out:\n",
        "    for text in df['text']:\n",
        "        if pd.notna(text):  # Пропускаем NaN\n",
        "            clean_line = clean_text(str(text))  # Очищаем строку\n",
        "            f_out.write(clean_line + \"\\n\")  # Записываем в файл\n",
        "\n",
        "print(f\"Обработанный текст сохранен в: {output_file}\")\n"
      ],
      "metadata": {
        "colab": {
          "base_uri": "https://localhost:8080/"
        },
        "id": "CYHmx8h-TJgV",
        "outputId": "6b703216-e4aa-4bbe-84b8-48fc698bc9fa"
      },
      "execution_count": 13,
      "outputs": [
        {
          "output_type": "stream",
          "name": "stdout",
          "text": [
            "Обработанный текст сохранен в: /content/drive/My Drive/processed_reviews.txt\n"
          ]
        }
      ]
    },
    {
      "cell_type": "code",
      "source": [
        "import nltk\n",
        "from nltk.tokenize import word_tokenize\n",
        "\n",
        "# Скачиваем необходимые ресурсы для токенизации\n",
        "nltk.download('punkt_tab')\n"
      ],
      "metadata": {
        "colab": {
          "base_uri": "https://localhost:8080/"
        },
        "id": "ITCH8ygIYabx",
        "outputId": "6320beb1-0151-481c-af66-6f62561b940c"
      },
      "execution_count": 17,
      "outputs": [
        {
          "output_type": "stream",
          "name": "stderr",
          "text": [
            "[nltk_data] Downloading package punkt_tab to /root/nltk_data...\n",
            "[nltk_data]   Unzipping tokenizers/punkt_tab.zip.\n"
          ]
        },
        {
          "output_type": "execute_result",
          "data": {
            "text/plain": [
              "True"
            ]
          },
          "metadata": {},
          "execution_count": 17
        }
      ]
    },
    {
      "cell_type": "code",
      "source": [
        "# Токенизируем текст\n",
        "# Прочитаем текст из файла\n",
        "input_file = \"/content/drive/My Drive/processed_reviews.txt\"\n",
        "\n",
        "with open(input_file, \"r\", encoding=\"utf-8\") as f:\n",
        "    text = f.read()  # Считываем весь текст\n",
        "\n",
        "# Токенизируем текст\n",
        "text_tokens = word_tokenize(text)\n",
        "\n",
        "# Проверим первые 10 токенов\n",
        "print(text_tokens[:10])"
      ],
      "metadata": {
        "colab": {
          "base_uri": "https://localhost:8080/"
        },
        "id": "iwypE_IJTOW1",
        "outputId": "a96c297a-a04a-438c-84e4-4fdfd20b4557"
      },
      "execution_count": 18,
      "outputs": [
        {
          "output_type": "stream",
          "name": "stdout",
          "text": [
            "['московский', 'квартал', 'шумно', 'летом', 'по', 'ночам', 'дикие', 'гонки', 'грязно', 'кругом']\n"
          ]
        }
      ]
    },
    {
      "cell_type": "code",
      "source": [
        "# Путь для сохранения токенов на Google Drive\n",
        "output_file = \"/content/drive/My Drive/tokenized_reviews.txt\"\n",
        "\n",
        "# Записываем токены в файл (по одному на строку)\n",
        "with open(output_file, \"w\", encoding=\"utf-8\") as f_out:\n",
        "    for token in text_tokens:\n",
        "        f_out.write(token + \"\\n\")  # Записываем каждый токен в новой строке\n",
        "\n",
        "print(f\"Токенизированный текст сохранен в: {output_file}\")\n"
      ],
      "metadata": {
        "colab": {
          "base_uri": "https://localhost:8080/"
        },
        "id": "ji_xuKO_aWUM",
        "outputId": "ae25219f-3e93-4638-85b5-851b63aee662"
      },
      "execution_count": 19,
      "outputs": [
        {
          "output_type": "stream",
          "name": "stdout",
          "text": [
            "Токенизированный текст сохранен в: /content/drive/My Drive/tokenized_reviews.txt\n"
          ]
        }
      ]
    },
    {
      "cell_type": "code",
      "source": [
        "# Посмотрим статистику по неочищенным словам\n",
        "# Для применения инструментов частотного анализа библиотеки NLTK необходимо список токенов преобразовать к классу Text\n",
        "text = nltk.Text(text_tokens)\n",
        "fdist = FreqDist(text)"
      ],
      "metadata": {
        "id": "Ix1rVUACa9bC"
      },
      "execution_count": 20,
      "outputs": []
    },
    {
      "cell_type": "code",
      "source": [
        "# Теперь очистим слова от служебных частей речи\n",
        "nltk.download('stopwords')\n",
        "russian_stopwords = stopwords.words(\"russian\")\n",
        "custom_stopwords = ['очень', 'это', 'всё', 'всем', 'еще', 'ещё']\n",
        "stopwords_united = russian_stopwords + custom_stopwords\n",
        "text_with_no_stopwords = [word for word in text if word not in stopwords_united]"
      ],
      "metadata": {
        "colab": {
          "base_uri": "https://localhost:8080/"
        },
        "id": "J4Bv45cjdPy9",
        "outputId": "1f07bbed-5888-4299-9721-d8c82c0a3f9c"
      },
      "execution_count": 21,
      "outputs": [
        {
          "output_type": "stream",
          "name": "stderr",
          "text": [
            "[nltk_data] Downloading package stopwords to /root/nltk_data...\n",
            "[nltk_data]   Unzipping corpora/stopwords.zip.\n"
          ]
        }
      ]
    },
    {
      "cell_type": "code",
      "source": [
        "# И посмотрим статистику по очищенным словам\n",
        "\n",
        "fdist = FreqDist(text_with_no_stopwords)\n",
        "\n",
        "print('Статистика по очищенным словам\\n')\n",
        "print(f'Всего слов: {fdist.N()}\\n')\n",
        "print(f'Уникальных слов: {fdist.B()}\\n')\n",
        "print('Топ-10 слов по частоте: ')\n",
        "most_common_words = fdist.most_common(10)\n",
        "for word in most_common_words:\n",
        "    print(f'{word[0]}:  {word[1]}')"
      ],
      "metadata": {
        "colab": {
          "base_uri": "https://localhost:8080/"
        },
        "id": "_ElEPvoMeB4K",
        "outputId": "415a3aa0-6533-4637-dc7a-0245a0e70f6e"
      },
      "execution_count": 22,
      "outputs": [
        {
          "output_type": "stream",
          "name": "stdout",
          "text": [
            "Статистика по очищенным словам\n",
            "\n",
            "Всего слов: 14173971\n",
            "\n",
            "Уникальных слов: 742776\n",
            "\n",
            "Топ-10 слов по частоте: \n",
            "персонал:  82456\n",
            "место:  74975\n",
            "спасибо:  73776\n",
            "рекомендую:  60037\n",
            "просто:  49583\n",
            "магазин:  46361\n",
            "хороший:  43166\n",
            "цены:  42268\n",
            "вкусно:  40279\n",
            "быстро:  40030\n"
          ]
        }
      ]
    },
    {
      "cell_type": "markdown",
      "source": [
        "Word cloud"
      ],
      "metadata": {
        "id": "PvvojRKLeKbe"
      }
    },
    {
      "cell_type": "code",
      "source": [
        "wordcloud = WordCloud(width=1200, height=600).generate_from_frequencies(fdist)"
      ],
      "metadata": {
        "id": "P2d6OlBgeNmp"
      },
      "execution_count": 23,
      "outputs": []
    },
    {
      "cell_type": "code",
      "source": [
        "# Отображаем облако слов\n",
        "plt.figure(figsize=(12, 8))\n",
        "plt.imshow(wordcloud, interpolation=\"bilinear\")\n",
        "plt.axis(\"off\")\n",
        "plt.show()"
      ],
      "metadata": {
        "colab": {
          "base_uri": "https://localhost:8080/",
          "height": 521
        },
        "id": "BMFNT3cIekm6",
        "outputId": "00f08f91-8a37-4b09-81e9-9aca158c0a28"
      },
      "execution_count": 24,
      "outputs": [
        {
          "output_type": "display_data",
          "data": {
            "text/plain": [
              "<Figure size 1200x800 with 1 Axes>"
            ],
            "image/png": "[encoded data removed]"
          },
          "metadata": {}
        }
      ]
    },
    {
      "cell_type": "code",
      "source": [
        "Нормализация текстов (удаление спецсимволов, приведение к нижнему регистру)"
      ],
      "metadata": {
        "id": "sVo_4_cYeyRc"
      },
      "execution_count": null,
      "outputs": []
    },
    {
      "cell_type": "code",
      "source": [
        "def normalize_text(text):\n",
        "    # Приведение к нижнему регистру\n",
        "    text = text.lower()\n",
        "\n",
        "    # Удаление специальных символов\n",
        "    text = re.sub(r'[^a-zA-Zа-яА-Я0-9\\s]', '', text)\n",
        "\n",
        "    return text\n",
        "\n",
        "# Применяем функцию ко всем отзывам\n",
        "df['text'] = df['text'].apply(normalize_text)"
      ],
      "metadata": {
        "id": "4MWyFxKie1xU"
      },
      "execution_count": 25,
      "outputs": []
    },
    {
      "cell_type": "code",
      "source": [
        "# Посмотрим сколько уникальных значений по столбцам\n",
        "df.nunique()"
      ],
      "metadata": {
        "colab": {
          "base_uri": "https://localhost:8080/",
          "height": 241
        },
        "id": "bIQZpB7pe-10",
        "outputId": "966f6a1c-199f-414d-9ac3-82a552740711"
      },
      "execution_count": 26,
      "outputs": [
        {
          "output_type": "execute_result",
          "data": {
            "text/plain": [
              "address    191639\n",
              "name_ru    148456\n",
              "rating          6\n",
              "rubrics     31724\n",
              "text       498805\n",
              "dtype: int64"
            ],
            "text/html": [
              "<div>\n",
              "<style scoped>\n",
              "    .dataframe tbody tr th:only-of-type {\n",
              "        vertical-align: middle;\n",
              "    }\n",
              "\n",
              "    .dataframe tbody tr th {\n",
              "        vertical-align: top;\n",
              "    }\n",
              "\n",
              "    .dataframe thead th {\n",
              "        text-align: right;\n",
              "    }\n",
              "</style>\n",
              "<table border=\"1\" class=\"dataframe\">\n",
              "  <thead>\n",
              "    <tr style=\"text-align: right;\">\n",
              "      <th></th>\n",
              "      <th>0</th>\n",
              "    </tr>\n",
              "  </thead>\n",
              "  <tbody>\n",
              "    <tr>\n",
              "      <th>address</th>\n",
              "      <td>191639</td>\n",
              "    </tr>\n",
              "    <tr>\n",
              "      <th>name_ru</th>\n",
              "      <td>148456</td>\n",
              "    </tr>\n",
              "    <tr>\n",
              "      <th>rating</th>\n",
              "      <td>6</td>\n",
              "    </tr>\n",
              "    <tr>\n",
              "      <th>rubrics</th>\n",
              "      <td>31724</td>\n",
              "    </tr>\n",
              "    <tr>\n",
              "      <th>text</th>\n",
              "      <td>498805</td>\n",
              "    </tr>\n",
              "  </tbody>\n",
              "</table>\n",
              "</div><br><label><b>dtype:</b> int64</label>"
            ]
          },
          "metadata": {},
          "execution_count": 26
        }
      ]
    },
    {
      "cell_type": "code",
      "source": [
        "# Убираем строки с рейтингом 0\n",
        "df = df.query(\"rating > 0\")\n",
        "\n",
        "# Выводим кол-во уникальных значений по колонкам для проверки результата\n",
        "df.nunique()"
      ],
      "metadata": {
        "colab": {
          "base_uri": "https://localhost:8080/",
          "height": 241
        },
        "id": "e-cu2QtZfNe4",
        "outputId": "418b1437-8775-447d-b86b-2d38654831fd"
      },
      "execution_count": 27,
      "outputs": [
        {
          "output_type": "execute_result",
          "data": {
            "text/plain": [
              "address    191595\n",
              "name_ru    148421\n",
              "rating          5\n",
              "rubrics     31715\n",
              "text       498606\n",
              "dtype: int64"
            ],
            "text/html": [
              "<div>\n",
              "<style scoped>\n",
              "    .dataframe tbody tr th:only-of-type {\n",
              "        vertical-align: middle;\n",
              "    }\n",
              "\n",
              "    .dataframe tbody tr th {\n",
              "        vertical-align: top;\n",
              "    }\n",
              "\n",
              "    .dataframe thead th {\n",
              "        text-align: right;\n",
              "    }\n",
              "</style>\n",
              "<table border=\"1\" class=\"dataframe\">\n",
              "  <thead>\n",
              "    <tr style=\"text-align: right;\">\n",
              "      <th></th>\n",
              "      <th>0</th>\n",
              "    </tr>\n",
              "  </thead>\n",
              "  <tbody>\n",
              "    <tr>\n",
              "      <th>address</th>\n",
              "      <td>191595</td>\n",
              "    </tr>\n",
              "    <tr>\n",
              "      <th>name_ru</th>\n",
              "      <td>148421</td>\n",
              "    </tr>\n",
              "    <tr>\n",
              "      <th>rating</th>\n",
              "      <td>5</td>\n",
              "    </tr>\n",
              "    <tr>\n",
              "      <th>rubrics</th>\n",
              "      <td>31715</td>\n",
              "    </tr>\n",
              "    <tr>\n",
              "      <th>text</th>\n",
              "      <td>498606</td>\n",
              "    </tr>\n",
              "  </tbody>\n",
              "</table>\n",
              "</div><br><label><b>dtype:</b> int64</label>"
            ]
          },
          "metadata": {},
          "execution_count": 27
        }
      ]
    },
    {
      "cell_type": "markdown",
      "source": [
        "Очищаем датасет от выбросов - удаляем строки со слишком большой и слишком маленькой длиной текста отзыва"
      ],
      "metadata": {
        "id": "Px90b_OjfbCa"
      }
    },
    {
      "cell_type": "code",
      "source": [
        "df['review_length'] = df['text'].str.len()"
      ],
      "metadata": {
        "id": "EUzK4IDaf-M3"
      },
      "execution_count": 29,
      "outputs": []
    },
    {
      "cell_type": "code",
      "source": [
        "# Удаление отзывов с длиной более 3000 слов\n",
        "df = df.query('review_length < 3000')\n",
        "\n",
        "# Удаление отзывов с длиной менее 10 слов\n",
        "df = df.query('review_length > 10')"
      ],
      "metadata": {
        "id": "sJpHp5cvfjmr"
      },
      "execution_count": 30,
      "outputs": []
    },
    {
      "cell_type": "code",
      "source": [
        "df.info()\n"
      ],
      "metadata": {
        "colab": {
          "base_uri": "https://localhost:8080/"
        },
        "id": "NIap7-khgPiN",
        "outputId": "4160347a-b041-4d23-8f35-1c3de2273a02"
      },
      "execution_count": 31,
      "outputs": [
        {
          "output_type": "stream",
          "name": "stdout",
          "text": [
            "<class 'pandas.core.frame.DataFrame'>\n",
            "Index: 498410 entries, 0 to 499029\n",
            "Data columns (total 6 columns):\n",
            " #   Column         Non-Null Count   Dtype \n",
            "---  ------         --------------   ----- \n",
            " 0   address        498410 non-null  object\n",
            " 1   name_ru        498410 non-null  object\n",
            " 2   rating         498410 non-null  int64 \n",
            " 3   rubrics        498410 non-null  object\n",
            " 4   text           498410 non-null  object\n",
            " 5   review_length  498410 non-null  int64 \n",
            "dtypes: int64(2), object(4)\n",
            "memory usage: 26.6+ MB\n"
          ]
        }
      ]
    },
    {
      "cell_type": "code",
      "source": [
        "# Выведем график распределения по длине отзывов, для визуализации результата\n",
        "sns.histplot(df['review_length'])"
      ],
      "metadata": {
        "colab": {
          "base_uri": "https://localhost:8080/",
          "height": 467
        },
        "id": "a9IndzOUgU1v",
        "outputId": "7992d30e-d58f-48e5-8f15-8471877657a8"
      },
      "execution_count": 32,
      "outputs": [
        {
          "output_type": "execute_result",
          "data": {
            "text/plain": [
              "<Axes: xlabel='review_length', ylabel='Count'>"
            ]
          },
          "metadata": {},
          "execution_count": 32
        },
        {
          "output_type": "display_data",
          "data": {
            "text/plain": [
              "<Figure size 640x480 with 1 Axes>"
            ],
            "image/png": "[encoded data removed]"
          },
          "metadata": {}
        }
      ]
    },
    {
      "cell_type": "markdown",
      "source": [
        "Заменяем символы переноса строки (\\n) на пробелы:"
      ],
      "metadata": {
        "id": "zecoVRzMgdbU"
      }
    },
    {
      "cell_type": "code",
      "source": [
        "df['text'] = df['text'].str.replace('\\\\n', ' ')\n",
        "\n",
        "# И еще заменим откуда-то взявшиеся вместо пробелов буквы \"n\"\n",
        "df['text'] = df['text'].str.replace('n', ' ')"
      ],
      "metadata": {
        "id": "rC-JVxqOgeaJ"
      },
      "execution_count": 33,
      "outputs": []
    },
    {
      "cell_type": "code",
      "source": [
        "# Сохраняем предобработанный датасет в tsv файл\n",
        "df.to_csv('/content/drive/My Drive/dataset_preprocessed.tsv', sep='\\t', index=False)\n"
      ],
      "metadata": {
        "id": "IuwTWyo8gxeC"
      },
      "execution_count": 34,
      "outputs": []
    },
    {
      "cell_type": "markdown",
      "source": [
        "Для целей экономии времени мы обрезаем датасет вполовину до 20000 строк"
      ],
      "metadata": {
        "id": "0rrr3m1jhC5y"
      }
    },
    {
      "cell_type": "code",
      "source": [
        "file_path = '/content/drive/My Drive/dataset_preprocessed.tsv'  # Убедись, что путь правильный\n",
        "\n",
        "# Читаем данные из файла\n",
        "df = pd.read_csv(file_path, sep='\\t')\n",
        "\n",
        "# Проверяем информацию о DataFrame\n",
        "df.info()"
      ],
      "metadata": {
        "colab": {
          "base_uri": "https://localhost:8080/"
        },
        "id": "y2eCRDIhhKaB",
        "outputId": "91c46706-3de7-4e3c-fd5a-9f3e4884855f"
      },
      "execution_count": 35,
      "outputs": [
        {
          "output_type": "stream",
          "name": "stdout",
          "text": [
            "<class 'pandas.core.frame.DataFrame'>\n",
            "RangeIndex: 498410 entries, 0 to 498409\n",
            "Data columns (total 6 columns):\n",
            " #   Column         Non-Null Count   Dtype \n",
            "---  ------         --------------   ----- \n",
            " 0   address        498410 non-null  object\n",
            " 1   name_ru        498410 non-null  object\n",
            " 2   rating         498410 non-null  int64 \n",
            " 3   rubrics        498410 non-null  object\n",
            " 4   text           498410 non-null  object\n",
            " 5   review_length  498410 non-null  int64 \n",
            "dtypes: int64(2), object(4)\n",
            "memory usage: 22.8+ MB\n"
          ]
        }
      ]
    },
    {
      "cell_type": "code",
      "source": [
        "# Создадим список, в который отправим категории, которые встречаются в датасете не менее 200 раз\n",
        "frequent_rubrics = df.rubrics.value_counts().reset_index(name=\"count\").query(\"count >= 200\")['rubrics'].to_list()\n",
        "\n",
        "# Заполним редкие рубрики NaN (если их нет в списке частх рубрик)\n",
        "df['rubrics'] = df['rubrics'].apply(lambda rubric: rubric if rubric in frequent_rubrics else np.nan)\n",
        "\n",
        "# Удалим NaN\n",
        "df = df.dropna(ignore_index=True)"
      ],
      "metadata": {
        "id": "NvnoeyWOhiUt"
      },
      "execution_count": 36,
      "outputs": []
    },
    {
      "cell_type": "code",
      "source": [
        "df.info()"
      ],
      "metadata": {
        "colab": {
          "base_uri": "https://localhost:8080/"
        },
        "id": "elK1D_YThlra",
        "outputId": "2b6b8607-0d3c-430d-e0ab-c4512f760a9a"
      },
      "execution_count": 37,
      "outputs": [
        {
          "output_type": "stream",
          "name": "stdout",
          "text": [
            "<class 'pandas.core.frame.DataFrame'>\n",
            "RangeIndex: 318962 entries, 0 to 318961\n",
            "Data columns (total 6 columns):\n",
            " #   Column         Non-Null Count   Dtype \n",
            "---  ------         --------------   ----- \n",
            " 0   address        318962 non-null  object\n",
            " 1   name_ru        318962 non-null  object\n",
            " 2   rating         318962 non-null  int64 \n",
            " 3   rubrics        318962 non-null  object\n",
            " 4   text           318962 non-null  object\n",
            " 5   review_length  318962 non-null  int64 \n",
            "dtypes: int64(2), object(4)\n",
            "memory usage: 14.6+ MB\n"
          ]
        }
      ]
    },
    {
      "cell_type": "markdown",
      "source": [
        "Мы берем по 4000 строк отзывов с каждым рейтингом"
      ],
      "metadata": {
        "id": "pb8efdRjhpdU"
      }
    },
    {
      "cell_type": "code",
      "source": [
        "def balance_rating(df, len_for_each_rating=4000):\n",
        "    # Создаем пустой DataFrame для результата\n",
        "    df_cropped = pd.DataFrame()\n",
        "\n",
        "    # Проходим по группам, которые образуются по уникальному рейтингу\n",
        "    for rating, group in df.groupby('rating'):\n",
        "        # Обрезаем группу по количеству строк, ограниченному len_for_each_rating\n",
        "        cropped_group = group.head(len_for_each_rating)\n",
        "\n",
        "        # Добавляем эту группу в итоговый DataFrame\n",
        "        df_cropped = pd.concat([df_cropped, cropped_group], ignore_index=True)\n",
        "\n",
        "    return df_cropped\n",
        "\n",
        "# Применяем функцию\n",
        "df_balanced = balance_rating(df, len_for_each_rating=4000)\n",
        "\n",
        "# Проверим результат\n",
        "df_balanced.info()\n"
      ],
      "metadata": {
        "colab": {
          "base_uri": "https://localhost:8080/"
        },
        "id": "8_EzdxctiaSR",
        "outputId": "68511863-feab-480d-ec32-d30a1dc748b6"
      },
      "execution_count": 38,
      "outputs": [
        {
          "output_type": "stream",
          "name": "stdout",
          "text": [
            "<class 'pandas.core.frame.DataFrame'>\n",
            "RangeIndex: 20000 entries, 0 to 19999\n",
            "Data columns (total 6 columns):\n",
            " #   Column         Non-Null Count  Dtype \n",
            "---  ------         --------------  ----- \n",
            " 0   address        20000 non-null  object\n",
            " 1   name_ru        20000 non-null  object\n",
            " 2   rating         20000 non-null  int64 \n",
            " 3   rubrics        20000 non-null  object\n",
            " 4   text           20000 non-null  object\n",
            " 5   review_length  20000 non-null  int64 \n",
            "dtypes: int64(2), object(4)\n",
            "memory usage: 937.6+ KB\n"
          ]
        }
      ]
    },
    {
      "cell_type": "code",
      "source": [
        "df_balanced.head()"
      ],
      "metadata": {
        "colab": {
          "base_uri": "https://localhost:8080/",
          "height": 380
        },
        "id": "POuIRi5si0az",
        "outputId": "96bf552d-7a6b-4151-92fa-f1ece8d5579b"
      },
      "execution_count": 40,
      "outputs": [
        {
          "output_type": "execute_result",
          "data": {
            "text/plain": [
              "                                             address              name_ru  \\\n",
              "0  Краснодар, Прикубанский внутригородской округ,...              LimeFit   \n",
              "1  Ставропольский край, Невинномысск, улица Павло...           Эште Дёнер   \n",
              "2  Московская область, Наро-Фоминск, улица Калини...  Автомойка Чистякоff   \n",
              "3                Екатеринбург, ул. Хрустальногорская            Nova park   \n",
              "4  Московская область, Жуковский, улица Баженова, 2А      Made in Vietnam   \n",
              "\n",
              "   rating                                     rubrics  \\\n",
              "0       1                                 Фитнес-клуб   \n",
              "1       1  Кафе;Быстрое питание;Доставка еды и обедов   \n",
              "2       1                                   Автомойка   \n",
              "3       1                              Жилой комплекс   \n",
              "4       1                             Быстрое питание   \n",
              "\n",
              "                                                text  review_length  \n",
              "0  не знаю смутят ли когото данные правила но я б...            458  \n",
              "1  1 доставка очень долгая на рекламной брошюре н...            274  \n",
              "2  раньше было нормально и мыли хорошо но больше ...            232  \n",
              "3  когда выбирали квартиру атом был в приоритете ...            809  \n",
              "4  заказали фобо и томям короче больше не приду к...            360  "
            ],
            "text/html": [
              "\n",
              "  <div id=\"df-23a6c03b-d44a-4144-b82d-d904f1151c23\" class=\"colab-df-container\">\n",
              "    <div>\n",
              "<style scoped>\n",
              "    .dataframe tbody tr th:only-of-type {\n",
              "        vertical-align: middle;\n",
              "    }\n",
              "\n",
              "    .dataframe tbody tr th {\n",
              "        vertical-align: top;\n",
              "    }\n",
              "\n",
              "    .dataframe thead th {\n",
              "        text-align: right;\n",
              "    }\n",
              "</style>\n",
              "<table border=\"1\" class=\"dataframe\">\n",
              "  <thead>\n",
              "    <tr style=\"text-align: right;\">\n",
              "      <th></th>\n",
              "      <th>address</th>\n",
              "      <th>name_ru</th>\n",
              "      <th>rating</th>\n",
              "      <th>rubrics</th>\n",
              "      <th>text</th>\n",
              "      <th>review_length</th>\n",
              "    </tr>\n",
              "  </thead>\n",
              "  <tbody>\n",
              "    <tr>\n",
              "      <th>0</th>\n",
              "      <td>Краснодар, Прикубанский внутригородской округ,...</td>\n",
              "      <td>LimeFit</td>\n",
              "      <td>1</td>\n",
              "      <td>Фитнес-клуб</td>\n",
              "      <td>не знаю смутят ли когото данные правила но я б...</td>\n",
              "      <td>458</td>\n",
              "    </tr>\n",
              "    <tr>\n",
              "      <th>1</th>\n",
              "      <td>Ставропольский край, Невинномысск, улица Павло...</td>\n",
              "      <td>Эште Дёнер</td>\n",
              "      <td>1</td>\n",
              "      <td>Кафе;Быстрое питание;Доставка еды и обедов</td>\n",
              "      <td>1 доставка очень долгая на рекламной брошюре н...</td>\n",
              "      <td>274</td>\n",
              "    </tr>\n",
              "    <tr>\n",
              "      <th>2</th>\n",
              "      <td>Московская область, Наро-Фоминск, улица Калини...</td>\n",
              "      <td>Автомойка Чистякоff</td>\n",
              "      <td>1</td>\n",
              "      <td>Автомойка</td>\n",
              "      <td>раньше было нормально и мыли хорошо но больше ...</td>\n",
              "      <td>232</td>\n",
              "    </tr>\n",
              "    <tr>\n",
              "      <th>3</th>\n",
              "      <td>Екатеринбург, ул. Хрустальногорская</td>\n",
              "      <td>Nova park</td>\n",
              "      <td>1</td>\n",
              "      <td>Жилой комплекс</td>\n",
              "      <td>когда выбирали квартиру атом был в приоритете ...</td>\n",
              "      <td>809</td>\n",
              "    </tr>\n",
              "    <tr>\n",
              "      <th>4</th>\n",
              "      <td>Московская область, Жуковский, улица Баженова, 2А</td>\n",
              "      <td>Made in Vietnam</td>\n",
              "      <td>1</td>\n",
              "      <td>Быстрое питание</td>\n",
              "      <td>заказали фобо и томям короче больше не приду к...</td>\n",
              "      <td>360</td>\n",
              "    </tr>\n",
              "  </tbody>\n",
              "</table>\n",
              "</div>\n",
              "    <div class=\"colab-df-buttons\">\n",
              "\n",
              "  <div class=\"colab-df-container\">\n",
              "    <button class=\"colab-df-convert\" onclick=\"convertToInteractive('df-23a6c03b-d44a-4144-b82d-d904f1151c23')\"\n",
              "            title=\"Convert this dataframe to an interactive table.\"\n",
              "            style=\"display:none;\">\n",
              "\n",
              "  <svg xmlns=\"http://www.w3.org/2000/svg\" height=\"24px\" viewBox=\"0 -960 960 960\">\n",
              "    <path d=\"M120-120v-720h720v720H120Zm60-500h600v-160H180v160Zm220 220h160v-160H400v160Zm0 220h160v-160H400v160ZM180-400h160v-160H180v160Zm440 0h160v-160H620v160ZM180-180h160v-160H180v160Zm440 0h160v-160H620v160Z\"/>\n",
              "  </svg>\n",
              "    </button>\n",
              "\n",
              "  <style>\n",
              "    .colab-df-container {\n",
              "      display:flex;\n",
              "      gap: 12px;\n",
              "    }\n",
              "\n",
              "    .colab-df-convert {\n",
              "      background-color: #E8F0FE;\n",
              "      border: none;\n",
              "      border-radius: 50%;\n",
              "      cursor: pointer;\n",
              "      display: none;\n",
              "      fill: #1967D2;\n",
              "      height: 32px;\n",
              "      padding: 0 0 0 0;\n",
              "      width: 32px;\n",
              "    }\n",
              "\n",
              "    .colab-df-convert:hover {\n",
              "      background-color: #E2EBFA;\n",
              "      box-shadow: 0px 1px 2px rgba(60, 64, 67, 0.3), 0px 1px 3px 1px rgba(60, 64, 67, 0.15);\n",
              "      fill: #174EA6;\n",
              "    }\n",
              "\n",
              "    .colab-df-buttons div {\n",
              "      margin-bottom: 4px;\n",
              "    }\n",
              "\n",
              "    [theme=dark] .colab-df-convert {\n",
              "      background-color: #3B4455;\n",
              "      fill: #D2E3FC;\n",
              "    }\n",
              "\n",
              "    [theme=dark] .colab-df-convert:hover {\n",
              "      background-color: #434B5C;\n",
              "      box-shadow: 0px 1px 3px 1px rgba(0, 0, 0, 0.15);\n",
              "      filter: drop-shadow(0px 1px 2px rgba(0, 0, 0, 0.3));\n",
              "      fill: #FFFFFF;\n",
              "    }\n",
              "  </style>\n",
              "\n",
              "    <script>\n",
              "      const buttonEl =\n",
              "        document.querySelector('#df-23a6c03b-d44a-4144-b82d-d904f1151c23 button.colab-df-convert');\n",
              "      buttonEl.style.display =\n",
              "        google.colab.kernel.accessAllowed ? 'block' : 'none';\n",
              "\n",
              "      async function convertToInteractive(key) {\n",
              "        const element = document.querySelector('#df-23a6c03b-d44a-4144-b82d-d904f1151c23');\n",
              "        const dataTable =\n",
              "          await google.colab.kernel.invokeFunction('convertToInteractive',\n",
              "                                                    [key], {});\n",
              "        if (!dataTable) return;\n",
              "\n",
              "        const docLinkHtml = 'Like what you see? Visit the ' +\n",
              "          '<a target=\"_blank\" href=https://colab.research.google.com/notebooks/data_table.ipynb>data table notebook</a>'\n",
              "          + ' to learn more about interactive tables.';\n",
              "        element.innerHTML = '';\n",
              "        dataTable['output_type'] = 'display_data';\n",
              "        await google.colab.output.renderOutput(dataTable, element);\n",
              "        const docLink = document.createElement('div');\n",
              "        docLink.innerHTML = docLinkHtml;\n",
              "        element.appendChild(docLink);\n",
              "      }\n",
              "    </script>\n",
              "  </div>\n",
              "\n",
              "\n",
              "<div id=\"df-3d7a5750-ff48-4607-9ef1-af98b9a1aae9\">\n",
              "  <button class=\"colab-df-quickchart\" onclick=\"quickchart('df-3d7a5750-ff48-4607-9ef1-af98b9a1aae9')\"\n",
              "            title=\"Suggest charts\"\n",
              "            style=\"display:none;\">\n",
              "\n",
              "<svg xmlns=\"http://www.w3.org/2000/svg\" height=\"24px\"viewBox=\"0 0 24 24\"\n",
              "     width=\"24px\">\n",
              "    <g>\n",
              "        <path d=\"M19 3H5c-1.1 0-2 .9-2 2v14c0 1.1.9 2 2 2h14c1.1 0 2-.9 2-2V5c0-1.1-.9-2-2-2zM9 17H7v-7h2v7zm4 0h-2V7h2v10zm4 0h-2v-4h2v4z\"/>\n",
              "    </g>\n",
              "</svg>\n",
              "  </button>\n",
              "\n",
              "<style>\n",
              "  .colab-df-quickchart {\n",
              "      --bg-color: #E8F0FE;\n",
              "      --fill-color: #1967D2;\n",
              "      --hover-bg-color: #E2EBFA;\n",
              "      --hover-fill-color: #174EA6;\n",
              "      --disabled-fill-color: #AAA;\n",
              "      --disabled-bg-color: #DDD;\n",
              "  }\n",
              "\n",
              "  [theme=dark] .colab-df-quickchart {\n",
              "      --bg-color: #3B4455;\n",
              "      --fill-color: #D2E3FC;\n",
              "      --hover-bg-color: #434B5C;\n",
              "      --hover-fill-color: #FFFFFF;\n",
              "      --disabled-bg-color: #3B4455;\n",
              "      --disabled-fill-color: #666;\n",
              "  }\n",
              "\n",
              "  .colab-df-quickchart {\n",
              "    background-color: var(--bg-color);\n",
              "    border: none;\n",
              "    border-radius: 50%;\n",
              "    cursor: pointer;\n",
              "    display: none;\n",
              "    fill: var(--fill-color);\n",
              "    height: 32px;\n",
              "    padding: 0;\n",
              "    width: 32px;\n",
              "  }\n",
              "\n",
              "  .colab-df-quickchart:hover {\n",
              "    background-color: var(--hover-bg-color);\n",
              "    box-shadow: 0 1px 2px rgba(60, 64, 67, 0.3), 0 1px 3px 1px rgba(60, 64, 67, 0.15);\n",
              "    fill: var(--button-hover-fill-color);\n",
              "  }\n",
              "\n",
              "  .colab-df-quickchart-complete:disabled,\n",
              "  .colab-df-quickchart-complete:disabled:hover {\n",
              "    background-color: var(--disabled-bg-color);\n",
              "    fill: var(--disabled-fill-color);\n",
              "    box-shadow: none;\n",
              "  }\n",
              "\n",
              "  .colab-df-spinner {\n",
              "    border: 2px solid var(--fill-color);\n",
              "    border-color: transparent;\n",
              "    border-bottom-color: var(--fill-color);\n",
              "    animation:\n",
              "      spin 1s steps(1) infinite;\n",
              "  }\n",
              "\n",
              "  @keyframes spin {\n",
              "    0% {\n",
              "      border-color: transparent;\n",
              "      border-bottom-color: var(--fill-color);\n",
              "      border-left-color: var(--fill-color);\n",
              "    }\n",
              "    20% {\n",
              "      border-color: transparent;\n",
              "      border-left-color: var(--fill-color);\n",
              "      border-top-color: var(--fill-color);\n",
              "    }\n",
              "    30% {\n",
              "      border-color: transparent;\n",
              "      border-left-color: var(--fill-color);\n",
              "      border-top-color: var(--fill-color);\n",
              "      border-right-color: var(--fill-color);\n",
              "    }\n",
              "    40% {\n",
              "      border-color: transparent;\n",
              "      border-right-color: var(--fill-color);\n",
              "      border-top-color: var(--fill-color);\n",
              "    }\n",
              "    60% {\n",
              "      border-color: transparent;\n",
              "      border-right-color: var(--fill-color);\n",
              "    }\n",
              "    80% {\n",
              "      border-color: transparent;\n",
              "      border-right-color: var(--fill-color);\n",
              "      border-bottom-color: var(--fill-color);\n",
              "    }\n",
              "    90% {\n",
              "      border-color: transparent;\n",
              "      border-bottom-color: var(--fill-color);\n",
              "    }\n",
              "  }\n",
              "</style>\n",
              "\n",
              "  <script>\n",
              "    async function quickchart(key) {\n",
              "      const quickchartButtonEl =\n",
              "        document.querySelector('#' + key + ' button');\n",
              "      quickchartButtonEl.disabled = true;  // To prevent multiple clicks.\n",
              "      quickchartButtonEl.classList.add('colab-df-spinner');\n",
              "      try {\n",
              "        const charts = await google.colab.kernel.invokeFunction(\n",
              "            'suggestCharts', [key], {});\n",
              "      } catch (error) {\n",
              "        console.error('Error during call to suggestCharts:', error);\n",
              "      }\n",
              "      quickchartButtonEl.classList.remove('colab-df-spinner');\n",
              "      quickchartButtonEl.classList.add('colab-df-quickchart-complete');\n",
              "    }\n",
              "    (() => {\n",
              "      let quickchartButtonEl =\n",
              "        document.querySelector('#df-3d7a5750-ff48-4607-9ef1-af98b9a1aae9 button');\n",
              "      quickchartButtonEl.style.display =\n",
              "        google.colab.kernel.accessAllowed ? 'block' : 'none';\n",
              "    })();\n",
              "  </script>\n",
              "</div>\n",
              "\n",
              "    </div>\n",
              "  </div>\n"
            ],
            "application/vnd.google.colaboratory.intrinsic+json": {
              "type": "dataframe",
              "variable_name": "df_balanced",
              "summary": "{\n  \"name\": \"df_balanced\",\n  \"rows\": 20000,\n  \"fields\": [\n    {\n      \"column\": \"address\",\n      \"properties\": {\n        \"dtype\": \"string\",\n        \"num_unique_values\": 13087,\n        \"samples\": [\n          \"\\u0412\\u043e\\u043b\\u0433\\u043e\\u0433\\u0440\\u0430\\u0434\\u0441\\u043a\\u0430\\u044f \\u043e\\u0431\\u043b\\u0430\\u0441\\u0442\\u044c, \\u0412\\u043e\\u043b\\u0436\\u0441\\u043a\\u0438\\u0439, \\u043f\\u0440\\u043e\\u0441\\u043f\\u0435\\u043a\\u0442 \\u0414\\u0440\\u0443\\u0436\\u0431\\u044b, 87\\u0413\",\n          \"\\u041e\\u0440\\u043b\\u043e\\u0432\\u0441\\u043a\\u0430\\u044f \\u043e\\u0431\\u043b\\u0430\\u0441\\u0442\\u044c, \\u0433\\u043e\\u0440\\u043e\\u0434\\u0441\\u043a\\u043e\\u0435 \\u043f\\u043e\\u0441\\u0435\\u043b\\u0435\\u043d\\u0438\\u0435 \\u0412\\u0435\\u0440\\u0445\\u043e\\u0432\\u044c\\u0435, \\u043f\\u0430\\u0440\\u043a \\u043a\\u0443\\u043b\\u044c\\u0442\\u0443\\u0440\\u044b \\u0438 \\u043e\\u0442\\u0434\\u044b\\u0445\\u0430 \\u0438\\u043c\\u0435\\u043d\\u0438 \\u042e.\\u0410. \\u0413\\u0430\\u0433\\u0430\\u0440\\u0438\\u043d\\u0430 \\u043f\\u043e\\u0441\\u0435\\u043b\\u043a\\u0430 \\u0412\\u0435\\u0440\\u0445\\u043e\\u0432\\u044c\\u0435\",\n          \"\\u041c\\u043e\\u0441\\u043a\\u0432\\u0430, \\u0443\\u043b\\u0438\\u0446\\u0430 \\u041c\\u0435\\u0442\\u0430\\u043b\\u043b\\u0443\\u0440\\u0433\\u043e\\u0432, 7/18\"\n        ],\n        \"semantic_type\": \"\",\n        \"description\": \"\"\n      }\n    },\n    {\n      \"column\": \"name_ru\",\n      \"properties\": {\n        \"dtype\": \"category\",\n        \"num_unique_values\": 9070,\n        \"samples\": [\n          \"LIFE-\\u041f\\u0440\\u0438\\u043c\\u043e\\u0440\\u0441\\u043a\\u0438\\u0439\",\n          \"\\u0413\\u0411\\u0423\\u0417 \\u0433\\u043e\\u0440\\u043e\\u0434\\u0441\\u043a\\u0430\\u044f \\u043f\\u043e\\u043b\\u0438\\u043a\\u043b\\u0438\\u043d\\u0438\\u043a\\u0430 \\u2116 212 \\u0444\\u0438\\u043b\\u0438\\u0430\\u043b \\u2116 3 (\\u0413\\u043e\\u0440\\u043e\\u0434\\u0441\\u043a\\u0430\\u044f \\u043f\\u043e\\u043b\\u0438\\u043a\\u043b\\u0438\\u043d\\u0438\\u043a\\u0430 \\u2116 197)\",\n          \"R14\"\n        ],\n        \"semantic_type\": \"\",\n        \"description\": \"\"\n      }\n    },\n    {\n      \"column\": \"rating\",\n      \"properties\": {\n        \"dtype\": \"number\",\n        \"std\": 1,\n        \"min\": 1,\n        \"max\": 5,\n        \"num_unique_values\": 5,\n        \"samples\": [\n          2,\n          5,\n          3\n        ],\n        \"semantic_type\": \"\",\n        \"description\": \"\"\n      }\n    },\n    {\n      \"column\": \"rubrics\",\n      \"properties\": {\n        \"dtype\": \"category\",\n        \"num_unique_values\": 306,\n        \"samples\": [\n          \"\\u041c\\u0430\\u0433\\u0430\\u0437\\u0438\\u043d \\u043c\\u044f\\u0441\\u0430, \\u043a\\u043e\\u043b\\u0431\\u0430\\u0441\",\n          \"\\u041c\\u0435\\u0434\\u0438\\u0446\\u0438\\u043d\\u0441\\u043a\\u0430\\u044f \\u043b\\u0430\\u0431\\u043e\\u0440\\u0430\\u0442\\u043e\\u0440\\u0438\\u044f;\\u0414\\u0438\\u0430\\u0433\\u043d\\u043e\\u0441\\u0442\\u0438\\u0447\\u0435\\u0441\\u043a\\u0438\\u0439 \\u0446\\u0435\\u043d\\u0442\\u0440\",\n          \"\\u0421\\u0443\\u0448\\u0438-\\u0431\\u0430\\u0440;\\u0414\\u043e\\u0441\\u0442\\u0430\\u0432\\u043a\\u0430 \\u0435\\u0434\\u044b \\u0438 \\u043e\\u0431\\u0435\\u0434\\u043e\\u0432;\\u041c\\u0430\\u0433\\u0430\\u0437\\u0438\\u043d \\u0441\\u0443\\u0448\\u0438 \\u0438 \\u0430\\u0437\\u0438\\u0430\\u0442\\u0441\\u043a\\u0438\\u0445 \\u043f\\u0440\\u043e\\u0434\\u0443\\u043a\\u0442\\u043e\\u0432\"\n        ],\n        \"semantic_type\": \"\",\n        \"description\": \"\"\n      }\n    },\n    {\n      \"column\": \"text\",\n      \"properties\": {\n        \"dtype\": \"string\",\n        \"num_unique_values\": 20000,\n        \"samples\": [\n          \"\\u0441\\u0435\\u0433\\u043e\\u0434\\u043d\\u044f \\u043f\\u0440\\u0438\\u0448\\u043b\\u0430 \\u0432 \\u043a\\u0438\\u043d\\u043e\\u0442\\u0435\\u0430\\u0442\\u0440 \\u0432\\u0437\\u044f\\u043b\\u0438 \\u0441 \\u0441\\u043e\\u0431\\u043e\\u0439 \\u0435\\u0434\\u0443 \\u0438\\u0437 \\u043c\\u0430\\u0433\\u0430\\u0437\\u0438\\u043d\\u0430\\u0431\\u0443\\u043c\\u0430\\u0433\\u0430 \\u0432 \\u0436\\u0435\\u043d\\u0441\\u043a\\u043e\\u043c \\u0442\\u0443\\u0430\\u043b\\u0435\\u0442\\u0435 \\u0433\\u0440\\u044f\\u0437\\u043d\\u0430\\u044f\\u043d\\u0435 \\u043f\\u0440\\u0438\\u0431\\u0440\\u0430\\u043d\\u043e \\u043d\\u0430 \\u0441\\u0442\\u043e\\u043b\\u0435\\u0441\\u043c\\u043e\\u0442\\u0440\\u0435\\u043b\\u0430 \\u0441\\u043e \\u0441\\u0442\\u043e\\u0440\\u043e\\u043d\\u044b 2\\u043e\\u0439 \\u0437\\u0430\\u043b \\u043e\\u0447\\u0435\\u043d\\u044c \\u043c\\u0430\\u043b\\u0435\\u043d\\u044c\\u043a\\u0438\\u0439\\u043c\\u043e\\u0436\\u043d\\u043e \\u0432\\u043e\\u043f\\u0440\\u043e\\u0441 \\u0433\\u0434\\u0435 \\u043a\\u043b\\u044e\\u0448\\u043a\\u0438 \\u0447\\u0442\\u043e\\u0431\\u044b \\u0438\\u0433\\u0440\\u0430\\u0442\\u044c \\u0432 \\u0445\\u043e\\u043a\\u043a\\u0435\\u0439\\u0435\\u0449 \\u0442\\u0443\\u0430\\u043b\\u0435\\u0442 \\u0432\\u043e\\u043d\\u044f\\u0435\\u0442  \\u043d\\u0430\\u0434\\u0435\\u044e\\u0441\\u044c \\u0432\\u0441 \\u043f\\u043e\\u043c\\u0435\\u043d\\u044f\\u0435\\u0442\\u0441\\u044f \\u043f\\u043e\\u0442\\u043e\\u043c\\u0443 \\u0447\\u0442\\u043e \\u0433\\u0438\\u0433\\u0438\\u0435\\u043d\\u0430 \\u043f\\u0440\\u0438 \\u0432\\u044b\\u0448\\u0435 \\u0432\\u0441\\u0435\\u0433\\u043e \\u043f\\u043e\\u0447\\u0435\\u043c\\u0443 \\u043f\\u043e\\u043f\\u043a\\u043e\\u0440\\u043d \\u0441\\u0442\\u043e\\u0438\\u0442 \\u0434\\u043e\\u0440\\u043e\\u0436\\u0435 \\u0431\\u0438\\u043b\\u0435\\u0442\\u0430\",\n          \"\\u0445\\u043e\\u0447\\u0443 \\u043f\\u043e\\u0434\\u0435\\u043b\\u0438\\u0442\\u044c\\u0441\\u044f \\u043f\\u0435\\u0447\\u0430\\u043b\\u044c\\u043d\\u044b\\u043c \\u043e\\u043f\\u044b\\u0442\\u043e\\u043c \\u0440\\u0435\\u043c\\u043e\\u043d\\u0442\\u0430 \\u0432 la d service \\u0438\\u043b\\u0438 \\u043a\\u0430\\u043a \\u043e\\u043d\\u0438 \\u0443\\u0433\\u0440\\u043e\\u0431\\u0438\\u043b\\u0438 \\u043c\\u043e\\u044e \\u043c\\u0430\\u0448\\u0438\\u043d\\u0443 \\u0441\\u0438\\u0442\\u0443\\u0430\\u0446\\u0438\\u044f \\u0441\\u043b\\u0435\\u0434\\u0443\\u044e\\u0449\\u0430\\u044f 1205 \\u044f \\u043e\\u0431\\u0440\\u0430\\u0442\\u0438\\u043b\\u0441\\u044f \\u043a \\u043d\\u0438\\u043c \\u0434\\u0430\\u0431\\u044b \\u043e\\u0442\\u0440\\u0435\\u043c\\u043e\\u043d\\u0442\\u0438\\u0440\\u043e\\u0432\\u0430\\u0442\\u044c \\u043f\\u043e\\u0434\\u0432\\u0435\\u0441\\u043a\\u0443 \\u043d\\u0430 \\u0441\\u0432\\u043e\\u0435\\u043c \\u0430\\u0432\\u0442\\u043e\\u043c\\u043e\\u0431\\u0438\\u043b\\u0435 \\u043e\\u043f\\u0440\\u0435\\u0434\\u0435\\u043b\\u0438\\u043b\\u0438\\u0441\\u044c \\u0441 \\u0444\\u0440\\u043e\\u043d\\u0442\\u043e\\u043c \\u0440\\u0430\\u0431\\u043e\\u0442 \\u043f\\u043e \\u0438\\u0442\\u043e\\u0433\\u0443 \\u043c\\u0435\\u043d\\u044f \\u0434\\u0438\\u043d\\u0430\\u043c\\u0438\\u043b\\u0438 \\u043d\\u0435\\u0434\\u0435\\u043b\\u044e\\u0445\\u043e\\u0442\\u044f \\u0440\\u0430\\u0431\\u043e\\u0442\\u044b \\u0442\\u0430\\u043c \\u043d\\u0430 \\u043d\\u0435\\u0441\\u043a\\u043e\\u043b\\u044c\\u043a\\u043e \\u0447\\u0430\\u0441\\u043e\\u0432 \\u043d\\u0443 \\u044d\\u0442\\u043e \\u0435\\u0449\\u0435 \\u043b\\u0430\\u0434\\u043d\\u043e \\u0437\\u0432\\u043e\\u043d\\u0438\\u0442 \\u043c\\u043d\\u0435 \\u0438\\u0437 \\u043c\\u0435\\u043d\\u0435\\u0434\\u0436\\u0435\\u0440\\u043a\\u043e\\u0442\\u043e\\u0440\\u044b\\u0439 \\u043a\\u0441\\u0442\\u0430\\u0442\\u0438 \\u043f\\u043e\\u0441\\u0442\\u043e\\u044f\\u043d\\u043d\\u043e \\u0437\\u0430\\u0431\\u044b\\u0432\\u0430\\u043b \\u0447\\u0442\\u043e \\u0438\\u043c\\u0435\\u043d\\u043d\\u043e \\u043d\\u0430\\u0434\\u043e \\u0447\\u0438\\u043d\\u0438\\u0442\\u044c \\u0432 \\u043c\\u0430\\u0448\\u0438\\u043d\\u0435 1905  \\u0438 \\u0433\\u043e\\u0432\\u043e\\u0440\\u0438\\u0442 \\u043c\\u043e\\u043b \\u043f\\u043e\\u0434\\u044a\\u0435\\u0437\\u0436\\u0430\\u0439 \\u0432 \\u043b\\u044e\\u0431\\u043e\\u0435 \\u0432\\u0440\\u0435\\u043c\\u044f \\u0434\\u043d\\u044f \\u0438 \\u0437\\u0430\\u0431\\u0438\\u0440\\u0430\\u0439 \\u043c\\u0430\\u0448\\u0438\\u043d\\u0443 \\u044f \\u043f\\u0440\\u0438\\u0435\\u0445\\u0430\\u043b \\u0438 \\u0432\\u0438\\u0436\\u0443 \\u0448\\u043e\\u043a\\u043a\\u043e\\u043d\\u0442\\u0435\\u043d\\u0442 \\u043a\\u0430\\u043a\\u043e\\u0439\\u0442\\u043e \\u043f\\u0430\\u0440\\u0435\\u043d\\u0435\\u043a \\u043f\\u043e\\u0445\\u043e\\u0434\\u0443 \\u0448\\u043a\\u043e\\u043b\\u044c\\u043d\\u0438\\u043a \\u043b\\u0435\\u0442 19\\u0442\\u0438 \\u0440\\u0430\\u0437\\u0431\\u0438\\u0440\\u0430\\u0435\\u0442 \\u043c\\u043e\\u044e \\u043c\\u0430\\u0448\\u0438\\u043d\\u0443 \\u043f\\u0440\\u044f\\u043c\\u043e \\u043d\\u0430 \\u0437\\u0435\\u043c\\u043b\\u0435 \\u043e\\u043a\\u043e\\u043b\\u043e \\u0441\\u0435\\u0440\\u0432\\u0438\\u0441\\u0430 \\u044f \\u0441\\u043f\\u0440\\u0430\\u0448\\u0438\\u0432\\u0430\\u044e \\u0430 \\u043c\\u0430\\u0448\\u0438\\u043d\\u0430 \\u0442\\u043e\\u0447\\u043d\\u043e \\u0433\\u043e\\u0442\\u043e\\u0432\\u0430 \\u043d\\u0435\\u0435 \\u0442\\u044b \\u043f\\u043e\\u0433\\u0443\\u043b\\u044f\\u0439 \\u0435\\u0449\\u0435 \\u043f\\u0430\\u0440\\u0443 \\u0447\\u0430\\u0441\\u0438\\u043a\\u043e\\u0432 \\u0438 \\u043f\\u043e\\u0442\\u043e\\u043c \\u043f\\u0440\\u0438\\u0445\\u043e\\u0434\\u0438 \\u043f\\u0430\\u0440\\u0443 \\u0447\\u0430\\u0441\\u0438\\u043a\\u043e\\u0432 \\u0430 \\u0432\\u0430\\u0441 \\u043d\\u0435 \\u0441\\u043c\\u0443\\u0449\\u0430\\u0435\\u0442 \\u0447\\u0442\\u043e \\u044f \\u0438\\u0437\\u0437\\u0430 \\u0433\\u043e\\u0440\\u043e\\u0434\\u0430 \\u043d\\u0430 \\u0442\\u0430\\u043a\\u0441\\u0438 \\u043a \\u0432\\u0430\\u043c \\u0435\\u0445\\u0430\\u043b \\u043f\\u0440\\u043e\\u0436\\u0434\\u0430\\u043b \\u0447\\u0435\\u0442\\u044b\\u0440\\u0435 \\u0447\\u0430\\u0441\\u0430 \\u043e \\u043c\\u043e\\u0435\\u043c \\u0441\\u0443\\u0449\\u0435\\u0441\\u0442\\u0432\\u043e\\u0432\\u0430\\u043d\\u0438\\u0438 \\u0437\\u0430\\u0431\\u044b\\u043b\\u0438 \\u043f\\u043e\\u0445\\u043e\\u0436\\u0435 \\u0441\\u043e\\u0432\\u0441\\u0435\\u043c \\u0441\\u043f\\u0440\\u043e\\u0441\\u0438\\u043b \\u0443 \\u0434\\u0438\\u0440\\u0435\\u043a\\u0442\\u043e\\u0440\\u0430 \\u0430 \\u043c\\u043e\\u0436\\u043d\\u043e \\u043b\\u0438 \\u043a\\u0430\\u043a\\u0442\\u043e \\u043f\\u043e\\u0431\\u044b\\u0441\\u0442\\u0440\\u0435\\u0435 \\u0437\\u0430\\u043a\\u043e\\u043d\\u0447\\u0438\\u0442\\u044c \\u0438 \\u043f\\u043e\\u0441\\u043b\\u0430\\u0442\\u044c \\u0435\\u0449\\u0435 \\u043c\\u0430\\u0441\\u0442\\u0435\\u0440\\u0430 \\u043d\\u0430 \\u043f\\u043e\\u0434\\u043c\\u043e\\u0433\\u0443 \\u043a \\u0431\\u0435\\u0434\\u043d\\u043e\\u043c\\u0443 \\u043f\\u0430\\u0440\\u043d\\u044e \\u043a\\u043e\\u0442\\u043e\\u0440\\u044b\\u0439 \\u043d\\u0430\\u0445\\u043e\\u0434\\u0443 \\u0433\\u0443\\u0433\\u043b\\u0438\\u043b \\u043a\\u0430\\u043a \\u0441\\u043e\\u0431\\u0438\\u0440\\u0430\\u0442\\u044c \\u043f\\u043e\\u0434\\u0432\\u0435\\u0441\\u043a\\u0443 \\u0432\\u043e\\u0442 \\u044d\\u0442\\u043e \\u0441\\u043f\\u0435\\u0446\\u044b \\u0434\\u0438\\u0440\\u0435\\u043a\\u0442\\u043e\\u0440 \\u043d\\u0443 \\u0434\\u0430 \\u0442\\u0443\\u0442 \\u0435\\u0449\\u0435 \\u043d\\u0430\\u0434\\u043e\\u043b\\u0433\\u043e \\u0435\\u0441\\u043b\\u0438 \\u0431\\u0443\\u0434\\u0443\\u0442 \\u0441\\u043f\\u0435\\u0448\\u0438\\u0442\\u044c\\u043d\\u0430\\u043a\\u043e\\u0441\\u044f\\u0447\\u0430\\u0442 \\u0445\\u043e\\u0440\\u043e\\u0448\\u043e \\u0436\\u0434\\u0435\\u043c \\u043a\\u043e\\u0433\\u0434\\u0430 \\u043c\\u0430\\u0448\\u0438\\u043d\\u0443 \\u043c\\u043d\\u0435 \\u043e\\u0442\\u0434\\u0430\\u043b\\u0438 \\u043f\\u043e\\u0441\\u043b\\u0435\\u0434\\u043e\\u0432\\u0430\\u043b\\u0430 \\u0442\\u0430\\u043a\\u0430\\u044f \\u043f\\u0440\\u0438\\u0441\\u043a\\u0430\\u0437\\u043a\\u0430 \\u043d\\u0443  \\u0435\\u0441\\u043b\\u0438 \\u0447\\u0442\\u043e\\u0442\\u043e \\u0431\\u0443\\u0434\\u0435\\u0442 \\u0441\\u0442\\u0443\\u0447\\u0430\\u0442\\u044c \\u044d\\u0442\\u043e \\u0436\\u0435 \\u0447\\u0435\\u043b\\u043e\\u0432\\u0435\\u0447\\u0435\\u0441\\u043a\\u0438\\u0439 \\u0444\\u0430\\u043a\\u0442\\u043e\\u0440  \\u0438\\u0442\\u043e\\u0433\\u043e \\u043d\\u0435 \\u0441\\u043e\\u0431\\u0440\\u0430\\u043b\\u0438 \\u043f\\u0440\\u0430\\u0432\\u0438\\u043b\\u044c\\u043d\\u043e \\u043d\\u0438 \\u043e\\u0434\\u043d\\u043e\\u0433\\u043e \\u044d\\u043b\\u0435\\u043c\\u0435\\u043d\\u0442\\u0430 \\u043f\\u043e\\u0434\\u0432\\u0435\\u0441\\u043a\\u0438\\u043d\\u0443 \\u0432\\u0440\\u043e\\u0434\\u0435 \\u0441\\u0442\\u0443\\u043f\\u0438\\u0447\\u043d\\u044b\\u0439 \\u043d\\u043e\\u0440\\u043c\\u0430\\u043b\\u044c\\u043d\\u043e \\u0442\\u043e\\u043b\\u044c\\u043a\\u043e \\u043f\\u043e\\u043c\\u044f\\u043b\\u0438 \\u043b\\u043e\\u043d\\u0436\\u0435\\u0440\\u043e\\u043d \\u043d\\u0430 \\u0434\\u043d\\u0438\\u0449\\u0435 \\u043f\\u043e\\u043f\\u0440\\u043e\\u0441\\u0438\\u043b \\u0434\\u043e\\u043a\\u0443\\u043f\\u0438\\u0442\\u044c \\u0438 \\u0434\\u043e\\u043b\\u0438\\u0442\\u044c \\u0430\\u043d\\u0442\\u0438\\u0444\\u0440\\u0438\\u0437 \\u043f\\u0440\\u0438 \\u0437\\u0430\\u043c\\u0435\\u043d\\u0435 \\u043f\\u0430\\u0442\\u0440\\u0443\\u0431\\u043a\\u043e\\u0432 \\u043d\\u0435 \\u0434\\u043e\\u043b\\u0438\\u043b\\u0438\\u043c\\u0430\\u0448\\u0438\\u043d\\u0430 \\u0433\\u0440\\u0435\\u0435\\u0442\\u0441\\u044f \\u0442\\u0435\\u043f\\u0435\\u0440\\u044c \\u043f\\u0435\\u0440\\u0435\\u0434\\u0435\\u043b\\u044b\\u0432\\u0430\\u043b \\u0432\\u0441\\u0435 \\u0432 \\u0434\\u0440\\u0443\\u0433\\u043e\\u043c \\u0441\\u0435\\u0440\\u0432\\u0438\\u0441\\u0435\\u0447\\u0442\\u043e\\u0442\\u043e \\u0441\\u0432\\u043e\\u0438\\u043c\\u0438 \\u0441\\u0438\\u043b\\u0430\\u043c\\u0438 \\u043f\\u043e\\u0442\\u0440\\u0430\\u0442\\u0438\\u043b \\u043a\\u0443\\u0447\\u0443 \\u0432\\u0440\\u0435\\u043c\\u0435\\u043d\\u0438 \\u0438 \\u0434\\u0435\\u043d\\u0435\\u0433 \\u0432\\u0441\\u0435 \\u0440\\u0430\\u0432\\u043d\\u043e \\u0432\\u0441\\u0435 \\u043f\\u0435\\u0440\\u0435\\u0434\\u0435\\u043b\\u0430\\u043b  \\u043b\\u044e\\u0434\\u0438 \\u043e\\u0441\\u0442\\u0435\\u0440\\u0435\\u0433\\u0430\\u0439\\u0442\\u0435\\u0441\\u044c la d service \\u0438\\u0445 \\u0434\\u0438\\u0432\\u0438\\u0437 \\u0441 \\u043b\\u044e\\u0431\\u043e\\u0432\\u044c\\u044e \\u043a \\u0432\\u0430\\u043c \\u0438 \\u0432\\u0430\\u0448\\u0435\\u043c\\u0443 \\u0430\\u0432\\u0442\\u043e\\u043c\\u043e\\u0431\\u0438\\u043b\\u044e \\u0432\\u043e\\u0442 \\u0442\\u0430\\u043a\\u0430\\u044f \\u043b\\u044e\\u0431\\u043e\\u0432\\u044c \\u043f\\u043e\\u043b\\u0443\\u0447\\u0430\\u0435\\u0442\\u0441\\u044f  ps \\u0430 \\u0447\\u0442\\u043e \\u0435\\u0441\\u043b\\u0438 \\u0431\\u044b \\u043e\\u043d\\u0438 \\u0442\\u043e\\u0440\\u043e\\u043c\\u0437\\u0430 \\u043c\\u043d\\u0435 \\u0447\\u0438\\u043d\\u0438\\u043b\\u0438 \\u0430 \\u0435\\u0449\\u0435 \\u043e\\u043d\\u0438 \\u0440\\u0435\\u043c\\u043e\\u043d\\u0442\\u0438\\u0440\\u0443\\u044e\\u0442 \\u043f\\u0430\\u0441\\u0441\\u0430\\u0436\\u0438\\u0440\\u0441\\u043a\\u0438\\u0435 \\u0430\\u0432\\u0442\\u043e\\u0431\\u0443\\u0441\\u044b \\u0441\\u0442\\u0440\\u0430\\u0448\\u043d\\u043e \\u0437\\u0430 \\u043f\\u0430\\u0441\\u0441\\u0430\\u0436\\u0438\\u0440\\u043e\\u0432\",\n          \"\\u043a\\u0430\\u043a \\u0438 \\u0432\\u0441\\u0435 \\u0442\\u0440\\u043a \\u0441\\u043e \\u043c\\u043d\\u043e\\u0436\\u0435\\u0441\\u0442\\u0432\\u043e\\u043c \\u0431\\u0443\\u0442\\u0438\\u043a\\u043e\\u0432 \\u0438 \\u043c\\u0430\\u0433\\u0430\\u0437\\u0438\\u043d\\u0430\\u043c\\u0438 \\u0438 \\u043a\\u0430\\u0444\\u0435\\u0442\\u0435\\u0440\\u0438\\u044f\\u043c\\u0438 \\u0441 \\u043d\\u0435\\u043f\\u043e\\u043c\\u0435\\u0440\\u043d\\u044b\\u043c\\u0438 \\u0446\\u0435\\u043d\\u0430\\u043c\\u0438 \\u0438 \\u0432\\u044b\\u0441\\u043e\\u043a\\u0438\\u043c \\u0433\\u043e\\u043d\\u043e\\u0440\\u043e\\u043c \\u0438 \\u0441\\u0430\\u043c\\u043e\\u043c\\u043d\\u0435\\u043d\\u0438\\u0435\\u043c \\u0430 \\u0442\\u0430\\u043a \\u043c\\u043e\\u0436\\u043d\\u043e \\u043d\\u0430\\u0439\\u0442\\u0438 \\u0434\\u043e\\u0431\\u0440\\u043e\\u0442\\u043d\\u044b\\u0439 \\u0442\\u043e\\u0432\\u0430\\u0440 \\u043f\\u043e \\u0434\\u0443\\u0448\\u0435 \\u0435\\u0441\\u043b\\u0438 \\u0435\\u0441\\u0442\\u044c \\u0434\\u043e\\u0441\\u0442\\u0430\\u0442\\u043e\\u0447\\u043d\\u043e \\u0434\\u0435\\u043d\\u0435\\u0433\"\n        ],\n        \"semantic_type\": \"\",\n        \"description\": \"\"\n      }\n    },\n    {\n      \"column\": \"review_length\",\n      \"properties\": {\n        \"dtype\": \"number\",\n        \"std\": 349,\n        \"min\": 12,\n        \"max\": 2992,\n        \"num_unique_values\": 1683,\n        \"samples\": [\n          1180,\n          1370,\n          2224\n        ],\n        \"semantic_type\": \"\",\n        \"description\": \"\"\n      }\n    }\n  ]\n}"
            }
          },
          "metadata": {},
          "execution_count": 40
        }
      ]
    },
    {
      "cell_type": "code",
      "source": [
        "sns.histplot(df_balanced['rating'])"
      ],
      "metadata": {
        "colab": {
          "base_uri": "https://localhost:8080/",
          "height": 466
        },
        "id": "g1kwTlJgi-Sa",
        "outputId": "602361de-fe8c-4452-c6c9-03416ca9b12c"
      },
      "execution_count": 42,
      "outputs": [
        {
          "output_type": "execute_result",
          "data": {
            "text/plain": [
              "<Axes: xlabel='rating', ylabel='Count'>"
            ]
          },
          "metadata": {},
          "execution_count": 42
        },
        {
          "output_type": "display_data",
          "data": {
            "text/plain": [
              "<Figure size 640x480 with 1 Axes>"
            ],
            "image/png": "[encoded data removed]"
          },
          "metadata": {}
        }
      ]
    },
    {
      "cell_type": "code",
      "source": [
        "output_file = '/content/drive/My Drive/dataset_balanced.tsv'  # Путь к файлу на Google Drive\n",
        "\n",
        "# Сохраняем обрезанный DataFrame в файл\n",
        "df_balanced.to_csv(output_file, sep='\\t', index=False)\n",
        "\n",
        "print(f\"Файл сохранен по пути: {output_file}\")"
      ],
      "metadata": {
        "colab": {
          "base_uri": "https://localhost:8080/"
        },
        "id": "kk4-TlL3jMgL",
        "outputId": "b54a06e4-4787-460f-8040-23880b21bf2c"
      },
      "execution_count": 43,
      "outputs": [
        {
          "output_type": "stream",
          "name": "stdout",
          "text": [
            "Файл сохранен по пути: /content/drive/My Drive/dataset_balanced.tsv\n"
          ]
        }
      ]
    },
    {
      "cell_type": "code",
      "source": [
        "import pandas as pd\n",
        "\n",
        "# Путь к файлу на Google Drive\n",
        "input_file = '/content/drive/My Drive/dataset_balanced.tsv'\n",
        "\n",
        "# Читаем TSV файл\n",
        "df = pd.read_csv(input_file, sep='\\t')\n",
        "\n",
        "# Проверяем информацию о данных\n",
        "df.info()\n"
      ],
      "metadata": {
        "colab": {
          "base_uri": "https://localhost:8080/"
        },
        "id": "C6BmU4qsnkyD",
        "outputId": "25ee78cd-4ede-4bec-e072-4611c8275873"
      },
      "execution_count": 5,
      "outputs": [
        {
          "output_type": "stream",
          "name": "stdout",
          "text": [
            "<class 'pandas.core.frame.DataFrame'>\n",
            "RangeIndex: 20000 entries, 0 to 19999\n",
            "Data columns (total 6 columns):\n",
            " #   Column         Non-Null Count  Dtype \n",
            "---  ------         --------------  ----- \n",
            " 0   address        20000 non-null  object\n",
            " 1   name_ru        20000 non-null  object\n",
            " 2   rating         20000 non-null  int64 \n",
            " 3   rubrics        20000 non-null  object\n",
            " 4   text           20000 non-null  object\n",
            " 5   review_length  20000 non-null  int64 \n",
            "dtypes: int64(2), object(4)\n",
            "memory usage: 937.6+ KB\n"
          ]
        }
      ]
    },
    {
      "cell_type": "markdown",
      "source": [
        "Когда мы обучаем модель, особенно на задачах, связанных с генерацией текста или классификацией, очень важно, чтобы данные имели понятную структуру. Если данные представлены в свободном формате (например, просто текст), модель будет \"случайным образом\" пытаться понять, какие части текста связаны с чем. Это может быть сложнее для обучения, чем когда данные имеют четкую организацию.\n",
        "\n",
        "Формат, в котором каждый отзыв начинается с категории (например, \"Restaurant\") и рейтинга (например, \"Rating: 5\"), помогает модели понять, какой контекст она должна генерировать или классифицировать.\n",
        "\n",
        "Например:\n",
        "\n",
        "\"Category: Restaurants. Rating: 5. Review: ...\"\n",
        "\n",
        "Этот формат делает очевидным, что для ресторана с рейтингом 5 должен быть соответствующий отзыв, и модель легко будет искать эти паттерны, что повысит качество предсказаний."
      ],
      "metadata": {
        "id": "eLjviXIol1H9"
      }
    },
    {
      "cell_type": "code",
      "source": [
        "def structure_review_data(row):\n",
        "    return f\"Category - {row['rubrics']}: Rating is {row['rating']}. Review Content: {row['text']}\"\n",
        "\n",
        "# Применяем функцию и создаем новый столбец с отформатированными отзывами\n",
        "df['formatted_review'] = df.apply(structure_review_data, axis=1)\n",
        "\n",
        "# Проверяем результат\n",
        "df[['rubrics', 'rating', 'text', 'formatted_review']].head()\n"
      ],
      "metadata": {
        "colab": {
          "base_uri": "https://localhost:8080/",
          "height": 293
        },
        "id": "ndaidfGvlOh5",
        "outputId": "5c457c73-39cf-4c03-c0ef-a2bf0d7c562b"
      },
      "execution_count": 6,
      "outputs": [
        {
          "output_type": "execute_result",
          "data": {
            "text/plain": [
              "                                      rubrics  rating  \\\n",
              "0                                 Фитнес-клуб       1   \n",
              "1  Кафе;Быстрое питание;Доставка еды и обедов       1   \n",
              "2                                   Автомойка       1   \n",
              "3                              Жилой комплекс       1   \n",
              "4                             Быстрое питание       1   \n",
              "\n",
              "                                                text  \\\n",
              "0  не знаю смутят ли когото данные правила но я б...   \n",
              "1  1 доставка очень долгая на рекламной брошюре н...   \n",
              "2  раньше было нормально и мыли хорошо но больше ...   \n",
              "3  когда выбирали квартиру атом был в приоритете ...   \n",
              "4  заказали фобо и томям короче больше не приду к...   \n",
              "\n",
              "                                    formatted_review  \n",
              "0  Category - Фитнес-клуб: Rating is 1. Review Co...  \n",
              "1  Category - Кафе;Быстрое питание;Доставка еды и...  \n",
              "2  Category - Автомойка: Rating is 1. Review Cont...  \n",
              "3  Category - Жилой комплекс: Rating is 1. Review...  \n",
              "4  Category - Быстрое питание: Rating is 1. Revie...  "
            ],
            "text/html": [
              "\n",
              "  <div id=\"df-82cb509d-45e4-44fb-ba9d-a3e06da009ce\" class=\"colab-df-container\">\n",
              "    <div>\n",
              "<style scoped>\n",
              "    .dataframe tbody tr th:only-of-type {\n",
              "        vertical-align: middle;\n",
              "    }\n",
              "\n",
              "    .dataframe tbody tr th {\n",
              "        vertical-align: top;\n",
              "    }\n",
              "\n",
              "    .dataframe thead th {\n",
              "        text-align: right;\n",
              "    }\n",
              "</style>\n",
              "<table border=\"1\" class=\"dataframe\">\n",
              "  <thead>\n",
              "    <tr style=\"text-align: right;\">\n",
              "      <th></th>\n",
              "      <th>rubrics</th>\n",
              "      <th>rating</th>\n",
              "      <th>text</th>\n",
              "      <th>formatted_review</th>\n",
              "    </tr>\n",
              "  </thead>\n",
              "  <tbody>\n",
              "    <tr>\n",
              "      <th>0</th>\n",
              "      <td>Фитнес-клуб</td>\n",
              "      <td>1</td>\n",
              "      <td>не знаю смутят ли когото данные правила но я б...</td>\n",
              "      <td>Category - Фитнес-клуб: Rating is 1. Review Co...</td>\n",
              "    </tr>\n",
              "    <tr>\n",
              "      <th>1</th>\n",
              "      <td>Кафе;Быстрое питание;Доставка еды и обедов</td>\n",
              "      <td>1</td>\n",
              "      <td>1 доставка очень долгая на рекламной брошюре н...</td>\n",
              "      <td>Category - Кафе;Быстрое питание;Доставка еды и...</td>\n",
              "    </tr>\n",
              "    <tr>\n",
              "      <th>2</th>\n",
              "      <td>Автомойка</td>\n",
              "      <td>1</td>\n",
              "      <td>раньше было нормально и мыли хорошо но больше ...</td>\n",
              "      <td>Category - Автомойка: Rating is 1. Review Cont...</td>\n",
              "    </tr>\n",
              "    <tr>\n",
              "      <th>3</th>\n",
              "      <td>Жилой комплекс</td>\n",
              "      <td>1</td>\n",
              "      <td>когда выбирали квартиру атом был в приоритете ...</td>\n",
              "      <td>Category - Жилой комплекс: Rating is 1. Review...</td>\n",
              "    </tr>\n",
              "    <tr>\n",
              "      <th>4</th>\n",
              "      <td>Быстрое питание</td>\n",
              "      <td>1</td>\n",
              "      <td>заказали фобо и томям короче больше не приду к...</td>\n",
              "      <td>Category - Быстрое питание: Rating is 1. Revie...</td>\n",
              "    </tr>\n",
              "  </tbody>\n",
              "</table>\n",
              "</div>\n",
              "    <div class=\"colab-df-buttons\">\n",
              "\n",
              "  <div class=\"colab-df-container\">\n",
              "    <button class=\"colab-df-convert\" onclick=\"convertToInteractive('df-82cb509d-45e4-44fb-ba9d-a3e06da009ce')\"\n",
              "            title=\"Convert this dataframe to an interactive table.\"\n",
              "            style=\"display:none;\">\n",
              "\n",
              "  <svg xmlns=\"http://www.w3.org/2000/svg\" height=\"24px\" viewBox=\"0 -960 960 960\">\n",
              "    <path d=\"M120-120v-720h720v720H120Zm60-500h600v-160H180v160Zm220 220h160v-160H400v160Zm0 220h160v-160H400v160ZM180-400h160v-160H180v160Zm440 0h160v-160H620v160ZM180-180h160v-160H180v160Zm440 0h160v-160H620v160Z\"/>\n",
              "  </svg>\n",
              "    </button>\n",
              "\n",
              "  <style>\n",
              "    .colab-df-container {\n",
              "      display:flex;\n",
              "      gap: 12px;\n",
              "    }\n",
              "\n",
              "    .colab-df-convert {\n",
              "      background-color: #E8F0FE;\n",
              "      border: none;\n",
              "      border-radius: 50%;\n",
              "      cursor: pointer;\n",
              "      display: none;\n",
              "      fill: #1967D2;\n",
              "      height: 32px;\n",
              "      padding: 0 0 0 0;\n",
              "      width: 32px;\n",
              "    }\n",
              "\n",
              "    .colab-df-convert:hover {\n",
              "      background-color: #E2EBFA;\n",
              "      box-shadow: 0px 1px 2px rgba(60, 64, 67, 0.3), 0px 1px 3px 1px rgba(60, 64, 67, 0.15);\n",
              "      fill: #174EA6;\n",
              "    }\n",
              "\n",
              "    .colab-df-buttons div {\n",
              "      margin-bottom: 4px;\n",
              "    }\n",
              "\n",
              "    [theme=dark] .colab-df-convert {\n",
              "      background-color: #3B4455;\n",
              "      fill: #D2E3FC;\n",
              "    }\n",
              "\n",
              "    [theme=dark] .colab-df-convert:hover {\n",
              "      background-color: #434B5C;\n",
              "      box-shadow: 0px 1px 3px 1px rgba(0, 0, 0, 0.15);\n",
              "      filter: drop-shadow(0px 1px 2px rgba(0, 0, 0, 0.3));\n",
              "      fill: #FFFFFF;\n",
              "    }\n",
              "  </style>\n",
              "\n",
              "    <script>\n",
              "      const buttonEl =\n",
              "        document.querySelector('#df-82cb509d-45e4-44fb-ba9d-a3e06da009ce button.colab-df-convert');\n",
              "      buttonEl.style.display =\n",
              "        google.colab.kernel.accessAllowed ? 'block' : 'none';\n",
              "\n",
              "      async function convertToInteractive(key) {\n",
              "        const element = document.querySelector('#df-82cb509d-45e4-44fb-ba9d-a3e06da009ce');\n",
              "        const dataTable =\n",
              "          await google.colab.kernel.invokeFunction('convertToInteractive',\n",
              "                                                    [key], {});\n",
              "        if (!dataTable) return;\n",
              "\n",
              "        const docLinkHtml = 'Like what you see? Visit the ' +\n",
              "          '<a target=\"_blank\" href=https://colab.research.google.com/notebooks/data_table.ipynb>data table notebook</a>'\n",
              "          + ' to learn more about interactive tables.';\n",
              "        element.innerHTML = '';\n",
              "        dataTable['output_type'] = 'display_data';\n",
              "        await google.colab.output.renderOutput(dataTable, element);\n",
              "        const docLink = document.createElement('div');\n",
              "        docLink.innerHTML = docLinkHtml;\n",
              "        element.appendChild(docLink);\n",
              "      }\n",
              "    </script>\n",
              "  </div>\n",
              "\n",
              "\n",
              "<div id=\"df-8721c124-8507-4e06-8ce5-f13ec3dcef09\">\n",
              "  <button class=\"colab-df-quickchart\" onclick=\"quickchart('df-8721c124-8507-4e06-8ce5-f13ec3dcef09')\"\n",
              "            title=\"Suggest charts\"\n",
              "            style=\"display:none;\">\n",
              "\n",
              "<svg xmlns=\"http://www.w3.org/2000/svg\" height=\"24px\"viewBox=\"0 0 24 24\"\n",
              "     width=\"24px\">\n",
              "    <g>\n",
              "        <path d=\"M19 3H5c-1.1 0-2 .9-2 2v14c0 1.1.9 2 2 2h14c1.1 0 2-.9 2-2V5c0-1.1-.9-2-2-2zM9 17H7v-7h2v7zm4 0h-2V7h2v10zm4 0h-2v-4h2v4z\"/>\n",
              "    </g>\n",
              "</svg>\n",
              "  </button>\n",
              "\n",
              "<style>\n",
              "  .colab-df-quickchart {\n",
              "      --bg-color: #E8F0FE;\n",
              "      --fill-color: #1967D2;\n",
              "      --hover-bg-color: #E2EBFA;\n",
              "      --hover-fill-color: #174EA6;\n",
              "      --disabled-fill-color: #AAA;\n",
              "      --disabled-bg-color: #DDD;\n",
              "  }\n",
              "\n",
              "  [theme=dark] .colab-df-quickchart {\n",
              "      --bg-color: #3B4455;\n",
              "      --fill-color: #D2E3FC;\n",
              "      --hover-bg-color: #434B5C;\n",
              "      --hover-fill-color: #FFFFFF;\n",
              "      --disabled-bg-color: #3B4455;\n",
              "      --disabled-fill-color: #666;\n",
              "  }\n",
              "\n",
              "  .colab-df-quickchart {\n",
              "    background-color: var(--bg-color);\n",
              "    border: none;\n",
              "    border-radius: 50%;\n",
              "    cursor: pointer;\n",
              "    display: none;\n",
              "    fill: var(--fill-color);\n",
              "    height: 32px;\n",
              "    padding: 0;\n",
              "    width: 32px;\n",
              "  }\n",
              "\n",
              "  .colab-df-quickchart:hover {\n",
              "    background-color: var(--hover-bg-color);\n",
              "    box-shadow: 0 1px 2px rgba(60, 64, 67, 0.3), 0 1px 3px 1px rgba(60, 64, 67, 0.15);\n",
              "    fill: var(--button-hover-fill-color);\n",
              "  }\n",
              "\n",
              "  .colab-df-quickchart-complete:disabled,\n",
              "  .colab-df-quickchart-complete:disabled:hover {\n",
              "    background-color: var(--disabled-bg-color);\n",
              "    fill: var(--disabled-fill-color);\n",
              "    box-shadow: none;\n",
              "  }\n",
              "\n",
              "  .colab-df-spinner {\n",
              "    border: 2px solid var(--fill-color);\n",
              "    border-color: transparent;\n",
              "    border-bottom-color: var(--fill-color);\n",
              "    animation:\n",
              "      spin 1s steps(1) infinite;\n",
              "  }\n",
              "\n",
              "  @keyframes spin {\n",
              "    0% {\n",
              "      border-color: transparent;\n",
              "      border-bottom-color: var(--fill-color);\n",
              "      border-left-color: var(--fill-color);\n",
              "    }\n",
              "    20% {\n",
              "      border-color: transparent;\n",
              "      border-left-color: var(--fill-color);\n",
              "      border-top-color: var(--fill-color);\n",
              "    }\n",
              "    30% {\n",
              "      border-color: transparent;\n",
              "      border-left-color: var(--fill-color);\n",
              "      border-top-color: var(--fill-color);\n",
              "      border-right-color: var(--fill-color);\n",
              "    }\n",
              "    40% {\n",
              "      border-color: transparent;\n",
              "      border-right-color: var(--fill-color);\n",
              "      border-top-color: var(--fill-color);\n",
              "    }\n",
              "    60% {\n",
              "      border-color: transparent;\n",
              "      border-right-color: var(--fill-color);\n",
              "    }\n",
              "    80% {\n",
              "      border-color: transparent;\n",
              "      border-right-color: var(--fill-color);\n",
              "      border-bottom-color: var(--fill-color);\n",
              "    }\n",
              "    90% {\n",
              "      border-color: transparent;\n",
              "      border-bottom-color: var(--fill-color);\n",
              "    }\n",
              "  }\n",
              "</style>\n",
              "\n",
              "  <script>\n",
              "    async function quickchart(key) {\n",
              "      const quickchartButtonEl =\n",
              "        document.querySelector('#' + key + ' button');\n",
              "      quickchartButtonEl.disabled = true;  // To prevent multiple clicks.\n",
              "      quickchartButtonEl.classList.add('colab-df-spinner');\n",
              "      try {\n",
              "        const charts = await google.colab.kernel.invokeFunction(\n",
              "            'suggestCharts', [key], {});\n",
              "      } catch (error) {\n",
              "        console.error('Error during call to suggestCharts:', error);\n",
              "      }\n",
              "      quickchartButtonEl.classList.remove('colab-df-spinner');\n",
              "      quickchartButtonEl.classList.add('colab-df-quickchart-complete');\n",
              "    }\n",
              "    (() => {\n",
              "      let quickchartButtonEl =\n",
              "        document.querySelector('#df-8721c124-8507-4e06-8ce5-f13ec3dcef09 button');\n",
              "      quickchartButtonEl.style.display =\n",
              "        google.colab.kernel.accessAllowed ? 'block' : 'none';\n",
              "    })();\n",
              "  </script>\n",
              "</div>\n",
              "\n",
              "    </div>\n",
              "  </div>\n"
            ],
            "application/vnd.google.colaboratory.intrinsic+json": {
              "type": "dataframe",
              "summary": "{\n  \"name\": \"df[['rubrics', 'rating', 'text', 'formatted_review']]\",\n  \"rows\": 5,\n  \"fields\": [\n    {\n      \"column\": \"rubrics\",\n      \"properties\": {\n        \"dtype\": \"string\",\n        \"num_unique_values\": 5,\n        \"samples\": [\n          \"\\u041a\\u0430\\u0444\\u0435;\\u0411\\u044b\\u0441\\u0442\\u0440\\u043e\\u0435 \\u043f\\u0438\\u0442\\u0430\\u043d\\u0438\\u0435;\\u0414\\u043e\\u0441\\u0442\\u0430\\u0432\\u043a\\u0430 \\u0435\\u0434\\u044b \\u0438 \\u043e\\u0431\\u0435\\u0434\\u043e\\u0432\",\n          \"\\u0411\\u044b\\u0441\\u0442\\u0440\\u043e\\u0435 \\u043f\\u0438\\u0442\\u0430\\u043d\\u0438\\u0435\",\n          \"\\u0410\\u0432\\u0442\\u043e\\u043c\\u043e\\u0439\\u043a\\u0430\"\n        ],\n        \"semantic_type\": \"\",\n        \"description\": \"\"\n      }\n    },\n    {\n      \"column\": \"rating\",\n      \"properties\": {\n        \"dtype\": \"number\",\n        \"std\": 0,\n        \"min\": 1,\n        \"max\": 1,\n        \"num_unique_values\": 1,\n        \"samples\": [\n          1\n        ],\n        \"semantic_type\": \"\",\n        \"description\": \"\"\n      }\n    },\n    {\n      \"column\": \"text\",\n      \"properties\": {\n        \"dtype\": \"string\",\n        \"num_unique_values\": 5,\n        \"samples\": [\n          \"1 \\u0434\\u043e\\u0441\\u0442\\u0430\\u0432\\u043a\\u0430 \\u043e\\u0447\\u0435\\u043d\\u044c \\u0434\\u043e\\u043b\\u0433\\u0430\\u044f \\u043d\\u0430 \\u0440\\u0435\\u043a\\u043b\\u0430\\u043c\\u043d\\u043e\\u0439 \\u0431\\u0440\\u043e\\u0448\\u044e\\u0440\\u0435 \\u043d\\u0430\\u043f\\u0438\\u0441\\u0430\\u043d\\u043e \\u043e\\u0442  500 \\u0440 \\u0434\\u043e\\u0441\\u0442\\u0430\\u0432\\u043a\\u0430 \\u0431\\u0435\\u0441\\u043f\\u043b\\u0430\\u0442\\u043d\\u043e \\u0430 \\u043f\\u043e \\u0444\\u0430\\u043a\\u0442\\u0443 \\u0437\\u0430\\u043f\\u043b\\u0430\\u0442\\u0438\\u043b\\u0438 100 \\u0440 \\u0437\\u0430 \\u0434\\u043e\\u0441\\u0442\\u0430\\u0432\\u043a\\u0443 \\u0447\\u0435\\u043a \\u0431\\u044b\\u043b \\u043d\\u0430 577\\u0440 2 \\u0434\\u043e\\u043b\\u0433\\u043e \\u043f\\u043b\\u0435\\u0432\\u0430\\u043b\\u0438\\u0441\\u044c \\u043e\\u0442 \\u043d\\u0430\\u0433\\u0430\\u0440\\u0430 \\u043a\\u043e\\u0442\\u043e\\u0440\\u044b\\u0439 \\u0431\\u044b\\u043b \\u043d\\u0430 \\u0441\\u043a\\u043e\\u0432\\u043e\\u0440\\u043e\\u0434\\u043a\\u0435 \\u043f\\u043e\\u0434\\u043d\\u043e\\u0441\\u0430 \\u0441 \\u043c\\u044f\\u0441\\u043e\\u043c \\u0445\\u0440\\u0443\\u0441\\u0442 \\u043d\\u0430 \\u0437\\u0443\\u0431\\u0430\\u0445 \\u043d\\u0435 \\u043f\\u0440\\u0438\\u044f\\u0442\\u0435\\u043d  \\u0438\\u0441\\u043f\\u043e\\u0440\\u0447\\u0435\\u043d\\u043d\\u043e\\u0435 \\u043c\\u043d\\u0435\\u043d\\u0438\\u0435 \\u043e\\u0442 \\u0432\\u0430\\u0448\\u0435\\u0433\\u043e \\u0437\\u0430\\u0432\\u0435\\u0434\\u0435\\u043d\\u0438\\u044f \"\n        ],\n        \"semantic_type\": \"\",\n        \"description\": \"\"\n      }\n    },\n    {\n      \"column\": \"formatted_review\",\n      \"properties\": {\n        \"dtype\": \"string\",\n        \"num_unique_values\": 5,\n        \"samples\": [\n          \"Category - \\u041a\\u0430\\u0444\\u0435;\\u0411\\u044b\\u0441\\u0442\\u0440\\u043e\\u0435 \\u043f\\u0438\\u0442\\u0430\\u043d\\u0438\\u0435;\\u0414\\u043e\\u0441\\u0442\\u0430\\u0432\\u043a\\u0430 \\u0435\\u0434\\u044b \\u0438 \\u043e\\u0431\\u0435\\u0434\\u043e\\u0432: Rating is 1. Review Content: 1 \\u0434\\u043e\\u0441\\u0442\\u0430\\u0432\\u043a\\u0430 \\u043e\\u0447\\u0435\\u043d\\u044c \\u0434\\u043e\\u043b\\u0433\\u0430\\u044f \\u043d\\u0430 \\u0440\\u0435\\u043a\\u043b\\u0430\\u043c\\u043d\\u043e\\u0439 \\u0431\\u0440\\u043e\\u0448\\u044e\\u0440\\u0435 \\u043d\\u0430\\u043f\\u0438\\u0441\\u0430\\u043d\\u043e \\u043e\\u0442  500 \\u0440 \\u0434\\u043e\\u0441\\u0442\\u0430\\u0432\\u043a\\u0430 \\u0431\\u0435\\u0441\\u043f\\u043b\\u0430\\u0442\\u043d\\u043e \\u0430 \\u043f\\u043e \\u0444\\u0430\\u043a\\u0442\\u0443 \\u0437\\u0430\\u043f\\u043b\\u0430\\u0442\\u0438\\u043b\\u0438 100 \\u0440 \\u0437\\u0430 \\u0434\\u043e\\u0441\\u0442\\u0430\\u0432\\u043a\\u0443 \\u0447\\u0435\\u043a \\u0431\\u044b\\u043b \\u043d\\u0430 577\\u0440 2 \\u0434\\u043e\\u043b\\u0433\\u043e \\u043f\\u043b\\u0435\\u0432\\u0430\\u043b\\u0438\\u0441\\u044c \\u043e\\u0442 \\u043d\\u0430\\u0433\\u0430\\u0440\\u0430 \\u043a\\u043e\\u0442\\u043e\\u0440\\u044b\\u0439 \\u0431\\u044b\\u043b \\u043d\\u0430 \\u0441\\u043a\\u043e\\u0432\\u043e\\u0440\\u043e\\u0434\\u043a\\u0435 \\u043f\\u043e\\u0434\\u043d\\u043e\\u0441\\u0430 \\u0441 \\u043c\\u044f\\u0441\\u043e\\u043c \\u0445\\u0440\\u0443\\u0441\\u0442 \\u043d\\u0430 \\u0437\\u0443\\u0431\\u0430\\u0445 \\u043d\\u0435 \\u043f\\u0440\\u0438\\u044f\\u0442\\u0435\\u043d  \\u0438\\u0441\\u043f\\u043e\\u0440\\u0447\\u0435\\u043d\\u043d\\u043e\\u0435 \\u043c\\u043d\\u0435\\u043d\\u0438\\u0435 \\u043e\\u0442 \\u0432\\u0430\\u0448\\u0435\\u0433\\u043e \\u0437\\u0430\\u0432\\u0435\\u0434\\u0435\\u043d\\u0438\\u044f \"\n        ],\n        \"semantic_type\": \"\",\n        \"description\": \"\"\n      }\n    }\n  ]\n}"
            }
          },
          "metadata": {},
          "execution_count": 6
        }
      ]
    },
    {
      "cell_type": "markdown",
      "source": [
        "Токенизация: Очень важный шаг перед подачей данных в модель, так как модели не работают с необработанным текстом, а только с числами (токенами).\n",
        "Батчирование: Обработка данных батчами ускоряет процесс, так как модель обрабатывает несколько примеров за один раз. Это особенно важно при работе с большими датасетами."
      ],
      "metadata": {
        "id": "Xo8hWnWWqAAW"
      }
    },
    {
      "cell_type": "code",
      "source": [
        "tokenizer = GPT2TokenizerFast.from_pretrained(\"ai-forever/rugpt3small_based_on_gpt2\")\n",
        "\n",
        "tokenizer.pad_token = tokenizer.eos_token\n",
        "\n",
        "# Токенизация данных\n",
        "def tokenize_function(texts):\n",
        "    return tokenizer(texts, truncation=True, padding=\"max_length\", max_length=512)\n",
        "\n",
        "# Пример применения\n",
        "df['tokenized'] = df['formatted_review'].apply(tokenize_function)"
      ],
      "metadata": {
        "colab": {
          "base_uri": "https://localhost:8080/",
          "height": 269,
          "referenced_widgets": [
            "50d0e2f85be8408f91e556b2e5200f34",
            "b9c611287f32440ebb1e5254401e1480",
            "3ad865f6cad54d88bab26afe822e45a9",
            "d07f6ce9a71c4e3aa6366b3f65f454e4",
            "50af82d859304fb2bb65b0874ddc6dc5",
            "0c030481748a4cfb9f595e8d80d62a30",
            "c4c482efaf534684a005f6441c19bc37",
            "444ce30187de4f08b7a96e5e0541eae4",
            "52f3c0eae0c441f3a7d6665efe35a9eb",
            "d626a918130a4383acd7460b6031189a",
            "adebdca2acc849788acb0d22d8d0863f",
            "29c0603bb9c848739d9f0d1d7ee13d9e",
            "6ade3a16ee8b403aa3975d2062b48eae",
            "641df968a5fb45cdbbae1aaf088f8f7e",
            "86770aa8a9844f70bbc673ebc7024e39",
            "8730425f34dc4f27b0181e1d14461144",
            "3936000a8ee5438fba9512557d8d6d0a",
            "cbc63f8708af46f9a991f5b009ef624b",
            "7101faa2182448ae83901f093340cd18",
            "05a908efde5240db92e5d4c1781d5355",
            "47c5dac69d9448a58f180782ebe1560c",
            "ec4907fa2e264ed5874b6f99d81ba6b7",
            "ac3057cbee1d4514aaddee44f4e24ecc",
            "43a54a4a5c294249a53970d7ad37d8a1",
            "bce1ca3bf8014b32afcf4beab9be1be5",
            "2a439c98dad34d61a6f0d14c3190161f",
            "e71c27efbcd246698378e4fd594b644c",
            "485c1e2be0e74000a9cbb9e82e666d9f",
            "1f18951ef0774381abfa7516bd731bfa",
            "c51daf33ba614dada57aef3ffb4ea79a",
            "81851e4851d74a4ba7b98f535b584c20",
            "579b4e94a7f841fa91e1613be5c18432",
            "f55b1caf131647efa4f1f12648178198",
            "c4b1ee27674c48c1a727b0ef67355bae",
            "c28e240ef24543ba9a4bfb5c4c038919",
            "225bcd83386c48619f93d7214c6a8561",
            "f1ec1271e8934b3387111da93c666815",
            "daf2d73f5dcb431ba2d8b9b01f885cb0",
            "13984cd4fdaf41f3ba9f91d7f5832b6c",
            "11863d3270284e26a1799f83d2a401a9",
            "09995b327aa1427ab0591be0da0c939e",
            "983224c3d084497ca8f2104ee2c34195",
            "602f20dd96a544fb8c280fa6b5666d03",
            "54ca225bd4ed4202b87eea7155c975ca"
          ]
        },
        "id": "zyzOu2Pqm3G2",
        "outputId": "5be7fda9-d5bd-4ec3-9915-a6f22fac3e09"
      },
      "execution_count": 7,
      "outputs": [
        {
          "output_type": "stream",
          "name": "stderr",
          "text": [
            "/usr/local/lib/python3.11/dist-packages/huggingface_hub/utils/_auth.py:94: UserWarning: \n",
            "The secret `HF_TOKEN` does not exist in your Colab secrets.\n",
            "To authenticate with the Hugging Face Hub, create a token in your settings tab (https://huggingface.co/settings/tokens), set it as secret in your Google Colab and restart your session.\n",
            "You will be able to reuse this secret in all of your notebooks.\n",
            "Please note that authentication is recommended but still optional to access public models or datasets.\n",
            "  warnings.warn(\n"
          ]
        },
        {
          "output_type": "display_data",
          "data": {
            "text/plain": [
              "tokenizer_config.json:   0%|          | 0.00/1.25k [00:00<?, ?B/s]"
            ],
            "application/vnd.jupyter.widget-view+json": {
              "version_major": 2,
              "version_minor": 0,
              "model_id": "50d0e2f85be8408f91e556b2e5200f34"
            }
          },
          "metadata": {}
        },
        {
          "output_type": "display_data",
          "data": {
            "text/plain": [
              "vocab.json:   0%|          | 0.00/1.71M [00:00<?, ?B/s]"
            ],
            "application/vnd.jupyter.widget-view+json": {
              "version_major": 2,
              "version_minor": 0,
              "model_id": "29c0603bb9c848739d9f0d1d7ee13d9e"
            }
          },
          "metadata": {}
        },
        {
          "output_type": "display_data",
          "data": {
            "text/plain": [
              "merges.txt:   0%|          | 0.00/1.27M [00:00<?, ?B/s]"
            ],
            "application/vnd.jupyter.widget-view+json": {
              "version_major": 2,
              "version_minor": 0,
              "model_id": "ac3057cbee1d4514aaddee44f4e24ecc"
            }
          },
          "metadata": {}
        },
        {
          "output_type": "display_data",
          "data": {
            "text/plain": [
              "special_tokens_map.json:   0%|          | 0.00/574 [00:00<?, ?B/s]"
            ],
            "application/vnd.jupyter.widget-view+json": {
              "version_major": 2,
              "version_minor": 0,
              "model_id": "c4b1ee27674c48c1a727b0ef67355bae"
            }
          },
          "metadata": {}
        }
      ]
    },
    {
      "cell_type": "markdown",
      "source": [
        "Здесь мы рассматриваем два подхода к токенизации Если у  небольшой датасет (например, несколько тысяч строк), можно использовать .apply(), так как он проще в реализации и не требует дополнительных библиотек.\n",
        "Если с большим датасетом (сотни тысяч или миллионы строк), то стоит использовать Dataset.map(), чтобы ускорить процесс токенизации и уменьшить использование памяти"
      ],
      "metadata": {
        "id": "AN-EgDJ4q0HC"
      }
    },
    {
      "cell_type": "markdown",
      "source": [],
      "metadata": {
        "id": "xtjP8wAurDuw"
      }
    },
    {
      "cell_type": "code",
      "source": [
        "dataset = Dataset.from_pandas(df[['formatted_review']])\n",
        "\n",
        "# Токенизация всех текстов\n",
        "def tokenize_data(batch):\n",
        "    return tokenizer(batch['formatted_review'], truncation=True, padding=\"max_length\", max_length=512)\n",
        "\n",
        "tokenized_dataset = dataset.map(tokenize_data, batched=True)"
      ],
      "metadata": {
        "colab": {
          "base_uri": "https://localhost:8080/",
          "height": 49,
          "referenced_widgets": [
            "eec246795bfe4944b9539752292b48a0",
            "e3713c907fe1410f9210eadfd0b7c193",
            "c6a23d8c0c5345ddba20f9c16ca83474",
            "f38946acb48e411085c0b0d544f562ed",
            "caf11c6d47cc46c3be64edb0e89e4fdf",
            "79b37606c54b429dbc29008de6549416",
            "ab29257df9e142a8985c679afa68b232",
            "9847294b0b6a4be2a6c8bf376db2c219",
            "290ed28f255d4ac4ba2d3052604abe84",
            "12071c11e2004df6be27f800c99f765b",
            "379bf551a52843aab9d21ccf82d43a38"
          ]
        },
        "id": "olvQnPYbqBpp",
        "outputId": "7a5fe79f-f06f-442f-ed4a-24bf41d2604f"
      },
      "execution_count": 8,
      "outputs": [
        {
          "output_type": "display_data",
          "data": {
            "text/plain": [
              "Map:   0%|          | 0/20000 [00:00<?, ? examples/s]"
            ],
            "application/vnd.jupyter.widget-view+json": {
              "version_major": 2,
              "version_minor": 0,
              "model_id": "eec246795bfe4944b9539752292b48a0"
            }
          },
          "metadata": {}
        }
      ]
    },
    {
      "cell_type": "code",
      "source": [
        "# Разделение на train/test\n",
        "train_test_split = tokenized_dataset.train_test_split(test_size=0.1)\n",
        "train_dataset = train_test_split[\"train\"]\n",
        "test_dataset = train_test_split[\"test\"]"
      ],
      "metadata": {
        "id": "0t0yIhmerEYF"
      },
      "execution_count": 9,
      "outputs": []
    },
    {
      "cell_type": "markdown",
      "source": [
        "Collator — это функция или класс, который занимается подготовкой и объединением (батчингом) данных перед их подачей в модель. Это необходимая часть при обучении моделей, так как она отвечает за то, как данные будут подаваться в модель во время тренировки.\n",
        "\n",
        "Когда обучаешь модель на тексте, данные часто представляют собой последовательности (например, предложения или абзацы), которые нужно преобразовать в батчи, чтобы эффективно обучать модель. Collator объединяет эти данные, может делать некоторые преобразования, такие как добавление паддинга или маскировка слов, и передает данные в модель."
      ],
      "metadata": {
        "id": "vwEP5j0brkvu"
      }
    },
    {
      "cell_type": "code",
      "source": [
        "# Создание collator для задачи языкового моделирования\n",
        "data_collator = DataCollatorForLanguageModeling(\n",
        "    tokenizer=tokenizer,\n",
        "    mlm=False,  # GPT-2 не использует маскирование\n",
        ")"
      ],
      "metadata": {
        "id": "Q0alzs0prnbf"
      },
      "execution_count": 10,
      "outputs": []
    },
    {
      "cell_type": "code",
      "source": [
        "train_df = pd.DataFrame(train_dataset)\n",
        "test_df = pd.DataFrame(test_dataset)\n",
        "output_train_file = '/content/drive/My Drive/train_dataset.csv'\n",
        "output_test_file = '/content/drive/My Drive/test_dataset.csv'\n",
        "\n",
        "# Сохраняем train и test в CSV\n",
        "train_df.to_csv(output_train_file, index=False)\n",
        "test_df.to_csv(output_test_file, index=False)\n",
        "\n",
        "print(f\"Train dataset сохранен по пути: {output_train_file}\")\n",
        "print(f\"Test dataset сохранен по пути: {output_test_file}\")\n"
      ],
      "metadata": {
        "colab": {
          "base_uri": "https://localhost:8080/"
        },
        "id": "GApT0kuJtjQc",
        "outputId": "0b92ce00-644d-4b73-ec36-f28aeef9b7fd"
      },
      "execution_count": 11,
      "outputs": [
        {
          "output_type": "stream",
          "name": "stdout",
          "text": [
            "Train dataset сохранен по пути: /content/drive/My Drive/train_dataset.csv\n",
            "Test dataset сохранен по пути: /content/drive/My Drive/test_dataset.csv\n"
          ]
        }
      ]
    },
    {
      "cell_type": "markdown",
      "source": [
        "**ОБУЧЕНИЕ МОДЕЛИ**"
      ],
      "metadata": {
        "id": "LVozA9uJsUY5"
      }
    },
    {
      "cell_type": "markdown",
      "source": [
        "Мы обучили модель на основе ai-forever/rugpt3small_based_on_gpt2, которая является легковесной предобученной моделью на русском языке, основанной на архитектуре GPT-2. Эта модель была обучена на больших объемах текстовых данных на русском языке и предназначена для задач генерации текста и других приложений языкового моделирования.\n",
        "\n",
        "Основные особенности этой модели:\n",
        "\n",
        "Легковесность: Модель оптимизирована для быстрого выполнения, что позволяет использовать ее на менее мощных вычислительных ресурсах по сравнению с более крупными моделями GPT-3.\n",
        "Предобучение на русскоязычных данных: Модель прошла обучение на текстах на русском языке, что позволяет ей эффективно работать с русскоязычным контекстом, понимая грамматику, стиль и особенности языка.\n",
        "Основана на GPT-2: Модель использует архитектуру GPT-2, которая является мощным инструментом для генерации последовательностей текста с учетом предыдущего контекста."
      ],
      "metadata": {
        "id": "rzHRBACFsaPv"
      }
    },
    {
      "cell_type": "code",
      "source": [
        "\n",
        "from transformers import AutoTokenizer, AutoModelForCausalLM"
      ],
      "metadata": {
        "id": "a9mqgLHCt8c7"
      },
      "execution_count": 11,
      "outputs": []
    },
    {
      "cell_type": "code",
      "source": [
        "# Загрузка модели\n",
        "model = AutoModelForCausalLM.from_pretrained(\"ai-forever/rugpt3small_based_on_gpt2\")"
      ],
      "metadata": {
        "colab": {
          "base_uri": "https://localhost:8080/",
          "height": 81,
          "referenced_widgets": [
            "d41144351edd40d790ea3ec1db505241",
            "5600166d14344d8a9e6f95008d78feb2",
            "48e860eb5486453698721e1ae9b37808",
            "8f1e0163c2d148b3bdd453c6f76ed90c",
            "8a36ea36ca1649419ce964408915186f",
            "d5284145c728464291badcd146616d56",
            "c316ced42334484d87dfbc04ab9c51ec",
            "753fd8ba673e4df6b6fe3b5eecf712fa",
            "0edf51cf544e487594dca0dfff869603",
            "0f29996bf2cf4f28b1f0193f4ce7f936",
            "aaaedc21a28f4d63a4217fc16d8ecd57",
            "32b4990d6a814cf7a438e83ad28cad58",
            "2234d56463254d62904d6ecc27dae734",
            "a61a213937984a009f03a94d6c2f2387",
            "f05750c9f4684ed5963c5a14b566476d",
            "9f5e00e2904d488cab927de400ed1f66",
            "395223ee2e6e4e09a3d456f457990727",
            "41e17ddb9d294c00a738d7fdf3757a44",
            "b7f81214f538479db3e36916c3b2b197",
            "7cf7991986ca4e4aa727d50968b30e67",
            "2897c4aacd574e29a1fbcb3a00f95cc5",
            "997a6aa6e2d94a708d41f1eba9342a7f"
          ]
        },
        "id": "bHKJ8NDEuAQb",
        "outputId": "07741919-7998-4dad-e21f-23642974694a"
      },
      "execution_count": 12,
      "outputs": [
        {
          "output_type": "display_data",
          "data": {
            "text/plain": [
              "config.json:   0%|          | 0.00/720 [00:00<?, ?B/s]"
            ],
            "application/vnd.jupyter.widget-view+json": {
              "version_major": 2,
              "version_minor": 0,
              "model_id": "d41144351edd40d790ea3ec1db505241"
            }
          },
          "metadata": {}
        },
        {
          "output_type": "display_data",
          "data": {
            "text/plain": [
              "pytorch_model.bin:   0%|          | 0.00/551M [00:00<?, ?B/s]"
            ],
            "application/vnd.jupyter.widget-view+json": {
              "version_major": 2,
              "version_minor": 0,
              "model_id": "32b4990d6a814cf7a438e83ad28cad58"
            }
          },
          "metadata": {}
        }
      ]
    },
    {
      "cell_type": "code",
      "source": [
        "\n",
        "from transformers import AutoTokenizer, GPT2LMHeadModel, Trainer, TrainingArguments, DataCollatorForLanguageModeling"
      ],
      "metadata": {
        "id": "jeOKC7FsuSjC"
      },
      "execution_count": 13,
      "outputs": []
    },
    {
      "cell_type": "code",
      "source": [
        "# Настройки обучения\n",
        "training_args = TrainingArguments(\n",
        "    fp16=True,  # Включение смешанной точности\n",
        "    output_dir=\"./results\",\n",
        "    evaluation_strategy=\"epoch\",\n",
        "    learning_rate=2e-5, #увеличина скорость обучения, было 5e-5\n",
        "    per_device_train_batch_size=6, #выше не дает, ругается на ограничения\n",
        "    num_train_epochs=0.5,\n",
        "    save_steps=10_000,\n",
        "    save_total_limit=2,\n",
        "    report_to=\"none\",\n",
        ")"
      ],
      "metadata": {
        "colab": {
          "base_uri": "https://localhost:8080/"
        },
        "id": "QgdkNVF5uWrm",
        "outputId": "e013da92-6083-4ca8-db39-f6403b9875e0"
      },
      "execution_count": 14,
      "outputs": [
        {
          "output_type": "stream",
          "name": "stderr",
          "text": [
            "/usr/local/lib/python3.11/dist-packages/transformers/training_args.py:1575: FutureWarning: `evaluation_strategy` is deprecated and will be removed in version 4.46 of 🤗 Transformers. Use `eval_strategy` instead\n",
            "  warnings.warn(\n"
          ]
        }
      ]
    },
    {
      "cell_type": "code",
      "source": [
        "!pip install wandb"
      ],
      "metadata": {
        "colab": {
          "base_uri": "https://localhost:8080/"
        },
        "id": "QCZ8cBXHuqF7",
        "outputId": "ce7619d4-1427-4b83-a1fe-2ee2b66a4366"
      },
      "execution_count": 17,
      "outputs": [
        {
          "output_type": "stream",
          "name": "stdout",
          "text": [
            "Requirement already satisfied: wandb in /usr/local/lib/python3.11/dist-packages (0.19.5)\n",
            "Requirement already satisfied: click!=8.0.0,>=7.1 in /usr/local/lib/python3.11/dist-packages (from wandb) (8.1.8)\n",
            "Requirement already satisfied: docker-pycreds>=0.4.0 in /usr/local/lib/python3.11/dist-packages (from wandb) (0.4.0)\n",
            "Requirement already satisfied: gitpython!=3.1.29,>=1.0.0 in /usr/local/lib/python3.11/dist-packages (from wandb) (3.1.44)\n",
            "Requirement already satisfied: platformdirs in /usr/local/lib/python3.11/dist-packages (from wandb) (4.3.6)\n",
            "Requirement already satisfied: protobuf!=4.21.0,!=5.28.0,<6,>=3.19.0 in /usr/local/lib/python3.11/dist-packages (from wandb) (4.25.6)\n",
            "Requirement already satisfied: psutil>=5.0.0 in /usr/local/lib/python3.11/dist-packages (from wandb) (5.9.5)\n",
            "Requirement already satisfied: pydantic<3,>=2.6 in /usr/local/lib/python3.11/dist-packages (from wandb) (2.10.6)\n",
            "Requirement already satisfied: pyyaml in /usr/local/lib/python3.11/dist-packages (from wandb) (6.0.2)\n",
            "Requirement already satisfied: requests<3,>=2.0.0 in /usr/local/lib/python3.11/dist-packages (from wandb) (2.32.3)\n",
            "Requirement already satisfied: sentry-sdk>=2.0.0 in /usr/local/lib/python3.11/dist-packages (from wandb) (2.20.0)\n",
            "Requirement already satisfied: setproctitle in /usr/local/lib/python3.11/dist-packages (from wandb) (1.3.4)\n",
            "Requirement already satisfied: setuptools in /usr/local/lib/python3.11/dist-packages (from wandb) (75.1.0)\n",
            "Requirement already satisfied: typing-extensions<5,>=4.4 in /usr/local/lib/python3.11/dist-packages (from wandb) (4.12.2)\n",
            "Requirement already satisfied: six>=1.4.0 in /usr/local/lib/python3.11/dist-packages (from docker-pycreds>=0.4.0->wandb) (1.17.0)\n",
            "Requirement already satisfied: gitdb<5,>=4.0.1 in /usr/local/lib/python3.11/dist-packages (from gitpython!=3.1.29,>=1.0.0->wandb) (4.0.12)\n",
            "Requirement already satisfied: annotated-types>=0.6.0 in /usr/local/lib/python3.11/dist-packages (from pydantic<3,>=2.6->wandb) (0.7.0)\n",
            "Requirement already satisfied: pydantic-core==2.27.2 in /usr/local/lib/python3.11/dist-packages (from pydantic<3,>=2.6->wandb) (2.27.2)\n",
            "Requirement already satisfied: charset-normalizer<4,>=2 in /usr/local/lib/python3.11/dist-packages (from requests<3,>=2.0.0->wandb) (3.4.1)\n",
            "Requirement already satisfied: idna<4,>=2.5 in /usr/local/lib/python3.11/dist-packages (from requests<3,>=2.0.0->wandb) (3.10)\n",
            "Requirement already satisfied: urllib3<3,>=1.21.1 in /usr/local/lib/python3.11/dist-packages (from requests<3,>=2.0.0->wandb) (2.3.0)\n",
            "Requirement already satisfied: certifi>=2017.4.17 in /usr/local/lib/python3.11/dist-packages (from requests<3,>=2.0.0->wandb) (2024.12.14)\n",
            "Requirement already satisfied: smmap<6,>=3.0.1 in /usr/local/lib/python3.11/dist-packages (from gitdb<5,>=4.0.1->gitpython!=3.1.29,>=1.0.0->wandb) (5.0.2)\n"
          ]
        }
      ]
    },
    {
      "cell_type": "code",
      "source": [
        "!pip install --upgrade transformers\n"
      ],
      "metadata": {
        "colab": {
          "base_uri": "https://localhost:8080/"
        },
        "id": "y1sov75ivTgY",
        "outputId": "5344dfed-6367-41af-b312-3d0868f6d60f"
      },
      "execution_count": 13,
      "outputs": [
        {
          "output_type": "stream",
          "name": "stdout",
          "text": [
            "Requirement already satisfied: transformers in /usr/local/lib/python3.11/dist-packages (4.48.2)\n",
            "Requirement already satisfied: filelock in /usr/local/lib/python3.11/dist-packages (from transformers) (3.17.0)\n",
            "Requirement already satisfied: huggingface-hub<1.0,>=0.24.0 in /usr/local/lib/python3.11/dist-packages (from transformers) (0.27.1)\n",
            "Requirement already satisfied: numpy>=1.17 in /usr/local/lib/python3.11/dist-packages (from transformers) (1.26.4)\n",
            "Requirement already satisfied: packaging>=20.0 in /usr/local/lib/python3.11/dist-packages (from transformers) (24.2)\n",
            "Requirement already satisfied: pyyaml>=5.1 in /usr/local/lib/python3.11/dist-packages (from transformers) (6.0.2)\n",
            "Requirement already satisfied: regex!=2019.12.17 in /usr/local/lib/python3.11/dist-packages (from transformers) (2024.11.6)\n",
            "Requirement already satisfied: requests in /usr/local/lib/python3.11/dist-packages (from transformers) (2.32.3)\n",
            "Requirement already satisfied: tokenizers<0.22,>=0.21 in /usr/local/lib/python3.11/dist-packages (from transformers) (0.21.0)\n",
            "Requirement already satisfied: safetensors>=0.4.1 in /usr/local/lib/python3.11/dist-packages (from transformers) (0.5.2)\n",
            "Requirement already satisfied: tqdm>=4.27 in /usr/local/lib/python3.11/dist-packages (from transformers) (4.67.1)\n",
            "Requirement already satisfied: fsspec>=2023.5.0 in /usr/local/lib/python3.11/dist-packages (from huggingface-hub<1.0,>=0.24.0->transformers) (2024.9.0)\n",
            "Requirement already satisfied: typing-extensions>=3.7.4.3 in /usr/local/lib/python3.11/dist-packages (from huggingface-hub<1.0,>=0.24.0->transformers) (4.12.2)\n",
            "Requirement already satisfied: charset-normalizer<4,>=2 in /usr/local/lib/python3.11/dist-packages (from requests->transformers) (3.4.1)\n",
            "Requirement already satisfied: idna<4,>=2.5 in /usr/local/lib/python3.11/dist-packages (from requests->transformers) (3.10)\n",
            "Requirement already satisfied: urllib3<3,>=1.21.1 in /usr/local/lib/python3.11/dist-packages (from requests->transformers) (2.3.0)\n",
            "Requirement already satisfied: certifi>=2017.4.17 in /usr/local/lib/python3.11/dist-packages (from requests->transformers) (2024.12.14)\n"
          ]
        }
      ]
    },
    {
      "cell_type": "code",
      "source": [
        "from transformers import Trainer\n",
        "import torch\n",
        "\n",
        "# Проверяем, доступен ли GPU (CUDA)\n",
        "device = torch.device(\"cuda\" if torch.cuda.is_available() else \"cpu\")\n",
        "\n",
        "# Trainer\n",
        "trainer = Trainer(\n",
        "    model=model.to(device),\n",
        "    args=training_args,\n",
        "    train_dataset=train_dataset,\n",
        "    eval_dataset=test_dataset,\n",
        "    tokenizer=tokenizer,\n",
        "    data_collator=data_collator\n",
        ")\n"
      ],
      "metadata": {
        "colab": {
          "base_uri": "https://localhost:8080/"
        },
        "id": "Ag2jRA71umIe",
        "outputId": "3bd18402-3049-4829-d281-666c526dfd83"
      },
      "execution_count": 15,
      "outputs": [
        {
          "output_type": "stream",
          "name": "stderr",
          "text": [
            "<ipython-input-15-4cf484f6f4d3>:8: FutureWarning: `tokenizer` is deprecated and will be removed in version 5.0.0 for `Trainer.__init__`. Use `processing_class` instead.\n",
            "  trainer = Trainer(\n"
          ]
        }
      ]
    },
    {
      "cell_type": "code",
      "source": [
        "# Обучение модели\n",
        "trainer.train()"
      ],
      "metadata": {
        "colab": {
          "base_uri": "https://localhost:8080/",
          "height": 159
        },
        "id": "1N0KiJsowiqB",
        "outputId": "5a72f007-f174-44c6-b5ab-c104a63ddb19"
      },
      "execution_count": 16,
      "outputs": [
        {
          "output_type": "display_data",
          "data": {
            "text/plain": [
              "<IPython.core.display.HTML object>"
            ],
            "text/html": [
              "\n",
              "    <div>\n",
              "      \n",
              "      <progress value='1500' max='1500' style='width:300px; height:20px; vertical-align: middle;'></progress>\n",
              "      [1500/1500 08:55, Epoch 0/1]\n",
              "    </div>\n",
              "    <table border=\"1\" class=\"dataframe\">\n",
              "  <thead>\n",
              " <tr style=\"text-align: left;\">\n",
              "      <th>Epoch</th>\n",
              "      <th>Training Loss</th>\n",
              "      <th>Validation Loss</th>\n",
              "    </tr>\n",
              "  </thead>\n",
              "  <tbody>\n",
              "    <tr>\n",
              "      <td>0</td>\n",
              "      <td>3.669100</td>\n",
              "      <td>3.600940</td>\n",
              "    </tr>\n",
              "  </tbody>\n",
              "</table><p>"
            ]
          },
          "metadata": {}
        },
        {
          "output_type": "execute_result",
          "data": {
            "text/plain": [
              "TrainOutput(global_step=1500, training_loss=3.8051502278645835, metrics={'train_runtime': 536.777, 'train_samples_per_second': 16.767, 'train_steps_per_second': 2.794, 'total_flos': 2351628288000000.0, 'train_loss': 3.8051502278645835, 'epoch': 0.5})"
            ]
          },
          "metadata": {},
          "execution_count": 16
        }
      ]
    },
    {
      "cell_type": "code",
      "source": [
        "# Сохранение модели\n",
        "output_dir = \"./saved_model\"\n",
        "\n",
        "trainer.save_model(output_dir)\n",
        "tokenizer.save_pretrained(output_dir)"
      ],
      "metadata": {
        "colab": {
          "base_uri": "https://localhost:8080/"
        },
        "id": "f_0BBk0d5mS8",
        "outputId": "d8c5dbb5-b6a2-401f-c659-5bad12c70a45"
      },
      "execution_count": 17,
      "outputs": [
        {
          "output_type": "execute_result",
          "data": {
            "text/plain": [
              "('./saved_model/tokenizer_config.json',\n",
              " './saved_model/special_tokens_map.json',\n",
              " './saved_model/vocab.json',\n",
              " './saved_model/merges.txt',\n",
              " './saved_model/added_tokens.json',\n",
              " './saved_model/tokenizer.json')"
            ]
          },
          "metadata": {},
          "execution_count": 17
        }
      ]
    },
    {
      "cell_type": "code",
      "source": [
        "# Входные параметры\n",
        "rubrics = \"Быстрое питание\"\n",
        "rating = 5"
      ],
      "metadata": {
        "id": "GeWuU0Kc51-x"
      },
      "execution_count": 19,
      "outputs": []
    },
    {
      "cell_type": "code",
      "source": [
        "\n",
        "# Формирование входного текста\n",
        "input_text = f\"rubrics = {rubrics}\\nrating = {rating}\\n\""
      ],
      "metadata": {
        "id": "fshPARt2544S"
      },
      "execution_count": 20,
      "outputs": []
    },
    {
      "cell_type": "code",
      "source": [
        "\n",
        "# Токенизация текста\n",
        "inputs = tokenizer(input_text, return_tensors=\"pt\").to(device)"
      ],
      "metadata": {
        "id": "9qGgOjr_6Ewu"
      },
      "execution_count": 21,
      "outputs": []
    },
    {
      "cell_type": "code",
      "source": [
        "output = model.generate(\n",
        "    **inputs,\n",
        "    max_length=40,\n",
        "    temperature=1.9,\n",
        "    do_sample=True,\n",
        "    num_return_sequences=3,\n",
        "    eos_token_id=tokenizer.eos_token_id,  # Установка токена конца последовательности\n",
        "    pad_token_id=tokenizer.eos_token_id,  # Использовать тот же токен для паддинга\n",
        "    early_stopping=True,  # Раннее завершение на токене конца\n",
        "    top_k=30,         # Уменьшаем количество рассматриваемых верхних k слов\n",
        "    top_p=0.8,        # Уменьшаем \"ядерность\" распределения\n",
        ")"
      ],
      "metadata": {
        "colab": {
          "base_uri": "https://localhost:8080/"
        },
        "id": "MhyV0pdQ6NMe",
        "outputId": "a77b4740-2c7e-442e-9ccc-a7d824db043a"
      },
      "execution_count": 22,
      "outputs": [
        {
          "output_type": "stream",
          "name": "stderr",
          "text": [
            "/usr/local/lib/python3.11/dist-packages/transformers/generation/configuration_utils.py:676: UserWarning: `num_beams` is set to 1. However, `early_stopping` is set to `True` -- this flag is only used in beam-based generation modes. You should set `num_beams>1` or unset `early_stopping`.\n",
            "  warnings.warn(\n"
          ]
        }
      ]
    },
    {
      "cell_type": "code",
      "source": [
        "\n",
        "# Декодирование всех сгенерированных текстов\n",
        "for i, sequence in enumerate(output):\n",
        "    generated_text = tokenizer.decode(sequence, skip_special_tokens=True)\n",
        "    print(f\"Generated text {i + 1}:\")\n",
        "    print(generated_text)\n",
        "    print()"
      ],
      "metadata": {
        "colab": {
          "base_uri": "https://localhost:8080/"
        },
        "id": "SYDeBtvC6QtR",
        "outputId": "aea7f62f-912e-41e3-e8eb-e958a43fc613"
      },
      "execution_count": 23,
      "outputs": [
        {
          "output_type": "stream",
          "name": "stdout",
          "text": [
            "Generated text 1:\n",
            "rubrics = Быстрое питание\n",
            "rating = 5\n",
            "Кафе и рестораны поблизости;Ресторан: Rating is 3. Review Content: не знаю что лучше но на самом деле\n",
            "\n",
            "Generated text 2:\n",
            "rubrics = Быстрое питание\n",
            "rating = 5\n",
            "puppet2pupper: вкусная выпечка и много мяса очень вкусно и просто быстро нареканий нет есть минусы не\n",
            "\n",
            "Generated text 3:\n",
            "rubrics = Быстрое питание\n",
            "rating = 5\n",
            "Супер выбор продукции на сайте\n",
            "Пицца;Пиццу соусы;Пекинская пицца: Rating is 1\n",
            "\n"
          ]
        }
      ]
    }
  ]
}